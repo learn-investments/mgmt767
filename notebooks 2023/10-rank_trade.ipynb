{
 "cells": [
  {
   "cell_type": "code",
   "execution_count": 6,
   "metadata": {},
   "outputs": [
    {
     "name": "stderr",
     "output_type": "stream",
     "text": [
      "c:\\Users\\keb7\\repos\\mgmt767-binder\\venv\\lib\\site-packages\\sklearn\\base.py:288: UserWarning: Trying to unpickle estimator PolynomialFeatures from version 1.1.2 when using version 1.2.0. This might lead to breaking code or invalid results. Use at your own risk. For more info please refer to:\n",
      "https://scikit-learn.org/stable/model_persistence.html#security-maintainability-limitations\n",
      "  warnings.warn(\n",
      "c:\\Users\\keb7\\repos\\mgmt767-binder\\venv\\lib\\site-packages\\sklearn\\base.py:288: UserWarning: Trying to unpickle estimator LinearRegression from version 1.1.2 when using version 1.2.0. This might lead to breaking code or invalid results. Use at your own risk. For more info please refer to:\n",
      "https://scikit-learn.org/stable/model_persistence.html#security-maintainability-limitations\n",
      "  warnings.warn(\n",
      "c:\\Users\\keb7\\repos\\mgmt767-binder\\venv\\lib\\site-packages\\sklearn\\base.py:288: UserWarning: Trying to unpickle estimator Pipeline from version 1.1.2 when using version 1.2.0. This might lead to breaking code or invalid results. Use at your own risk. For more info please refer to:\n",
      "https://scikit-learn.org/stable/model_persistence.html#security-maintainability-limitations\n",
      "  warnings.warn(\n"
     ]
    }
   ],
   "source": [
    "\n",
    "import pandas as pd\n",
    "import numpy as np\n",
    "\n",
    "from sklearn.linear_model import LinearRegression\n",
    "from sklearn.preprocessing import QuantileTransformer\n",
    "from joblib import load\n",
    "\n",
    "from sqlalchemy import create_engine\n",
    "import pymssql\n",
    "from datetime import datetime\n",
    "\n",
    "from alpaca.trading.client import TradingClient\n",
    "from alpaca.data import StockHistoricalDataClient\n",
    "from alpaca.data.requests import StockLatestQuoteRequest\n",
    "from alpaca.trading.requests import MarketOrderRequest, GetAssetsRequest\n",
    "from alpaca.trading.enums import OrderSide, TimeInForce, AssetClass\n",
    "\n",
    "KEY = \"PKX210XR6N17LF7WIWC8\"\n",
    "SECRET_KEY = \"Cc6VXW58xRrsMQ98kbkZvw5dAOKKPMZaiRpLGraG\"\n",
    "numstocks = 200\n",
    "\n",
    "qt = QuantileTransformer(output_distribution=\"normal\")\n",
    "pipe = load(\"files/linear_model_2023-01-20.joblib\")"
   ]
  },
  {
   "attachments": {},
   "cell_type": "markdown",
   "metadata": {},
   "source": [
    "## Rank stocks"
   ]
  },
  {
   "cell_type": "code",
   "execution_count": null,
   "metadata": {},
   "outputs": [],
   "source": [
    "import numpy as np\n",
    "import pandas as pd\n",
    "from sqlalchemy import create_engine\n",
    "from sklearn.ensemble import RandomForestRegressor\n",
    "import matplotlib.pyplot as plt \n",
    "import seaborn as sns \n",
    "sns.set_style(\"whitegrid\")"
   ]
  },
  {
   "cell_type": "markdown",
   "metadata": {},
   "source": [
    "## Build Feature Dataset"
   ]
  },
  {
   "cell_type": "markdown",
   "metadata": {},
   "source": [
    "### SQL \n",
    "\n",
    "- Don't need much history.  Start here in 2022."
   ]
  },
  {
   "cell_type": "code",
   "execution_count": null,
   "metadata": {},
   "outputs": [],
   "source": [
    "server = 'fs.rice.edu'\n",
    "database = 'stocks'\n",
    "username = 'stocks'\n",
    "password = '6LAZH1'\n",
    "driver = 'SQL+Server'\n",
    "string = f\"mssql+pyodbc://{username}:{password}@{server}/{database}\" \n",
    "try: \n",
    "    conn = create_engine(string + \"?driver='SQL+Server'\").connect()\n",
    "except:\n",
    "    try:\n",
    "        conn = create_engine(string + \"?driver='ODBC+Driver+18+for+SQL+Server'\").connect()\n",
    "    except:\n",
    "        import pymssql\n",
    "        string = f\"mssql+pymssql://{username}:{password}@{server}/{database}\"   \n",
    "        conn = create_engine(string).connect() "
   ]
  },
  {
   "cell_type": "code",
   "execution_count": null,
   "metadata": {},
   "outputs": [],
   "source": [
    "sep_weekly = pd.read_sql(\n",
    "    \"\"\" \n",
    "    select date, ticker, closeadj, closeunadj, volume, lastupdated from sep_weekly \n",
    "    where date >= '2022-01-01'\n",
    "    order by ticker, date, lastupdated    \n",
    "    \"\"\",\n",
    "    conn,\n",
    ")\n",
    "sep_weekly = sep_weekly.groupby([\"ticker\", \"date\"]).last()\n",
    "sep_weekly = sep_weekly.drop(columns=[\"lastupdated\"])\n",
    "\n",
    "ret = sep_weekly.groupby(\"ticker\", group_keys=False).closeadj.pct_change()\n",
    "ret.name = \"ret\"\n",
    "\n",
    "price = sep_weekly.closeunadj\n",
    "price.name = \"price\"\n",
    "\n",
    "volume = sep_weekly.volume \n",
    "volume.name = \"volume\""
   ]
  },
  {
   "cell_type": "code",
   "execution_count": null,
   "metadata": {},
   "outputs": [],
   "source": [
    "ret_annual = sep_weekly.groupby(\"ticker\", group_keys=False).closeadj.pct_change(52)\n",
    "ret_monthly = sep_weekly.groupby(\"ticker\", group_keys=False).closeadj.pct_change(4)\n",
    "mom = (1 + ret_annual) / (1 + ret_monthly) - 1\n",
    "mom.name = \"mom\""
   ]
  },
  {
   "cell_type": "code",
   "execution_count": null,
   "metadata": {},
   "outputs": [],
   "source": [
    "weekly = pd.read_sql(\n",
    "    \"\"\" \n",
    "    select date, ticker, pb, marketcap, lastupdated from weekly \n",
    "    where date>='2022-01-01'\n",
    "    order by ticker, date, lastupdated    \n",
    "    \"\"\",\n",
    "    conn,\n",
    ")\n",
    "weekly = weekly.groupby([\"ticker\", \"date\"]).last()\n",
    "weekly = weekly.drop(columns=[\"lastupdated\"])\n",
    "\n",
    "pb = weekly.pb\n",
    "pb.name = \"pb\" \n",
    "marketcap = weekly.marketcap \n",
    "marketcap.name = \"marketcap\""
   ]
  },
  {
   "cell_type": "code",
   "execution_count": null,
   "metadata": {},
   "outputs": [],
   "source": [
    "sf1 = pd.read_sql(\n",
    "    \"\"\" \n",
    "    select datekey as date, ticker, assets, netinc, equity, lastupdated from sf1\n",
    "    where datekey>='2022-01-01' and dimension='ARY' and assets>0 and equity>0\n",
    "    order by ticker, datekey, lastupdated    \n",
    "    \"\"\",\n",
    "    conn,\n",
    ")\n",
    "sf1 = sf1.groupby([\"ticker\", \"date\"]).last()\n",
    "sf1 = sf1.drop(columns=[\"lastupdated\"])\n",
    "\n",
    "# change dates to Fridays\n",
    "from datetime import timedelta \n",
    "sf1 = sf1.reset_index()\n",
    "sf1.date =sf1.date.map(\n",
    "    lambda x: x + timedelta(4 - x.weekday())\n",
    ")\n",
    "sf1 = sf1.set_index([\"ticker\", \"date\"])\n",
    "sf1 = sf1[~sf1.index.duplicated()]\n",
    "\n",
    "assets = sf1.assets\n",
    "assets.name = \"assets\" \n",
    "netinc = sf1.netinc \n",
    "netinc.name = \"netinc\" \n",
    "equity = sf1.equity\n",
    "equity.name = \"equity\"\n",
    "\n",
    "equity = equity.groupby(\"ticker\", group_keys=False).shift() \n",
    "roe = netinc / equity \n",
    "roe.name = \"roe\"\n",
    "\n",
    "assetgr = assets.groupby(\"ticker\", group_keys=False).pct_change()\n",
    "assetgr.name = \"assetgr\""
   ]
  },
  {
   "cell_type": "markdown",
   "metadata": {},
   "source": [
    "### Merge\n",
    "\n",
    "- Don't need returns (won't know future return today)."
   ]
  },
  {
   "cell_type": "code",
   "execution_count": null,
   "metadata": {},
   "outputs": [],
   "source": [
    "df = pd.concat(\n",
    "    (\n",
    "        mom, \n",
    "        volume,\n",
    "        price, \n",
    "        pb, \n",
    "        marketcap, \n",
    "        roe, \n",
    "        assetgr\n",
    "        ), \n",
    "        axis=1\n",
    "    )\n",
    "df[\"roe\"] = df.groupby(\"ticker\", group_keys=False).roe.ffill()\n",
    "df[\"assetgr\"] = df.groupby(\"ticker\", group_keys=False).assetgr.ffill()\n",
    "\n",
    "df = df.reset_index()\n",
    "df.date = df.date.astype(str)\n",
    "df = df[df.date==df.date.max()]\n",
    "df = df[df.price >= 5]\n",
    "df = df.dropna()\n",
    "\n",
    "features = [\n",
    "    \"mom\",\n",
    "    \"volume\",\n",
    "    \"pb\",\n",
    "    \"marketcap\",\n",
    "    \"roe\",\n",
    "    \"assetgr\" \n",
    "]"
   ]
  },
  {
   "cell_type": "markdown",
   "metadata": {},
   "source": [
    "### Industries"
   ]
  },
  {
   "cell_type": "code",
   "execution_count": null,
   "metadata": {},
   "outputs": [],
   "source": [
    "industries = pd.read_sql(\n",
    "    \"\"\" \n",
    "    select ticker, famaindustry as industry from tickers   \n",
    "    \"\"\",\n",
    "    conn,\n",
    ")\n",
    "industries[\"industry\"] = industries.industry.fillna(\"Almost Nothing\")\n",
    "df = df.merge(industries, on=\"ticker\", how=\"left\")"
   ]
  },
  {
   "cell_type": "code",
   "execution_count": null,
   "metadata": {},
   "outputs": [],
   "source": [
    "for x in features:\n",
    "    df[f\"{x}_industry\"] = df.groupby(\n",
    "        [\"industry\"], \n",
    "        group_keys=False\n",
    "    )[x].apply(\n",
    "        lambda x: x - x.median()\n",
    "    )\n",
    "\n",
    "features += [f\"{x}_industry\" for x in features]"
   ]
  },
  {
   "cell_type": "markdown",
   "metadata": {},
   "source": [
    "### Standardize"
   ]
  },
  {
   "cell_type": "code",
   "execution_count": null,
   "metadata": {},
   "outputs": [],
   "source": [
    "for f in features:\n",
    "    df[f] = df[f].rank(pct=True)"
   ]
  },
  {
   "cell_type": "markdown",
   "metadata": {},
   "source": [
    "## Load Model, Predict, and Sort\n",
    "\n",
    "- Sort dataframe so best stocks are at beginning."
   ]
  },
  {
   "cell_type": "code",
   "execution_count": null,
   "metadata": {},
   "outputs": [],
   "source": [
    "from joblib import load\n",
    "model = load(\"mymodel.joblib\")\n",
    "df[\"predict\"] = model.predict(df[features])\n",
    "df = df.sort_values(by=\"predict\", ascending=False)"
   ]
  },
  {
   "attachments": {},
   "cell_type": "markdown",
   "metadata": {},
   "source": [
    "## Get data from Alpaca"
   ]
  },
  {
   "cell_type": "code",
   "execution_count": 7,
   "metadata": {},
   "outputs": [
    {
     "ename": "FileNotFoundError",
     "evalue": "[Errno 2] No such file or directory: 'keys.txt'",
     "output_type": "error",
     "traceback": [
      "\u001b[1;31m---------------------------------------------------------------------------\u001b[0m",
      "\u001b[1;31mFileNotFoundError\u001b[0m                         Traceback (most recent call last)",
      "Cell \u001b[1;32mIn [7], line 5\u001b[0m\n\u001b[0;32m      2\u001b[0m \u001b[38;5;28;01mfrom\u001b[39;00m \u001b[38;5;21;01malpaca\u001b[39;00m\u001b[38;5;21;01m.\u001b[39;00m\u001b[38;5;21;01mtrading\u001b[39;00m\u001b[38;5;21;01m.\u001b[39;00m\u001b[38;5;21;01mrequests\u001b[39;00m \u001b[38;5;28;01mimport\u001b[39;00m MarketOrderRequest\n\u001b[0;32m      3\u001b[0m \u001b[38;5;28;01mfrom\u001b[39;00m \u001b[38;5;21;01malpaca\u001b[39;00m\u001b[38;5;21;01m.\u001b[39;00m\u001b[38;5;21;01mtrading\u001b[39;00m\u001b[38;5;21;01m.\u001b[39;00m\u001b[38;5;21;01menums\u001b[39;00m \u001b[38;5;28;01mimport\u001b[39;00m OrderSide, TimeInForce\n\u001b[1;32m----> 5\u001b[0m \u001b[38;5;28;01mwith\u001b[39;00m \u001b[38;5;28;43mopen\u001b[39;49m\u001b[43m(\u001b[49m\u001b[38;5;124;43m\"\u001b[39;49m\u001b[38;5;124;43mkeys.txt\u001b[39;49m\u001b[38;5;124;43m\"\u001b[39;49m\u001b[43m,\u001b[49m\u001b[43m \u001b[49m\u001b[38;5;124;43m\"\u001b[39;49m\u001b[38;5;124;43mr\u001b[39;49m\u001b[38;5;124;43m\"\u001b[39;49m\u001b[43m)\u001b[49m \u001b[38;5;28;01mas\u001b[39;00m f:\n\u001b[0;32m      6\u001b[0m     keys \u001b[38;5;241m=\u001b[39m f\u001b[38;5;241m.\u001b[39mreadlines()\n\u001b[0;32m      8\u001b[0m key \u001b[38;5;241m=\u001b[39m keys[\u001b[38;5;241m0\u001b[39m]\u001b[38;5;241m.\u001b[39mstrip() \n",
      "\u001b[1;31mFileNotFoundError\u001b[0m: [Errno 2] No such file or directory: 'keys.txt'"
     ]
    }
   ],
   "source": [
    "from alpaca.trading.client import TradingClient\n",
    "from alpaca.trading.requests import MarketOrderRequest\n",
    "from alpaca.trading.enums import OrderSide, TimeInForce\n",
    "\n",
    "with open(\"keys.txt\", \"r\") as f:\n",
    "    keys = f.readlines()\n",
    "\n",
    "key = keys[0].strip() \n",
    "secret_key = keys[1].strip()\n",
    "trading_client = TradingClient(key, secret_key, paper=True)"
   ]
  },
  {
   "attachments": {},
   "cell_type": "markdown",
   "metadata": {},
   "source": [
    "### Account equity"
   ]
  },
  {
   "cell_type": "code",
   "execution_count": 7,
   "metadata": {},
   "outputs": [],
   "source": [
    "account = trading_client.get_account()\n",
    "equity = float(account.equity)"
   ]
  },
  {
   "cell_type": "code",
   "execution_count": null,
   "metadata": {},
   "outputs": [],
   "source": [
    "with open(\"keys.txt\", \"r\") as f:\n",
    "    keys = f.readlines()\n",
    "\n",
    "key = keys[0].strip() \n",
    "secret_key = keys[1].strip()\n",
    "trading_client = TradingClient(key, secret_key, paper=True)"
   ]
  },
  {
   "cell_type": "markdown",
   "metadata": {},
   "source": [
    "### Positions"
   ]
  },
  {
   "cell_type": "code",
   "execution_count": null,
   "metadata": {},
   "outputs": [],
   "source": [
    "positions = trading_client.get_all_positions()\n",
    "if len(positions) > 0:\n",
    "    df[\"current\"] = {x.symbol: int(x.qty) for x in positions}\n",
    "    df[\"current\"] = df.current.fillna(0)\n",
    "else:\n",
    "    df[\"current\"] = 0"
   ]
  },
  {
   "attachments": {},
   "cell_type": "markdown",
   "metadata": {},
   "source": [
    "#### Tradable and shortable "
   ]
  },
  {
   "cell_type": "code",
   "execution_count": 8,
   "metadata": {},
   "outputs": [],
   "source": [
    "assets = trading_client.get_all_assets()\n",
    "\n",
    "assets = [\n",
    "    x for x in assets \n",
    "    if (x.asset_class[:]=='us_equity') \n",
    "    and (x.symbol in df.index) \n",
    "    and (x.status[:]=='active')\n",
    "]\n",
    "df[\"tradable\"]= {x.symbol: x.tradable for x in assets}\n",
    "df[\"shortable\"] = {x.symbol: x.shortable for x in assets}"
   ]
  },
  {
   "attachments": {},
   "cell_type": "markdown",
   "metadata": {},
   "source": [
    "## Trade"
   ]
  },
  {
   "cell_type": "markdown",
   "metadata": {},
   "source": [
    "### Rebalance SPY"
   ]
  },
  {
   "cell_type": "code",
   "execution_count": null,
   "metadata": {},
   "outputs": [],
   "source": [
    "import yfinance as yf \n",
    "price = yf.download(\"SPY\", start=2024)[\"Close\"].iloc[-1]\n",
    "shares = int(equity / price)\n",
    "\n",
    "market_order_data = MarketOrderRequest(\n",
    "    symbol=tick,\n",
    "    qty=-df.loc[tick, \"trade\"],\n",
    "                side=OrderSide.SELL,\n",
    "                time_in_force=TimeInForce.DAY\n",
    "            )\n",
    "            market_order = trading_client.submit_order(\n",
    "                order_data=market_order_data\n",
    "            )"
   ]
  },
  {
   "attachments": {},
   "cell_type": "markdown",
   "metadata": {},
   "source": [
    "#### Calculate target positions"
   ]
  },
  {
   "cell_type": "code",
   "execution_count": 11,
   "metadata": {},
   "outputs": [],
   "source": [
    "numstocks = 50 ## number long and number short \n",
    "dollars_per_stock = 0.4*equity / numstocks\n",
    "\n",
    "\n",
    "df = df.sort_values(by=\"rnk\")\n",
    "\n",
    "try:\n",
    "    short_cutoff = df[df.shortable & (df.bid>0)].rnk.iloc[numstocks-1]\n",
    "    long_cutoff = df[df.tradable & (df.ask>0)].rnk.iloc[-numstocks]\n",
    "    df[\"target\"] = np.where(\n",
    "        df.shortable & (df.bid>0) & (df.rnk<=short_cutoff),\n",
    "        -short_per_stock/df.bid, \n",
    "        0\n",
    "    )\n",
    "    df[\"target\"] = np.where(\n",
    "        df.tradable & (df.ask>0) & (df.rnk>=long_cutoff), \n",
    "        long_per_stock/df.ask, \n",
    "        df.target\n",
    "    )\n",
    "    df[\"target\"] = df.target.astype(int)\n",
    "except:\n",
    "    df[\"target\"] = 0"
   ]
  },
  {
   "attachments": {},
   "cell_type": "markdown",
   "metadata": {},
   "source": [
    "#### Calculate trades\n",
    "\n",
    "Using a simple but suboptimal protocol: trade to target positions without trying to minimize the number of round trips we might eventually make."
   ]
  },
  {
   "cell_type": "code",
   "execution_count": 12,
   "metadata": {},
   "outputs": [],
   "source": [
    "df[\"trade\"] = df.target - df.current"
   ]
  },
  {
   "attachments": {},
   "cell_type": "markdown",
   "metadata": {},
   "source": [
    "#### Make trades"
   ]
  },
  {
   "cell_type": "code",
   "execution_count": 13,
   "metadata": {},
   "outputs": [],
   "source": [
    "for tick in df.index: \n",
    "    if df.loc[tick, \"trade\"]<0:\n",
    "        try:\n",
    "            market_order_data = MarketOrderRequest(\n",
    "                symbol=tick,\n",
    "                qty=-df.loc[tick, \"trade\"],\n",
    "                side=OrderSide.SELL,\n",
    "                time_in_force=TimeInForce.DAY\n",
    "            )\n",
    "            market_order = trading_client.submit_order(\n",
    "                order_data=market_order_data\n",
    "            )\n",
    "        except:\n",
    "            print(f\"sell order for {tick} failed\")\n",
    "    elif df.loc[tick, \"trade\"]>0:\n",
    "        try:\n",
    "            market_order_data = MarketOrderRequest(\n",
    "                symbol=tick,\n",
    "                qty=df.loc[tick, \"trade\"],\n",
    "                side=OrderSide.BUY,\n",
    "                time_in_force=TimeInForce.DAY\n",
    "            )\n",
    "            market_order = trading_client.submit_order(\n",
    "                order_data=market_order_data\n",
    "            )\n",
    "        except:\n",
    "            print(f\"buy order for {tick} failed\")\n",
    "\n"
   ]
  },
  {
   "attachments": {},
   "cell_type": "markdown",
   "metadata": {},
   "source": [
    "## Save data"
   ]
  },
  {
   "cell_type": "code",
   "execution_count": 14,
   "metadata": {},
   "outputs": [],
   "source": [
    "today = datetime.today().strftime(\"%Y-%m-%d\")\n",
    "\n",
    "df[\"date\"] = today\n",
    "\n",
    "try:\n",
    "    d = pd.read_csv(\"files/trade_data.csv\", index_col=\"ticker\")\n",
    "    d = d[d.date != today]\n",
    "    df = pd.concat((d, df))\n",
    "    df.to_csv(\"files/trade_data.csv\")\n",
    "except:\n",
    "    df.to_csv(\"files/trade_data.csv\")"
   ]
  },
  {
   "cell_type": "code",
   "execution_count": 15,
   "metadata": {},
   "outputs": [
    {
     "name": "stderr",
     "output_type": "stream",
     "text": [
      "C:\\Users\\keb7\\AppData\\Local\\Temp\\ipykernel_107440\\1684087778.py:9: FutureWarning: In a future version, object-dtype columns with all-bool values will not be included in reductions with bool_only=True. Explicitly cast to bool dtype instead.\n",
      "  account = pd.concat((d, account))\n"
     ]
    }
   ],
   "source": [
    "account = trading_client.get_account()\n",
    "account = dict(account)\n",
    "account = pd.DataFrame(pd.Series(account)).T\n",
    "account[\"date\"] = today\n",
    "\n",
    "try:\n",
    "    d = pd.read_csv(\"files/account.csv\")\n",
    "    d = d[d.date != today]\n",
    "    account = pd.concat((d, account))\n",
    "    account.to_csv(\"files/account.csv\")\n",
    "except:\n",
    "    account.to_csv(\"files/account.csv\")\n"
   ]
  },
  {
   "cell_type": "markdown",
   "metadata": {},
   "source": []
  },
  {
   "cell_type": "code",
   "execution_count": 16,
   "metadata": {},
   "outputs": [],
   "source": [
    "positions = trading_client.get_all_positions()\n",
    "positions = {x.symbol: x.qty for x in positions}\n",
    "positions = pd.DataFrame(pd.Series(positions))\n",
    "positions[\"date\"] = today\n",
    "\n",
    "try:\n",
    "    d = pd.read_csv(\"files/positions.csv\")\n",
    "    d = d[d.date != today]\n",
    "    positions = pd.concat((d, positions))\n",
    "    positions.to_csv(\"files/positions.csv\")\n",
    "except:\n",
    "    positions.to_csv(\"files/positions.csv\")"
   ]
  }
 ],
 "metadata": {
  "kernelspec": {
   "display_name": "venv",
   "language": "python",
   "name": "python3"
  },
  "language_info": {
   "codemirror_mode": {
    "name": "ipython",
    "version": 3
   },
   "file_extension": ".py",
   "mimetype": "text/x-python",
   "name": "python",
   "nbconvert_exporter": "python",
   "pygments_lexer": "ipython3",
   "version": "3.10.11"
  },
  "orig_nbformat": 4,
  "vscode": {
   "interpreter": {
    "hash": "24514d992635106b0c080fe619fc409ba929c1b95321a4abd0f8c840fea2ec36"
   }
  }
 },
 "nbformat": 4,
 "nbformat_minor": 2
}
