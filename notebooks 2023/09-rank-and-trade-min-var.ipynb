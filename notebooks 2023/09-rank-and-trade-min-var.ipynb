{
 "cells": [
  {
   "cell_type": "code",
   "execution_count": 8,
   "metadata": {},
   "outputs": [
    {
     "name": "stderr",
     "output_type": "stream",
     "text": [
      "c:\\Users\\keb7\\repos\\mgmt767-binder\\venv\\lib\\site-packages\\sklearn\\base.py:288: UserWarning: Trying to unpickle estimator PolynomialFeatures from version 1.1.2 when using version 1.2.0. This might lead to breaking code or invalid results. Use at your own risk. For more info please refer to:\n",
      "https://scikit-learn.org/stable/model_persistence.html#security-maintainability-limitations\n",
      "  warnings.warn(\n",
      "c:\\Users\\keb7\\repos\\mgmt767-binder\\venv\\lib\\site-packages\\sklearn\\base.py:288: UserWarning: Trying to unpickle estimator LinearRegression from version 1.1.2 when using version 1.2.0. This might lead to breaking code or invalid results. Use at your own risk. For more info please refer to:\n",
      "https://scikit-learn.org/stable/model_persistence.html#security-maintainability-limitations\n",
      "  warnings.warn(\n",
      "c:\\Users\\keb7\\repos\\mgmt767-binder\\venv\\lib\\site-packages\\sklearn\\base.py:288: UserWarning: Trying to unpickle estimator Pipeline from version 1.1.2 when using version 1.2.0. This might lead to breaking code or invalid results. Use at your own risk. For more info please refer to:\n",
      "https://scikit-learn.org/stable/model_persistence.html#security-maintainability-limitations\n",
      "  warnings.warn(\n"
     ]
    }
   ],
   "source": [
    "\n",
    "import pandas as pd\n",
    "import numpy as np\n",
    "\n",
    "from sklearn.linear_model import LinearRegression\n",
    "from sklearn.preprocessing import QuantileTransformer\n",
    "from joblib import load\n",
    "\n",
    "from sqlalchemy import create_engine\n",
    "import pymssql\n",
    "from datetime import datetime\n",
    "\n",
    "from alpaca.trading.client import TradingClient\n",
    "from alpaca.data import StockHistoricalDataClient\n",
    "from alpaca.data.requests import StockLatestQuoteRequest\n",
    "from alpaca.trading.requests import MarketOrderRequest, GetAssetsRequest\n",
    "from alpaca.trading.enums import OrderSide, TimeInForce, AssetClass\n",
    "\n",
    "KEY = \"PKX210XR6N17LF7WIWC8\"\n",
    "SECRET_KEY = \"Cc6VXW58xRrsMQ98kbkZvw5dAOKKPMZaiRpLGraG\"\n",
    "numstocks = 200\n",
    "\n",
    "qt = QuantileTransformer(output_distribution=\"normal\")\n",
    "pipe = load(\"files/linear_model_2023-01-20.joblib\")"
   ]
  },
  {
   "cell_type": "code",
   "execution_count": 2,
   "metadata": {},
   "outputs": [],
   "source": [
    "server = 'fs.rice.edu'\n",
    "database = 'stocks'\n",
    "username = 'stocks'\n",
    "password = '6LAZH1'\n",
    "string = \"mssql+pymssql://\" + username + \":\" + password + \"@\" + server + \"/\" + database \n",
    "conn = create_engine(string).connect()"
   ]
  },
  {
   "attachments": {},
   "cell_type": "markdown",
   "metadata": {},
   "source": [
    "unused code to calculate nonsingular covariance matrix when N>T\n",
    "\n",
    "    def mycov(R):\n",
    "        U, S, Vh = np.linalg.svd(R-R.mean(), full_matrices=False)\n",
    "        B = pd.DataFrame(Vh.T, index=rets.columns)\n",
    "        numdays = R.shape[0]\n",
    "        C = B @ np.diag(S*S/numdays) @ B.T\n",
    "        return C + np.diag(R.var() - np.diag(C))"
   ]
  },
  {
   "attachments": {},
   "cell_type": "markdown",
   "metadata": {},
   "source": [
    "## Get tickers and returns"
   ]
  },
  {
   "cell_type": "code",
   "execution_count": 3,
   "metadata": {},
   "outputs": [],
   "source": [
    "\n",
    "\n",
    "ticks = pd.read_sql(\"select ticker from today\", conn)\n",
    "ticks = ticks[\"ticker\"].to_list()\n",
    "\n",
    "prices = pd.read_sql(\"select ticker, date, close_ from sep order by ticker, date\", conn)\n",
    "prices = prices[(prices.ticker.isin(ticks)) & (prices.date.astype(str)>=\"2022-03-14\")]\n",
    "prices = prices.set_index([\"ticker\", \"date\"]).unstack()\n",
    "prices = prices.dropna()\n",
    "\n",
    "ticks = prices.index.to_list()\n",
    "\n",
    "rets = prices.T.pct_change().iloc[1:]"
   ]
  },
  {
   "attachments": {},
   "cell_type": "markdown",
   "metadata": {},
   "source": [
    "## Rank stocks"
   ]
  },
  {
   "attachments": {},
   "cell_type": "markdown",
   "metadata": {},
   "source": [
    "#### Get features"
   ]
  },
  {
   "cell_type": "code",
   "execution_count": 4,
   "metadata": {},
   "outputs": [],
   "source": [
    "df = pd.read_sql(\n",
    "    \"\"\"\n",
    "    select ticker, date, bm, mom12m, roeq, mve, famaindustry\n",
    "    from today\n",
    "    where price > 5\n",
    "    \"\"\", \n",
    "    conn\n",
    ")\n",
    "conn.close()\n",
    "\n",
    "\n",
    "df = df.dropna()\n",
    "df = df[df.ticker.isin(ticks)]\n",
    "df = df.set_index(\"ticker\")\n",
    "df = df.sort_values(by=\"mve\")\n",
    "df = df.iloc[:-500]\n",
    "\n",
    "features = [\"bm\", \"mom12m\", \"roeq\"]"
   ]
  },
  {
   "attachments": {},
   "cell_type": "markdown",
   "metadata": {},
   "source": [
    "#### Predict and rank"
   ]
  },
  {
   "cell_type": "code",
   "execution_count": 5,
   "metadata": {},
   "outputs": [],
   "source": [
    "trans_features = qt.fit_transform(df[features])\n",
    "trans_features = pd.DataFrame(trans_features, columns=features)\n",
    "df[\"predict\"] = pipe.predict(trans_features)\n",
    "df[\"rnk\"] = df.predict.rank(method=\"first\")\n",
    "\n",
    "for f in features:\n",
    "    df[\"t\"+f] = qt.fit_transform(df[f].to_numpy().reshape(-1,1))"
   ]
  },
  {
   "attachments": {},
   "cell_type": "markdown",
   "metadata": {},
   "source": [
    "## Get data from Alpaca"
   ]
  },
  {
   "attachments": {},
   "cell_type": "markdown",
   "metadata": {},
   "source": [
    "#### Get account equity"
   ]
  },
  {
   "cell_type": "code",
   "execution_count": 9,
   "metadata": {},
   "outputs": [],
   "source": [
    "trading_client = TradingClient(KEY, SECRET_KEY, paper=True)\n",
    "account = trading_client.get_account()\n",
    "equity = float(account.equity)"
   ]
  },
  {
   "attachments": {},
   "cell_type": "markdown",
   "metadata": {},
   "source": [
    "#### Get tradeable and shortable stocks"
   ]
  },
  {
   "cell_type": "code",
   "execution_count": 10,
   "metadata": {},
   "outputs": [],
   "source": [
    "assets = trading_client.get_all_assets()\n",
    "\n",
    "assets = [\n",
    "    x for x in assets \n",
    "    if (x.asset_class[:]=='us_equity') \n",
    "    and (x.symbol in df.index) \n",
    "    and (x.status[:]=='active')\n",
    "]\n",
    "symbols = [x.symbol for x in assets]\n",
    "tradable = [x.tradable for x in assets]\n",
    "shortable = [x.shortable for x in assets]\n",
    "\n",
    "df[\"tradable\"]= pd.Series(tradable, index=symbols)\n",
    "df[\"shortable\"] = pd.Series(shortable, index=symbols)"
   ]
  },
  {
   "attachments": {},
   "cell_type": "markdown",
   "metadata": {},
   "source": [
    "#### Get quotes"
   ]
  },
  {
   "cell_type": "code",
   "execution_count": 11,
   "metadata": {},
   "outputs": [],
   "source": [
    "data_client = StockHistoricalDataClient(KEY, SECRET_KEY)\n",
    "params = StockLatestQuoteRequest(symbol_or_symbols=df.index.to_list())\n",
    "quotes = data_client.get_stock_latest_quote(params)\n",
    "\n",
    "df[\"ask\"] = [quotes[x].ask_price for x in df.index]\n",
    "df[\"bid\"] = [quotes[x].bid_price for x in df.index]"
   ]
  },
  {
   "attachments": {},
   "cell_type": "markdown",
   "metadata": {},
   "source": [
    "#### Get positions"
   ]
  },
  {
   "cell_type": "code",
   "execution_count": 12,
   "metadata": {},
   "outputs": [],
   "source": [
    "positions = trading_client.get_all_positions()\n",
    "if len(positions) > 0:\n",
    "    positions = {x.symbol: int(x.qty) for x in positions}\n",
    "    positions = pd.Series(positions)\n",
    "    df[\"current\"] = positions\n",
    "    df[\"current\"] = df.current.fillna(0)\n",
    "else:\n",
    "    df[\"current\"] = 0"
   ]
  },
  {
   "attachments": {},
   "cell_type": "markdown",
   "metadata": {},
   "source": [
    "### Decide longs and shorts"
   ]
  },
  {
   "cell_type": "code",
   "execution_count": 97,
   "metadata": {},
   "outputs": [],
   "source": [
    "numlong = 5\n",
    "numshort = 5\n",
    "df = df.sort_values(by=\"rnk\")\n",
    "\n",
    "short_cutoff = df[df.shortable & (df.bid>0)].rnk.iloc[numshort-1]\n",
    "long_cutoff = df[df.tradable & (df.ask>0)].rnk.iloc[-numlong]\n",
    "df[\"short\"] = df.shortable & (df.bid>0) & (df.rnk<=short_cutoff)\n",
    "df[\"long\"] = df.tradable & (df.ask>0) & (df.rnk>=long_cutoff) \n",
    "\n",
    "shorts = df[df.short].index.to_list()\n",
    "longs = df[df.long].index.to_list()"
   ]
  },
  {
   "cell_type": "code",
   "execution_count": 98,
   "metadata": {},
   "outputs": [
    {
     "data": {
      "text/plain": [
       "['SBOW', 'GLRE', 'TPH', 'BRY', 'IMMR']"
      ]
     },
     "execution_count": 98,
     "metadata": {},
     "output_type": "execute_result"
    }
   ],
   "source": [
    "longs"
   ]
  },
  {
   "cell_type": "code",
   "execution_count": 99,
   "metadata": {},
   "outputs": [],
   "source": [
    "from cvxopt import matrix\n",
    "from cvxopt.solvers import qp as Solver, options as SolverOptions\n",
    "SolverOptions['show_progress'] = True\n",
    "\n"
   ]
  },
  {
   "cell_type": "code",
   "execution_count": 112,
   "metadata": {},
   "outputs": [
    {
     "name": "stdout",
     "output_type": "stream",
     "text": [
      "     pcost       dcost       gap    pres   dres\n",
      " 0:  5.1285e-04 -9.6504e-04  3e-03  1e+00  3e+01\n",
      " 1:  7.1510e-05  1.0726e-03  3e-05  1e+00  3e-01\n",
      " 2:  7.1455e-05  1.0971e-03  5e-07  1e+00  6e-02\n",
      " 3:  1.7149e-03  5.9360e-03  4e-07  1e+00  2e-01\n",
      " 4:  4.5827e+00 -4.7314e+00  1e+01  9e-01  2e+00\n",
      " 5:  3.8652e-01 -1.7238e+00  1e+00  5e-01  6e-01\n",
      " 6:  1.2458e-02 -1.4264e+00  2e-01  9e-01  1e-01\n",
      " 7:  4.6785e-05 -1.4149e+00  4e-03  1e+00  3e-02\n",
      " 8:  1.8117e-06 -1.4149e+00  4e-05  1e+00  9e-03\n",
      " 9:  1.8168e-06 -1.4149e+00  4e-07  1e+00  9e-03\n",
      "10:  1.8169e-06 -1.4149e+00  4e-09  1e+00  9e-03\n",
      "11:  1.8169e-06 -1.4149e+00  4e-11  1e+00  9e-03\n",
      "12:  1.8169e-06 -1.4149e+00  4e-13  1e+00  9e-03\n",
      "13:  1.8169e-06 -1.4149e+00  4e-15  1e+00  9e-03\n",
      "14:  1.8169e-06 -1.4149e+00  4e-17  1e+00  9e-03\n",
      "15:  1.8169e-06 -1.4149e+00  5e-19  1e+00  9e-03\n",
      "Terminated (singular KKT matrix).\n"
     ]
    },
    {
     "data": {
      "text/plain": [
       "{'x': <10x1 matrix, tc='d'>,\n",
       " 'y': <1x1 matrix, tc='d'>,\n",
       " 's': <10x1 matrix, tc='d'>,\n",
       " 'z': <10x1 matrix, tc='d'>,\n",
       " 'status': 'unknown',\n",
       " 'gap': 4.558597551933468e-19,\n",
       " 'relative gap': None,\n",
       " 'primal objective': 1.8169448269280287e-06,\n",
       " 'dual objective': -1.4149026041905612,\n",
       " 'primal infeasibility': 1.0,\n",
       " 'dual infeasibility': 0.009029208167914748,\n",
       " 'primal slack': 3.155326180177797e-19,\n",
       " 'dual slack': 0.14143571390494783,\n",
       " 'iterations': 15}"
      ]
     },
     "execution_count": 112,
     "metadata": {},
     "output_type": "execute_result"
    }
   ],
   "source": [
    "SolverOptions['show_progress'] = True\n",
    "\n",
    "def gmv(cov, shorts=True):\n",
    "    n = cov.shape[0]\n",
    "    Q = matrix(cov, tc=\"d\")\n",
    "    p = matrix(np.zeros((n, 1)), tc=\"d\")\n",
    "    G = matrix(np.zeros((n,n)), tc=\"d\") if shorts else matrix(-np.ones((n,n)), tc=\"d\")\n",
    "    h = matrix(np.zeros((n, 1)), tc=\"d\")\n",
    "    A = matrix(np.ones((1, n)), tc=\"d\")\n",
    "    b = matrix(np.ones((1, 1)), tc=\"d\")\n",
    "    return Solver(Q, p, G, h, A, b)\n",
    "\n",
    "cov = 100*100*rets[longs+shorts].cov().to_numpy()\n",
    "\n",
    "gmv(cov, shorts=False)"
   ]
  },
  {
   "cell_type": "code",
   "execution_count": 103,
   "metadata": {},
   "outputs": [
    {
     "name": "stdout",
     "output_type": "stream",
     "text": [
      "     pcost       dcost       gap    pres   dres\n",
      " 0:  6.0617e-01  1.9232e+00  2e+01  4e+00  6e+00\n",
      " 1:  1.9418e+00  3.6923e+00  4e+00  1e+00  9e+00\n",
      " 2:  2.6114e+00  5.1028e+01  4e+00  1e+00  1e+02\n",
      " 3:  3.3761e+00  1.7798e+05  5e+00  1e+00  5e+05\n",
      " 4:  4.3422e+00  6.6345e+10  2e+03  1e+00  2e+11\n",
      " 5:  5.5148e+00  2.4732e+18  7e+08  1e+00  7e+18\n",
      " 6:  6.8924e+00  9.2196e+27  2e+16  1e+00  2e+28\n",
      " 7:  8.4692e+00  3.4371e+39  9e+25  1e+00  9e+39\n",
      " 8:  1.0234e+01  1.2795e+53  3e+37  1e+00  3e+53\n",
      " 9:  1.1588e+01  3.3605e+68  9e+50  1e+00  9e+68\n",
      "10:  4.2264e+01  1.2889e+87  2e+72  1e+00  3e+87\n",
      "11:  4.5840e+01  7.6368e+101  1e+85  1e+00 2e+102\n",
      "12:  4.5862e+02  7.6752e+101  1e+85  9e+00 2e+102\n",
      "13:  1.6070e+04  8.5669e+101  1e+85  5e+01 2e+102\n",
      "14:  4.8901e+04  1.3929e+121  2e+104  8e+01 4e+121\n",
      "15:  2.0130e+06  1.3929e+121  2e+104  8e+02 4e+121\n",
      "16:  1.1534e+13  1.3929e+121  2e+104  1e+06 4e+121\n",
      "17:  1.5723e+13  2.1233e+144  4e+127  1e+06 6e+144\n",
      "18:  6.9214e+14  2.1233e+144  4e+127  1e+07 6e+144\n",
      "19:  2.9123e+33  2.1233e+144  4e+127  3e+16 6e+144\n",
      "20:  3.1058e+36  2.1233e+144  4e+127  8e+17 6e+144\n",
      "21:  9.7862e+121  7.1868e+177  1e+161  5e+60    inf\n",
      "22:  3.0316e+162  3.0958e+193  2e+189  8e+80    inf\n",
      "23:  1.0434e+215  1.0479e+231  2e+215 2e+107    inf\n",
      "24:  1.0434e+215  2.0567e+258  4e+239 2e+107    inf\n",
      "25:  1.4673e+214 -6.1283e+298  6e+298 6e+106    inf\n",
      "26:      inf      nan  inf    inf    inf\n"
     ]
    },
    {
     "ename": "ValueError",
     "evalue": "domain error",
     "output_type": "error",
     "traceback": [
      "\u001b[1;31m---------------------------------------------------------------------------\u001b[0m",
      "\u001b[1;31mValueError\u001b[0m                                Traceback (most recent call last)",
      "Cell \u001b[1;32mIn[103], line 28\u001b[0m\n\u001b[0;32m     26\u001b[0m A \u001b[39m=\u001b[39m matrix(A, tc\u001b[39m=\u001b[39m\u001b[39m\"\u001b[39m\u001b[39md\u001b[39m\u001b[39m\"\u001b[39m)\n\u001b[0;32m     27\u001b[0m b \u001b[39m=\u001b[39m matrix([\u001b[39m1\u001b[39m\u001b[39m+\u001b[39mratio, \u001b[39m-\u001b[39mratio], (\u001b[39m2\u001b[39m, \u001b[39m1\u001b[39m), tc\u001b[39m=\u001b[39m\u001b[39m\"\u001b[39m\u001b[39md\u001b[39m\u001b[39m\"\u001b[39m)\n\u001b[1;32m---> 28\u001b[0m sol \u001b[39m=\u001b[39m Solver(Q, p, G, h, A, b)\n",
      "File \u001b[1;32mc:\\Users\\keb7\\repos\\mgmt767-binder\\venv\\lib\\site-packages\\cvxopt\\coneprog.py:4485\u001b[0m, in \u001b[0;36mqp\u001b[1;34m(P, q, G, h, A, b, solver, kktsolver, initvals, **kwargs)\u001b[0m\n\u001b[0;32m   4475\u001b[0m         pinfres, dinfres \u001b[39m=\u001b[39m \u001b[39mNone\u001b[39;00m, \u001b[39mNone\u001b[39;00m\n\u001b[0;32m   4477\u001b[0m     \u001b[39mreturn\u001b[39;00m {\u001b[39m'\u001b[39m\u001b[39mstatus\u001b[39m\u001b[39m'\u001b[39m: status, \u001b[39m'\u001b[39m\u001b[39mx\u001b[39m\u001b[39m'\u001b[39m: x, \u001b[39m'\u001b[39m\u001b[39ms\u001b[39m\u001b[39m'\u001b[39m: s, \u001b[39m'\u001b[39m\u001b[39my\u001b[39m\u001b[39m'\u001b[39m: y, \u001b[39m'\u001b[39m\u001b[39mz\u001b[39m\u001b[39m'\u001b[39m: z,\n\u001b[0;32m   4478\u001b[0m         \u001b[39m'\u001b[39m\u001b[39mprimal objective\u001b[39m\u001b[39m'\u001b[39m: pcost, \u001b[39m'\u001b[39m\u001b[39mdual objective\u001b[39m\u001b[39m'\u001b[39m: dcost,\n\u001b[0;32m   4479\u001b[0m         \u001b[39m'\u001b[39m\u001b[39mgap\u001b[39m\u001b[39m'\u001b[39m: gap, \u001b[39m'\u001b[39m\u001b[39mrelative gap\u001b[39m\u001b[39m'\u001b[39m: relgap,\n\u001b[1;32m   (...)\u001b[0m\n\u001b[0;32m   4482\u001b[0m         \u001b[39m'\u001b[39m\u001b[39mresidual as primal infeasibility certificate\u001b[39m\u001b[39m'\u001b[39m: pinfres,\n\u001b[0;32m   4483\u001b[0m         \u001b[39m'\u001b[39m\u001b[39mresidual as dual infeasibility certificate\u001b[39m\u001b[39m'\u001b[39m: dinfres}\n\u001b[1;32m-> 4485\u001b[0m \u001b[39mreturn\u001b[39;00m coneqp(P, q, G, h, \u001b[39mNone\u001b[39;49;00m, A,  b, initvals, kktsolver \u001b[39m=\u001b[39;49m kktsolver, options \u001b[39m=\u001b[39;49m options)\n",
      "File \u001b[1;32mc:\\Users\\keb7\\repos\\mgmt767-binder\\venv\\lib\\site-packages\\cvxopt\\coneprog.py:2519\u001b[0m, in \u001b[0;36mconeqp\u001b[1;34m(P, q, G, h, dims, A, b, initvals, kktsolver, xnewcopy, xdot, xaxpy, xscal, ynewcopy, ydot, yaxpy, yscal, **kwargs)\u001b[0m\n\u001b[0;32m   2515\u001b[0m     ind3 \u001b[39m+\u001b[39m\u001b[39m=\u001b[39m m\n\u001b[0;32m   2518\u001b[0m \u001b[39m# Update lambda and scaling.\u001b[39;00m\n\u001b[1;32m-> 2519\u001b[0m misc\u001b[39m.\u001b[39;49mupdate_scaling(W, lmbda, ds, dz)\n\u001b[0;32m   2522\u001b[0m \u001b[39m# Unscale s, z (unscaled variables are used only to compute\u001b[39;00m\n\u001b[0;32m   2523\u001b[0m \u001b[39m# feasibility residuals).\u001b[39;00m\n\u001b[0;32m   2525\u001b[0m blas\u001b[39m.\u001b[39mcopy(lmbda, s, n \u001b[39m=\u001b[39m dims[\u001b[39m'\u001b[39m\u001b[39ml\u001b[39m\u001b[39m'\u001b[39m] \u001b[39m+\u001b[39m \u001b[39msum\u001b[39m(dims[\u001b[39m'\u001b[39m\u001b[39mq\u001b[39m\u001b[39m'\u001b[39m]))\n",
      "File \u001b[1;32mc:\\Users\\keb7\\repos\\mgmt767-binder\\venv\\lib\\site-packages\\cvxopt\\misc.py:450\u001b[0m, in \u001b[0;36mupdate_scaling\u001b[1;34m(W, lmbda, s, z)\u001b[0m\n\u001b[0;32m    448\u001b[0m ml \u001b[39m=\u001b[39m \u001b[39mlen\u001b[39m(W[\u001b[39m'\u001b[39m\u001b[39md\u001b[39m\u001b[39m'\u001b[39m])\n\u001b[0;32m    449\u001b[0m m \u001b[39m=\u001b[39m mnl \u001b[39m+\u001b[39m ml\n\u001b[1;32m--> 450\u001b[0m s[:m] \u001b[39m=\u001b[39m base\u001b[39m.\u001b[39;49msqrt( s[:m] )\n\u001b[0;32m    451\u001b[0m z[:m] \u001b[39m=\u001b[39m base\u001b[39m.\u001b[39msqrt( z[:m] )\n\u001b[0;32m    453\u001b[0m \u001b[39m# d := d .* s .* z \u001b[39;00m\n",
      "\u001b[1;31mValueError\u001b[0m: domain error"
     ]
    }
   ],
   "source": [
    "ratio = 0.5\n",
    "\n",
    "numlongs = len(longs)\n",
    "numshorts = len(shorts)\n",
    "num = numlongs+numshorts\n",
    "R = rets[longs+shorts]\n",
    "if num <= R.shape[0]:\n",
    "    cov = R.cov().to_numpy()\n",
    "else:\n",
    "    U, S, Vh = np.linalg.svd(R-R.mean(), full_matrices=False)\n",
    "    C = Vh.T[:, :20] @ np.diag(S[:20]*S[:20]/R.shape[0]) @ Vh[:20, :]\n",
    "    cov = C + np.diag(R.var() - np.diag(C))\n",
    "Q = matrix(100*100*cov, tc=\"d\")\n",
    "p = matrix(np.zeros(num), (num, 1), tc=\"d\")\n",
    "\n",
    "# long wts >= 0, short wts <= 0\n",
    "diag = np.concatenate((-np.ones(numlongs), np.ones(numshorts)))\n",
    "G = matrix(np.diag(diag), tc=\"d\")\n",
    "h = matrix(np.zeros(num), (num, 1), tc=\"d\")\n",
    "\n",
    "# long wts sum to 1+ratio, short wts sum to -ratio\n",
    "    \n",
    "A = np.zeros((2, num))\n",
    "A[0, :numlongs] = 1\n",
    "A[1, -numshorts:] = 1\n",
    "A = matrix(A, tc=\"d\")\n",
    "b = matrix([1+ratio, -ratio], (2, 1), tc=\"d\")\n",
    "sol = Solver(Q, p, G, h, A, b)"
   ]
  },
  {
   "cell_type": "code",
   "execution_count": 95,
   "metadata": {},
   "outputs": [
    {
     "data": {
      "text/plain": [
       "array([ 0.78839543,  0.71160457, -0.19494301, -0.30505699])"
      ]
     },
     "execution_count": 95,
     "metadata": {},
     "output_type": "execute_result"
    }
   ],
   "source": [
    "np.array(sol[\"x\"]).flatten()"
   ]
  },
  {
   "cell_type": "code",
   "execution_count": 30,
   "metadata": {},
   "outputs": [
    {
     "data": {
      "text/plain": [
       "{'x': <400x1 matrix, tc='d'>,\n",
       " 'y': <2x1 matrix, tc='d'>,\n",
       " 's': <400x1 matrix, tc='d'>,\n",
       " 'z': <400x1 matrix, tc='d'>,\n",
       " 'status': 'unknown',\n",
       " 'gap': 2.5762998102341293e+30,\n",
       " 'relative gap': 5.507118002528709e-06,\n",
       " 'primal objective': 1.968716444471006e+30,\n",
       " 'dual objective': 4.678127123935182e+35,\n",
       " 'primal infeasibility': 1.74134513748151e+17,\n",
       " 'dual infeasibility': 7.970446636185377e+35,\n",
       " 'primal slack': 3.0079283894484595e-17,\n",
       " 'dual slack': 1110890116732.6858,\n",
       " 'iterations': 100}"
      ]
     },
     "execution_count": 30,
     "metadata": {},
     "output_type": "execute_result"
    }
   ],
   "source": [
    "sol"
   ]
  },
  {
   "attachments": {},
   "cell_type": "markdown",
   "metadata": {},
   "source": [
    "## Trade"
   ]
  },
  {
   "attachments": {},
   "cell_type": "markdown",
   "metadata": {},
   "source": [
    "#### Calculate target positions"
   ]
  },
  {
   "cell_type": "code",
   "execution_count": null,
   "metadata": {},
   "outputs": [],
   "source": [
    "long_per_stock = 1.3*equity / numstocks\n",
    "short_per_stock = 0.3*equity / numstocks\n",
    "\n",
    "df = df.sort_values(by=\"rnk\")\n",
    "\n",
    "try:\n",
    "    short_cutoff = df[df.shortable & (df.bid>0)].rnk.iloc[numstocks-1]\n",
    "    long_cutoff = df[df.tradable & (df.ask>0)].rnk.iloc[-numstocks]\n",
    "    df[\"target\"] = np.where(\n",
    "        df.shortable & (df.bid>0) & (df.rnk<=short_cutoff),\n",
    "        -short_per_stock/df.bid, \n",
    "        0\n",
    "    )\n",
    "    df[\"target\"] = np.where(\n",
    "        df.tradable & (df.ask>0) & (df.rnk>=long_cutoff), \n",
    "        long_per_stock/df.ask, \n",
    "        df.target\n",
    "    )\n",
    "    df[\"target\"] = df.target.astype(int)\n",
    "except:\n",
    "    df[\"target\"] = 0"
   ]
  },
  {
   "attachments": {},
   "cell_type": "markdown",
   "metadata": {},
   "source": [
    "#### Calculate trades\n",
    "\n",
    "Using a simple but suboptimal protocol: trade to target positions without trying to minimize the number of round trips we might eventually make."
   ]
  },
  {
   "cell_type": "code",
   "execution_count": null,
   "metadata": {},
   "outputs": [],
   "source": [
    "df[\"trade\"] = df.target - df.current"
   ]
  },
  {
   "attachments": {},
   "cell_type": "markdown",
   "metadata": {},
   "source": [
    "#### Make trades"
   ]
  },
  {
   "cell_type": "code",
   "execution_count": null,
   "metadata": {},
   "outputs": [],
   "source": [
    "for tick in df.index: \n",
    "    if df.loc[tick, \"trade\"]<0:\n",
    "        try:\n",
    "            market_order_data = MarketOrderRequest(\n",
    "                symbol=tick,\n",
    "                qty=-df.loc[tick, \"trade\"],\n",
    "                side=OrderSide.SELL,\n",
    "                time_in_force=TimeInForce.DAY\n",
    "            )\n",
    "            market_order = trading_client.submit_order(\n",
    "                order_data=market_order_data\n",
    "            )\n",
    "        except:\n",
    "            print(f\"sell order for {tick} failed\")\n",
    "    elif df.loc[tick, \"trade\"]>0:\n",
    "        try:\n",
    "            market_order_data = MarketOrderRequest(\n",
    "                symbol=tick,\n",
    "                qty=df.loc[tick, \"trade\"],\n",
    "                side=OrderSide.BUY,\n",
    "                time_in_force=TimeInForce.DAY\n",
    "            )\n",
    "            market_order = trading_client.submit_order(\n",
    "                order_data=market_order_data\n",
    "            )\n",
    "        except:\n",
    "            print(f\"buy order for {tick} failed\")\n",
    "\n"
   ]
  },
  {
   "attachments": {},
   "cell_type": "markdown",
   "metadata": {},
   "source": [
    "## Save data"
   ]
  },
  {
   "cell_type": "code",
   "execution_count": null,
   "metadata": {},
   "outputs": [],
   "source": [
    "today = datetime.today().strftime(\"%Y-%m-%d\")\n",
    "\n",
    "df[\"date\"] = today\n",
    "\n",
    "try:\n",
    "    d = pd.read_csv(\"files/trade_data.csv\", index_col=\"ticker\")\n",
    "    d = d[d.date != today]\n",
    "    df = pd.concat((d, df))\n",
    "    df.to_csv(\"files/trade_data.csv\")\n",
    "except:\n",
    "    df.to_csv(\"files/trade_data.csv\")"
   ]
  },
  {
   "cell_type": "code",
   "execution_count": null,
   "metadata": {},
   "outputs": [],
   "source": [
    "account = trading_client.get_account()\n",
    "account = dict(account)\n",
    "account = pd.DataFrame(pd.Series(account)).T\n",
    "account[\"date\"] = today\n",
    "\n",
    "try:\n",
    "    d = pd.read_csv(\"files/account.csv\")\n",
    "    d = d[d.date != today]\n",
    "    account = pd.concat((d, account))\n",
    "    account.to_csv(\"files/account.csv\")\n",
    "except:\n",
    "    account.to_csv(\"files/account.csv\")\n"
   ]
  },
  {
   "cell_type": "markdown",
   "metadata": {},
   "source": []
  },
  {
   "cell_type": "code",
   "execution_count": null,
   "metadata": {},
   "outputs": [
    {
     "name": "stderr",
     "output_type": "stream",
     "text": [
      "C:\\Users\\kerry\\AppData\\Local\\Temp\\ipykernel_31152\\2110981215.py:3: FutureWarning: The default dtype for empty Series will be 'object' instead of 'float64' in a future version. Specify a dtype explicitly to silence this warning.\n",
      "  positions = pd.DataFrame(pd.Series(positions))\n"
     ]
    }
   ],
   "source": [
    "positions = trading_client.get_all_positions()\n",
    "positions = {x.symbol: x.qty for x in positions}\n",
    "positions = pd.DataFrame(pd.Series(positions))\n",
    "positions[\"date\"] = today\n",
    "\n",
    "try:\n",
    "    d = pd.read_csv(\"files/positions.csv\")\n",
    "    d = d[d.date != today]\n",
    "    positions = pd.concat((d, positions))\n",
    "    positions.to_csv(\"files/positions.csv\")\n",
    "except:\n",
    "    positions.to_csv(\"files/positions.csv\")"
   ]
  }
 ],
 "metadata": {
  "kernelspec": {
   "display_name": "venv",
   "language": "python",
   "name": "python3"
  },
  "language_info": {
   "codemirror_mode": {
    "name": "ipython",
    "version": 3
   },
   "file_extension": ".py",
   "mimetype": "text/x-python",
   "name": "python",
   "nbconvert_exporter": "python",
   "pygments_lexer": "ipython3",
   "version": "3.10.7"
  },
  "orig_nbformat": 4,
  "vscode": {
   "interpreter": {
    "hash": "24514d992635106b0c080fe619fc409ba929c1b95321a4abd0f8c840fea2ec36"
   }
  }
 },
 "nbformat": 4,
 "nbformat_minor": 2
}
