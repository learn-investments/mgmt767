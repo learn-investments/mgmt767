{
 "cells": [
  {
   "cell_type": "code",
   "execution_count": 1,
   "metadata": {},
   "outputs": [],
   "source": [
    "from sqlalchemy import create_engine\n",
    "import pymssql\n",
    "import pandas as pd"
   ]
  },
  {
   "cell_type": "code",
   "execution_count": 2,
   "metadata": {},
   "outputs": [],
   "source": [
    "server = \"mssql-82792-0.cloudclusters.net:16272\"\n",
    "username = \"user\"\n",
    "password = \"RiceOwls1912\" \n",
    "database = \"ghz\"\n",
    "string = \"mssql+pymssql://\" + username + \":\" + password + \"@\" + server + \"/\" + database\n",
    "\n",
    "conn = create_engine(string).connect()"
   ]
  },
  {
   "cell_type": "code",
   "execution_count": 3,
   "metadata": {},
   "outputs": [
    {
     "name": "stdout",
     "output_type": "stream",
     "text": [
      "<class 'pandas.core.frame.DataFrame'>\n",
      "Int64Index: 1018855 entries, 11 to 1022114\n",
      "Data columns (total 5 columns):\n",
      " #   Column  Non-Null Count    Dtype  \n",
      "---  ------  --------------    -----  \n",
      " 0   ticker  1018855 non-null  object \n",
      " 1   date    1018855 non-null  object \n",
      " 2   ret     1018855 non-null  float64\n",
      " 3   roeq    1018855 non-null  float64\n",
      " 4   bm      1018855 non-null  float64\n",
      "dtypes: float64(3), object(2)\n",
      "memory usage: 46.6+ MB\n"
     ]
    }
   ],
   "source": [
    "df = pd.read_sql(\n",
    "    \"\"\"\n",
    "    select ticker, date, ret, roeq, bm\n",
    "    from data\n",
    "    order by ticker, date\n",
    "    \"\"\", \n",
    "    conn\n",
    ")\n",
    "df = df.dropna()\n",
    "df.info()"
   ]
  },
  {
   "cell_type": "code",
   "execution_count": 4,
   "metadata": {},
   "outputs": [
    {
     "data": {
      "text/html": [
       "<div>\n",
       "<style scoped>\n",
       "    .dataframe tbody tr th:only-of-type {\n",
       "        vertical-align: middle;\n",
       "    }\n",
       "\n",
       "    .dataframe tbody tr th {\n",
       "        vertical-align: top;\n",
       "    }\n",
       "\n",
       "    .dataframe thead th {\n",
       "        text-align: right;\n",
       "    }\n",
       "</style>\n",
       "<table border=\"1\" class=\"dataframe\">\n",
       "  <thead>\n",
       "    <tr style=\"text-align: right;\">\n",
       "      <th></th>\n",
       "      <th>ticker</th>\n",
       "      <th>date</th>\n",
       "      <th>ret</th>\n",
       "      <th>roeq</th>\n",
       "      <th>bm</th>\n",
       "    </tr>\n",
       "  </thead>\n",
       "  <tbody>\n",
       "    <tr>\n",
       "      <th>2490</th>\n",
       "      <td>AAPL</td>\n",
       "      <td>2000-01</td>\n",
       "      <td>0.009119</td>\n",
       "      <td>0.093333</td>\n",
       "      <td>0.289471</td>\n",
       "    </tr>\n",
       "    <tr>\n",
       "      <th>2491</th>\n",
       "      <td>AAPL</td>\n",
       "      <td>2000-02</td>\n",
       "      <td>0.104819</td>\n",
       "      <td>0.093333</td>\n",
       "      <td>0.289471</td>\n",
       "    </tr>\n",
       "    <tr>\n",
       "      <th>2492</th>\n",
       "      <td>AAPL</td>\n",
       "      <td>2000-03</td>\n",
       "      <td>0.184842</td>\n",
       "      <td>0.037374</td>\n",
       "      <td>0.289471</td>\n",
       "    </tr>\n",
       "    <tr>\n",
       "      <th>2493</th>\n",
       "      <td>AAPL</td>\n",
       "      <td>2000-04</td>\n",
       "      <td>-0.086516</td>\n",
       "      <td>0.037374</td>\n",
       "      <td>0.290160</td>\n",
       "    </tr>\n",
       "    <tr>\n",
       "      <th>2494</th>\n",
       "      <td>AAPL</td>\n",
       "      <td>2000-05</td>\n",
       "      <td>-0.322922</td>\n",
       "      <td>0.037374</td>\n",
       "      <td>0.290160</td>\n",
       "    </tr>\n",
       "  </tbody>\n",
       "</table>\n",
       "</div>"
      ],
      "text/plain": [
       "     ticker     date       ret      roeq        bm\n",
       "2490   AAPL  2000-01  0.009119  0.093333  0.289471\n",
       "2491   AAPL  2000-02  0.104819  0.093333  0.289471\n",
       "2492   AAPL  2000-03  0.184842  0.037374  0.289471\n",
       "2493   AAPL  2000-04 -0.086516  0.037374  0.290160\n",
       "2494   AAPL  2000-05 -0.322922  0.037374  0.290160"
      ]
     },
     "execution_count": 4,
     "metadata": {},
     "output_type": "execute_result"
    }
   ],
   "source": [
    "df[df.ticker==\"AAPL\"].head()"
   ]
  }
 ],
 "metadata": {
  "kernelspec": {
   "display_name": "Python 3",
   "language": "python",
   "name": "python3"
  },
  "language_info": {
   "codemirror_mode": {
    "name": "ipython",
    "version": 3
   },
   "file_extension": ".py",
   "mimetype": "text/x-python",
   "name": "python",
   "nbconvert_exporter": "python",
   "pygments_lexer": "ipython3",
   "version": "3.10.3 (tags/v3.10.3:a342a49, Mar 16 2022, 13:07:40) [MSC v.1929 64 bit (AMD64)]"
  },
  "orig_nbformat": 4,
  "vscode": {
   "interpreter": {
    "hash": "a98f34b6005ae2330f135078450db511ef8910ecc790235ef0560aa88aa6ce12"
   }
  }
 },
 "nbformat": 4,
 "nbformat_minor": 2
}
