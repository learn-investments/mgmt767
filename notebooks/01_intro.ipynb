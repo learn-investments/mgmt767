{
 "cells": [
  {
   "cell_type": "markdown",
   "metadata": {
    "slideshow": {
     "slide_type": "slide"
    }
   },
   "source": [
    "# Introduction to Quantitative Equity Strategies\n",
    "\n",
    "### MGMT 767: Data-Driven Investments Lab\n",
    "### Kerry Back and Kevin Crotty, Rice University"
   ]
  },
  {
   "cell_type": "markdown",
   "metadata": {
    "slideshow": {
     "slide_type": "slide"
    }
   },
   "source": [
    "### Typess of characteristics\n",
    "\n",
    "- Company financials\n",
    "  - Financial ratios\n",
    "  - Growth rates\n",
    "- Past returns\n",
    "  - Momentum and reversal\n",
    "  - Moving averages\n",
    "  - Pairs trading"
   ]
  },
  {
   "cell_type": "markdown",
   "metadata": {
    "slideshow": {
     "slide_type": "slide"
    }
   },
   "source": [
    "- Trade data\n",
    "  - Corporate insiders\n",
    "  - Short sellers\n",
    "  - Retail orders\n",
    "- Corporate events\n",
    "  - Dividends, earnings, other\n",
    "- Nontraditional data\n",
    "  - Social media\n",
    "  - NLP of corporate announcements\n",
    "  - Image data\n",
    "  - Cellphone location data"
   ]
  },
  {
   "cell_type": "markdown",
   "metadata": {
    "slideshow": {
     "slide_type": "slide"
    }
   },
   "source": [
    "### Basic strategy\n",
    "\n",
    "- Combine characteristics to form a return predictor\n",
    "- Buy good stocks and maybe short sell bad stocks\n",
    "\n"
   ]
  },
  {
   "cell_type": "markdown",
   "metadata": {
    "slideshow": {
     "slide_type": "slide"
    }
   },
   "source": [
    "### Plan for the course\n",
    "\n",
    "- Backtest strategies and choose one\n",
    "- Use daily updated database to update return predictions at least weekly\n",
    "- Implement paper trades at Alpaca brokerage\n",
    "- Reassess and revise strategy regularly"
   ]
  },
  {
   "cell_type": "markdown",
   "metadata": {
    "slideshow": {
     "slide_type": "slide"
    }
   },
   "source": [
    "### Example for today\n",
    "\n",
    "Momentum and value characteristics of small-cap stocks"
   ]
  },
  {
   "cell_type": "markdown",
   "metadata": {
    "slideshow": {
     "slide_type": "slide"
    }
   },
   "source": [
    "### Database\n",
    "\n",
    "- SQL database on Rice server.  Must be on campus or on Rice VPN.\n",
    "- Data is downloaded from Nasdaq Data Link and updated on the server daily.\n",
    "- Access the database.  Either pyodbc or pymssql.  pymssql is deprecated.  On a Mac, you will need to install [Microsoft's ODBC Server](https://learn.microsoft.com/en-us/sql/connect/odbc/linux-mac/install-microsoft-odbc-driver-sql-server-macos?view=sql-server-ver16).  There have been issues with Macs."
   ]
  },
  {
   "cell_type": "code",
   "execution_count": 2,
   "metadata": {
    "slideshow": {
     "slide_type": "slide"
    }
   },
   "outputs": [],
   "source": [
    "from sqlalchemy import create_engine\n",
    "\n",
    "server = 'fs.rice.edu'\n",
    "database = 'stocks'\n",
    "username = 'stocks'\n",
    "password = '6LAZH1'\n",
    "driver = 'SQL+Server'\n",
    "string = f\"mssql+pyodbc://{username}:{password}@{server}/{database}?driver={driver}\" \n",
    "try: \n",
    "    conn = create_engine(string1).connect()\n",
    "except:\n",
    "    try:\n",
    "        driver = 'ODBC+Driver+18+for+SQL+Server'\n",
    "        string = f\"mssql+pyodbc://{username}:{password}@{server}/{database}?driver={driver}\"   \n",
    "        conn = create_engine(string2).connect() \n",
    "    except:\n",
    "        import pymssql\n",
    "        string = f\"mssql+pymssql://{username}:{password}@{server}/{database}\"   \n",
    "        conn = create_engine(string).connect() "
   ]
  },
  {
   "cell_type": "markdown",
   "metadata": {
    "slideshow": {
     "slide_type": "slide"
    }
   },
   "source": [
    "### Database tables\n",
    "\n",
    "- tickers has one row for each ticker, with general company information\n",
    "- indicators has one row for each variable in the other tables with definitions\n",
    "- sf1 has annual and quarterly reports for all NYSE/Nasdaq stocks back to 2000\n",
    "- sep has daily open, high, low, close and adjusted close for same stocks\n",
    "- daily has marketcap, pb, pe, ps, ev, evebit, evebitda for same stocks\n",
    "- sep_weekly is a weekly version of sep\n",
    "- weekly is a weekly version of daily"
   ]
  },
  {
   "cell_type": "code",
   "execution_count": 3,
   "metadata": {
    "slideshow": {
     "slide_type": "slide"
    }
   },
   "outputs": [
    {
     "data": {
      "text/html": [
       "<div>\n",
       "<style scoped>\n",
       "    .dataframe tbody tr th:only-of-type {\n",
       "        vertical-align: middle;\n",
       "    }\n",
       "\n",
       "    .dataframe tbody tr th {\n",
       "        vertical-align: top;\n",
       "    }\n",
       "\n",
       "    .dataframe thead th {\n",
       "        text-align: right;\n",
       "    }\n",
       "</style>\n",
       "<table border=\"1\" class=\"dataframe\">\n",
       "  <thead>\n",
       "    <tr style=\"text-align: right;\">\n",
       "      <th></th>\n",
       "      <th>TABLE_CATALOG</th>\n",
       "      <th>TABLE_SCHEMA</th>\n",
       "      <th>TABLE_NAME</th>\n",
       "      <th>TABLE_TYPE</th>\n",
       "    </tr>\n",
       "  </thead>\n",
       "  <tbody>\n",
       "    <tr>\n",
       "      <th>0</th>\n",
       "      <td>stocks</td>\n",
       "      <td>dbo</td>\n",
       "      <td>today</td>\n",
       "      <td>BASE TABLE</td>\n",
       "    </tr>\n",
       "    <tr>\n",
       "      <th>1</th>\n",
       "      <td>stocks</td>\n",
       "      <td>dbo</td>\n",
       "      <td>ghz</td>\n",
       "      <td>BASE TABLE</td>\n",
       "    </tr>\n",
       "    <tr>\n",
       "      <th>2</th>\n",
       "      <td>stocks</td>\n",
       "      <td>dbo</td>\n",
       "      <td>indicators</td>\n",
       "      <td>BASE TABLE</td>\n",
       "    </tr>\n",
       "    <tr>\n",
       "      <th>3</th>\n",
       "      <td>stocks</td>\n",
       "      <td>dbo</td>\n",
       "      <td>tickers</td>\n",
       "      <td>BASE TABLE</td>\n",
       "    </tr>\n",
       "    <tr>\n",
       "      <th>4</th>\n",
       "      <td>stocks</td>\n",
       "      <td>dbo</td>\n",
       "      <td>prices_weekly</td>\n",
       "      <td>BASE TABLE</td>\n",
       "    </tr>\n",
       "    <tr>\n",
       "      <th>5</th>\n",
       "      <td>stocks</td>\n",
       "      <td>dbo</td>\n",
       "      <td>sep2</td>\n",
       "      <td>BASE TABLE</td>\n",
       "    </tr>\n",
       "    <tr>\n",
       "      <th>6</th>\n",
       "      <td>stocks</td>\n",
       "      <td>dbo</td>\n",
       "      <td>weekly</td>\n",
       "      <td>BASE TABLE</td>\n",
       "    </tr>\n",
       "    <tr>\n",
       "      <th>7</th>\n",
       "      <td>stocks</td>\n",
       "      <td>dbo</td>\n",
       "      <td>sep_weekly</td>\n",
       "      <td>BASE TABLE</td>\n",
       "    </tr>\n",
       "    <tr>\n",
       "      <th>8</th>\n",
       "      <td>stocks</td>\n",
       "      <td>dbo</td>\n",
       "      <td>sf1</td>\n",
       "      <td>BASE TABLE</td>\n",
       "    </tr>\n",
       "    <tr>\n",
       "      <th>9</th>\n",
       "      <td>stocks</td>\n",
       "      <td>dbo</td>\n",
       "      <td>daily</td>\n",
       "      <td>BASE TABLE</td>\n",
       "    </tr>\n",
       "    <tr>\n",
       "      <th>10</th>\n",
       "      <td>stocks</td>\n",
       "      <td>dbo</td>\n",
       "      <td>sep</td>\n",
       "      <td>BASE TABLE</td>\n",
       "    </tr>\n",
       "  </tbody>\n",
       "</table>\n",
       "</div>"
      ],
      "text/plain": [
       "   TABLE_CATALOG TABLE_SCHEMA     TABLE_NAME  TABLE_TYPE\n",
       "0         stocks          dbo          today  BASE TABLE\n",
       "1         stocks          dbo            ghz  BASE TABLE\n",
       "2         stocks          dbo     indicators  BASE TABLE\n",
       "3         stocks          dbo        tickers  BASE TABLE\n",
       "4         stocks          dbo  prices_weekly  BASE TABLE\n",
       "5         stocks          dbo           sep2  BASE TABLE\n",
       "6         stocks          dbo         weekly  BASE TABLE\n",
       "7         stocks          dbo     sep_weekly  BASE TABLE\n",
       "8         stocks          dbo            sf1  BASE TABLE\n",
       "9         stocks          dbo          daily  BASE TABLE\n",
       "10        stocks          dbo            sep  BASE TABLE"
      ]
     },
     "execution_count": 3,
     "metadata": {
      "slideshow": {
       "slide_type": "slide"
      }
     },
     "output_type": "execute_result"
    }
   ],
   "source": [
    "import pandas as pd \n",
    "pd.read_sql(\"select * from information_schema.tables\", conn)"
   ]
  },
  {
   "cell_type": "code",
   "execution_count": 4,
   "metadata": {
    "slideshow": {
     "slide_type": "slide"
    }
   },
   "outputs": [
    {
     "data": {
      "text/html": [
       "<div>\n",
       "<style scoped>\n",
       "    .dataframe tbody tr th:only-of-type {\n",
       "        vertical-align: middle;\n",
       "    }\n",
       "\n",
       "    .dataframe tbody tr th {\n",
       "        vertical-align: top;\n",
       "    }\n",
       "\n",
       "    .dataframe thead th {\n",
       "        text-align: right;\n",
       "    }\n",
       "</style>\n",
       "<table border=\"1\" class=\"dataframe\">\n",
       "  <thead>\n",
       "    <tr style=\"text-align: right;\">\n",
       "      <th></th>\n",
       "      <th>permaticker</th>\n",
       "      <th>siccode</th>\n",
       "      <th>lastupdated</th>\n",
       "      <th>firstadded</th>\n",
       "      <th>firstpricedate</th>\n",
       "      <th>lastpricedate</th>\n",
       "      <th>firstquarter</th>\n",
       "      <th>lastquarter</th>\n",
       "      <th>isdelisted</th>\n",
       "      <th>ticker</th>\n",
       "      <th>...</th>\n",
       "      <th>famaindustry</th>\n",
       "      <th>sector</th>\n",
       "      <th>industry</th>\n",
       "      <th>scalemarketcap</th>\n",
       "      <th>scalerevenue</th>\n",
       "      <th>relatedtickers</th>\n",
       "      <th>currency</th>\n",
       "      <th>location</th>\n",
       "      <th>secfilings</th>\n",
       "      <th>companysite</th>\n",
       "    </tr>\n",
       "  </thead>\n",
       "  <tbody>\n",
       "    <tr>\n",
       "      <th>0</th>\n",
       "      <td>196290</td>\n",
       "      <td>3826</td>\n",
       "      <td>2023-12-20</td>\n",
       "      <td>2014-09-26</td>\n",
       "      <td>1999-11-18</td>\n",
       "      <td>2024-01-05</td>\n",
       "      <td>1997-06-30</td>\n",
       "      <td>2023-09-30</td>\n",
       "      <td>N</td>\n",
       "      <td>A</td>\n",
       "      <td>...</td>\n",
       "      <td>Measuring and Control Equipment</td>\n",
       "      <td>Healthcare</td>\n",
       "      <td>Diagnostics &amp; Research</td>\n",
       "      <td>5 - Large</td>\n",
       "      <td>5 - Large</td>\n",
       "      <td>None</td>\n",
       "      <td>USD</td>\n",
       "      <td>California; U.S.A</td>\n",
       "      <td>https://www.sec.gov/cgi-bin/browse-edgar?actio...</td>\n",
       "      <td>https://www.agilent.com</td>\n",
       "    </tr>\n",
       "    <tr>\n",
       "      <th>1</th>\n",
       "      <td>124392</td>\n",
       "      <td>3334</td>\n",
       "      <td>2023-10-26</td>\n",
       "      <td>2016-11-01</td>\n",
       "      <td>2016-11-01</td>\n",
       "      <td>2024-01-05</td>\n",
       "      <td>2014-12-31</td>\n",
       "      <td>2023-09-30</td>\n",
       "      <td>N</td>\n",
       "      <td>AA</td>\n",
       "      <td>...</td>\n",
       "      <td>Steel Works Etc</td>\n",
       "      <td>Basic Materials</td>\n",
       "      <td>Aluminum</td>\n",
       "      <td>5 - Large</td>\n",
       "      <td>5 - Large</td>\n",
       "      <td>None</td>\n",
       "      <td>USD</td>\n",
       "      <td>Pennsylvania; U.S.A</td>\n",
       "      <td>https://www.sec.gov/cgi-bin/browse-edgar?actio...</td>\n",
       "      <td>http://www.alcoa.com</td>\n",
       "    </tr>\n",
       "    <tr>\n",
       "      <th>2</th>\n",
       "      <td>122827</td>\n",
       "      <td>6022</td>\n",
       "      <td>2019-07-29</td>\n",
       "      <td>2017-09-09</td>\n",
       "      <td>1998-09-25</td>\n",
       "      <td>2003-01-28</td>\n",
       "      <td>1997-09-30</td>\n",
       "      <td>2002-09-30</td>\n",
       "      <td>Y</td>\n",
       "      <td>AAAB</td>\n",
       "      <td>...</td>\n",
       "      <td>Banking</td>\n",
       "      <td>Financial Services</td>\n",
       "      <td>Banks - Regional</td>\n",
       "      <td>2 - Micro</td>\n",
       "      <td>1 - Nano</td>\n",
       "      <td>None</td>\n",
       "      <td>USD</td>\n",
       "      <td>Florida; U.S.A</td>\n",
       "      <td>https://www.sec.gov/cgi-bin/browse-edgar?actio...</td>\n",
       "      <td>None</td>\n",
       "    </tr>\n",
       "  </tbody>\n",
       "</table>\n",
       "<p>3 rows × 26 columns</p>\n",
       "</div>"
      ],
      "text/plain": [
       "   permaticker  siccode lastupdated  firstadded firstpricedate lastpricedate  \\\n",
       "0       196290     3826  2023-12-20  2014-09-26     1999-11-18    2024-01-05   \n",
       "1       124392     3334  2023-10-26  2016-11-01     2016-11-01    2024-01-05   \n",
       "2       122827     6022  2019-07-29  2017-09-09     1998-09-25    2003-01-28   \n",
       "\n",
       "  firstquarter lastquarter isdelisted ticker  ...  \\\n",
       "0   1997-06-30  2023-09-30          N      A  ...   \n",
       "1   2014-12-31  2023-09-30          N     AA  ...   \n",
       "2   1997-09-30  2002-09-30          Y   AAAB  ...   \n",
       "\n",
       "                      famaindustry              sector  \\\n",
       "0  Measuring and Control Equipment          Healthcare   \n",
       "1                  Steel Works Etc     Basic Materials   \n",
       "2                          Banking  Financial Services   \n",
       "\n",
       "                 industry scalemarketcap scalerevenue relatedtickers currency  \\\n",
       "0  Diagnostics & Research      5 - Large    5 - Large           None      USD   \n",
       "1                Aluminum      5 - Large    5 - Large           None      USD   \n",
       "2        Banks - Regional      2 - Micro     1 - Nano           None      USD   \n",
       "\n",
       "              location                                         secfilings  \\\n",
       "0    California; U.S.A  https://www.sec.gov/cgi-bin/browse-edgar?actio...   \n",
       "1  Pennsylvania; U.S.A  https://www.sec.gov/cgi-bin/browse-edgar?actio...   \n",
       "2       Florida; U.S.A  https://www.sec.gov/cgi-bin/browse-edgar?actio...   \n",
       "\n",
       "               companysite  \n",
       "0  https://www.agilent.com  \n",
       "1     http://www.alcoa.com  \n",
       "2                     None  \n",
       "\n",
       "[3 rows x 26 columns]"
      ]
     },
     "execution_count": 4,
     "metadata": {
      "slideshow": {
       "slide_type": "slide"
      }
     },
     "output_type": "execute_result"
    }
   ],
   "source": [
    "pd.read_sql(\"select top 3 * from tickers\", conn)"
   ]
  },
  {
   "cell_type": "code",
   "execution_count": 5,
   "metadata": {
    "slideshow": {
     "slide_type": "slide"
    }
   },
   "outputs": [
    {
     "data": {
      "text/html": [
       "<div>\n",
       "<style scoped>\n",
       "    .dataframe tbody tr th:only-of-type {\n",
       "        vertical-align: middle;\n",
       "    }\n",
       "\n",
       "    .dataframe tbody tr th {\n",
       "        vertical-align: top;\n",
       "    }\n",
       "\n",
       "    .dataframe thead th {\n",
       "        text-align: right;\n",
       "    }\n",
       "</style>\n",
       "<table border=\"1\" class=\"dataframe\">\n",
       "  <thead>\n",
       "    <tr style=\"text-align: right;\">\n",
       "      <th></th>\n",
       "      <th>tbl</th>\n",
       "      <th>indicator</th>\n",
       "      <th>isfilter</th>\n",
       "      <th>isprimarykey</th>\n",
       "      <th>title</th>\n",
       "      <th>description</th>\n",
       "      <th>unittype</th>\n",
       "    </tr>\n",
       "  </thead>\n",
       "  <tbody>\n",
       "    <tr>\n",
       "      <th>0</th>\n",
       "      <td>SF1</td>\n",
       "      <td>revenue</td>\n",
       "      <td>N</td>\n",
       "      <td>N</td>\n",
       "      <td>Revenues</td>\n",
       "      <td>[Income Statement] The amount of Revenue recog...</td>\n",
       "      <td>currency</td>\n",
       "    </tr>\n",
       "    <tr>\n",
       "      <th>1</th>\n",
       "      <td>SF1</td>\n",
       "      <td>cor</td>\n",
       "      <td>N</td>\n",
       "      <td>N</td>\n",
       "      <td>Cost of Revenue</td>\n",
       "      <td>[Income Statement] The aggregate cost of goods...</td>\n",
       "      <td>currency</td>\n",
       "    </tr>\n",
       "    <tr>\n",
       "      <th>2</th>\n",
       "      <td>SF1</td>\n",
       "      <td>sgna</td>\n",
       "      <td>N</td>\n",
       "      <td>N</td>\n",
       "      <td>Selling General and Administrative Expense</td>\n",
       "      <td>[Income Statement] A component of [OpEx] repre...</td>\n",
       "      <td>currency</td>\n",
       "    </tr>\n",
       "  </tbody>\n",
       "</table>\n",
       "</div>"
      ],
      "text/plain": [
       "   tbl indicator isfilter isprimarykey  \\\n",
       "0  SF1   revenue        N            N   \n",
       "1  SF1       cor        N            N   \n",
       "2  SF1      sgna        N            N   \n",
       "\n",
       "                                        title  \\\n",
       "0                                    Revenues   \n",
       "1                             Cost of Revenue   \n",
       "2  Selling General and Administrative Expense   \n",
       "\n",
       "                                         description  unittype  \n",
       "0  [Income Statement] The amount of Revenue recog...  currency  \n",
       "1  [Income Statement] The aggregate cost of goods...  currency  \n",
       "2  [Income Statement] A component of [OpEx] repre...  currency  "
      ]
     },
     "execution_count": 5,
     "metadata": {
      "slideshow": {
       "slide_type": "slide"
      }
     },
     "output_type": "execute_result"
    }
   ],
   "source": [
    "pd.read_sql(\"select top 3 * from indicators\", conn)"
   ]
  },
  {
   "cell_type": "code",
   "execution_count": 6,
   "metadata": {
    "slideshow": {
     "slide_type": "slide"
    }
   },
   "outputs": [
    {
     "data": {
      "text/html": [
       "<div>\n",
       "<style scoped>\n",
       "    .dataframe tbody tr th:only-of-type {\n",
       "        vertical-align: middle;\n",
       "    }\n",
       "\n",
       "    .dataframe tbody tr th {\n",
       "        vertical-align: top;\n",
       "    }\n",
       "\n",
       "    .dataframe thead th {\n",
       "        text-align: right;\n",
       "    }\n",
       "</style>\n",
       "<table border=\"1\" class=\"dataframe\">\n",
       "  <thead>\n",
       "    <tr style=\"text-align: right;\">\n",
       "      <th></th>\n",
       "      <th>ticker</th>\n",
       "      <th>date</th>\n",
       "      <th>lastupdated</th>\n",
       "      <th>opn</th>\n",
       "      <th>high</th>\n",
       "      <th>low</th>\n",
       "      <th>cls</th>\n",
       "      <th>volume</th>\n",
       "      <th>closeadj</th>\n",
       "      <th>closeunadj</th>\n",
       "    </tr>\n",
       "  </thead>\n",
       "  <tbody>\n",
       "    <tr>\n",
       "      <th>0</th>\n",
       "      <td>PTMN</td>\n",
       "      <td>2018-10-17</td>\n",
       "      <td>2023-11-17</td>\n",
       "      <td>31.900</td>\n",
       "      <td>32.200</td>\n",
       "      <td>31.800</td>\n",
       "      <td>31.900</td>\n",
       "      <td>4428.200</td>\n",
       "      <td>13.933</td>\n",
       "      <td>3.190</td>\n",
       "    </tr>\n",
       "    <tr>\n",
       "      <th>1</th>\n",
       "      <td>RELI</td>\n",
       "      <td>2019-06-14</td>\n",
       "      <td>2023-02-23</td>\n",
       "      <td>192.855</td>\n",
       "      <td>192.855</td>\n",
       "      <td>177.105</td>\n",
       "      <td>177.105</td>\n",
       "      <td>91.267</td>\n",
       "      <td>177.105</td>\n",
       "      <td>0.139</td>\n",
       "    </tr>\n",
       "    <tr>\n",
       "      <th>2</th>\n",
       "      <td>REX</td>\n",
       "      <td>2019-06-14</td>\n",
       "      <td>2022-08-08</td>\n",
       "      <td>23.607</td>\n",
       "      <td>23.667</td>\n",
       "      <td>22.630</td>\n",
       "      <td>22.663</td>\n",
       "      <td>142662.000</td>\n",
       "      <td>22.663</td>\n",
       "      <td>67.990</td>\n",
       "    </tr>\n",
       "  </tbody>\n",
       "</table>\n",
       "</div>"
      ],
      "text/plain": [
       "  ticker        date lastupdated      opn     high      low      cls  \\\n",
       "0   PTMN  2018-10-17  2023-11-17   31.900   32.200   31.800   31.900   \n",
       "1   RELI  2019-06-14  2023-02-23  192.855  192.855  177.105  177.105   \n",
       "2    REX  2019-06-14  2022-08-08   23.607   23.667   22.630   22.663   \n",
       "\n",
       "       volume  closeadj  closeunadj  \n",
       "0    4428.200    13.933       3.190  \n",
       "1      91.267   177.105       0.139  \n",
       "2  142662.000    22.663      67.990  "
      ]
     },
     "execution_count": 6,
     "metadata": {
      "slideshow": {
       "slide_type": "slide"
      }
     },
     "output_type": "execute_result"
    }
   ],
   "source": [
    "pd.read_sql(\"select top 3 * from sep\", conn)"
   ]
  },
  {
   "cell_type": "code",
   "execution_count": 7,
   "metadata": {
    "slideshow": {
     "slide_type": "slide"
    }
   },
   "outputs": [
    {
     "data": {
      "text/html": [
       "<div>\n",
       "<style scoped>\n",
       "    .dataframe tbody tr th:only-of-type {\n",
       "        vertical-align: middle;\n",
       "    }\n",
       "\n",
       "    .dataframe tbody tr th {\n",
       "        vertical-align: top;\n",
       "    }\n",
       "\n",
       "    .dataframe thead th {\n",
       "        text-align: right;\n",
       "    }\n",
       "</style>\n",
       "<table border=\"1\" class=\"dataframe\">\n",
       "  <thead>\n",
       "    <tr style=\"text-align: right;\">\n",
       "      <th></th>\n",
       "      <th>ticker</th>\n",
       "      <th>date</th>\n",
       "      <th>lastupdated</th>\n",
       "      <th>ev</th>\n",
       "      <th>evebit</th>\n",
       "      <th>evebitda</th>\n",
       "      <th>marketcap</th>\n",
       "      <th>pb</th>\n",
       "      <th>pe</th>\n",
       "      <th>ps</th>\n",
       "    </tr>\n",
       "  </thead>\n",
       "  <tbody>\n",
       "    <tr>\n",
       "      <th>0</th>\n",
       "      <td>APCC</td>\n",
       "      <td>2000-05-19</td>\n",
       "      <td>2019-03-28</td>\n",
       "      <td>6145.0</td>\n",
       "      <td>21.0</td>\n",
       "      <td>19.0</td>\n",
       "      <td>6601.2</td>\n",
       "      <td>7.3</td>\n",
       "      <td>32.0</td>\n",
       "      <td>4.9</td>\n",
       "    </tr>\n",
       "    <tr>\n",
       "      <th>1</th>\n",
       "      <td>MYGN</td>\n",
       "      <td>2006-12-29</td>\n",
       "      <td>2018-10-18</td>\n",
       "      <td>1158.0</td>\n",
       "      <td>-28.0</td>\n",
       "      <td>-33.7</td>\n",
       "      <td>1246.6</td>\n",
       "      <td>5.2</td>\n",
       "      <td>-30.1</td>\n",
       "      <td>10.2</td>\n",
       "    </tr>\n",
       "    <tr>\n",
       "      <th>2</th>\n",
       "      <td>GNI</td>\n",
       "      <td>2006-07-21</td>\n",
       "      <td>2018-10-18</td>\n",
       "      <td>177.3</td>\n",
       "      <td>11.9</td>\n",
       "      <td>11.7</td>\n",
       "      <td>178.1</td>\n",
       "      <td>12.1</td>\n",
       "      <td>11.9</td>\n",
       "      <td>10.1</td>\n",
       "    </tr>\n",
       "  </tbody>\n",
       "</table>\n",
       "</div>"
      ],
      "text/plain": [
       "  ticker        date lastupdated      ev  evebit  evebitda  marketcap    pb  \\\n",
       "0   APCC  2000-05-19  2019-03-28  6145.0    21.0      19.0     6601.2   7.3   \n",
       "1   MYGN  2006-12-29  2018-10-18  1158.0   -28.0     -33.7     1246.6   5.2   \n",
       "2    GNI  2006-07-21  2018-10-18   177.3    11.9      11.7      178.1  12.1   \n",
       "\n",
       "     pe    ps  \n",
       "0  32.0   4.9  \n",
       "1 -30.1  10.2  \n",
       "2  11.9  10.1  "
      ]
     },
     "execution_count": 7,
     "metadata": {
      "slideshow": {
       "slide_type": "slide"
      }
     },
     "output_type": "execute_result"
    }
   ],
   "source": [
    "pd.read_sql(\"select top 3 * from daily\", conn)"
   ]
  },
  {
   "cell_type": "code",
   "execution_count": 8,
   "metadata": {
    "slideshow": {
     "slide_type": "slide"
    }
   },
   "outputs": [
    {
     "data": {
      "text/html": [
       "<div>\n",
       "<style scoped>\n",
       "    .dataframe tbody tr th:only-of-type {\n",
       "        vertical-align: middle;\n",
       "    }\n",
       "\n",
       "    .dataframe tbody tr th {\n",
       "        vertical-align: top;\n",
       "    }\n",
       "\n",
       "    .dataframe thead th {\n",
       "        text-align: right;\n",
       "    }\n",
       "</style>\n",
       "<table border=\"1\" class=\"dataframe\">\n",
       "  <thead>\n",
       "    <tr style=\"text-align: right;\">\n",
       "      <th></th>\n",
       "      <th>ticker</th>\n",
       "      <th>dimension</th>\n",
       "      <th>calendardate</th>\n",
       "      <th>datekey</th>\n",
       "      <th>reportperiod</th>\n",
       "      <th>lastupdated</th>\n",
       "      <th>accoci</th>\n",
       "      <th>assets</th>\n",
       "      <th>assetsavg</th>\n",
       "      <th>assetsc</th>\n",
       "      <th>...</th>\n",
       "      <th>sharesbas</th>\n",
       "      <th>shareswa</th>\n",
       "      <th>shareswadil</th>\n",
       "      <th>sps</th>\n",
       "      <th>tangibles</th>\n",
       "      <th>taxassets</th>\n",
       "      <th>taxexp</th>\n",
       "      <th>taxliabilities</th>\n",
       "      <th>tbvps</th>\n",
       "      <th>workingcapital</th>\n",
       "    </tr>\n",
       "  </thead>\n",
       "  <tbody>\n",
       "    <tr>\n",
       "      <th>0</th>\n",
       "      <td>DWAC</td>\n",
       "      <td>ARQ</td>\n",
       "      <td>2021-06-30</td>\n",
       "      <td>2021-09-01</td>\n",
       "      <td>2021-06-30</td>\n",
       "      <td>2023-11-13</td>\n",
       "      <td>0.0</td>\n",
       "      <td>1.262350e+05</td>\n",
       "      <td>None</td>\n",
       "      <td>None</td>\n",
       "      <td>...</td>\n",
       "      <td>38824109.0</td>\n",
       "      <td>7500000.0</td>\n",
       "      <td>7500000.0</td>\n",
       "      <td>0.000</td>\n",
       "      <td>1.262350e+05</td>\n",
       "      <td>0.0</td>\n",
       "      <td>0.0</td>\n",
       "      <td>0.0</td>\n",
       "      <td>0.017</td>\n",
       "      <td>None</td>\n",
       "    </tr>\n",
       "    <tr>\n",
       "      <th>1</th>\n",
       "      <td>WEX</td>\n",
       "      <td>ARQ</td>\n",
       "      <td>2009-12-31</td>\n",
       "      <td>2010-02-26</td>\n",
       "      <td>2009-12-31</td>\n",
       "      <td>2023-10-28</td>\n",
       "      <td>-287000.0</td>\n",
       "      <td>1.499662e+09</td>\n",
       "      <td>None</td>\n",
       "      <td>None</td>\n",
       "      <td>...</td>\n",
       "      <td>38213657.0</td>\n",
       "      <td>38240000.0</td>\n",
       "      <td>39379000.0</td>\n",
       "      <td>2.191</td>\n",
       "      <td>1.149620e+09</td>\n",
       "      <td>183602000.0</td>\n",
       "      <td>8379000.0</td>\n",
       "      <td>109511000.0</td>\n",
       "      <td>30.063</td>\n",
       "      <td>None</td>\n",
       "    </tr>\n",
       "    <tr>\n",
       "      <th>2</th>\n",
       "      <td>WEX</td>\n",
       "      <td>ARQ</td>\n",
       "      <td>2010-03-31</td>\n",
       "      <td>2010-04-30</td>\n",
       "      <td>2010-03-31</td>\n",
       "      <td>2023-10-28</td>\n",
       "      <td>-568000.0</td>\n",
       "      <td>1.564785e+09</td>\n",
       "      <td>None</td>\n",
       "      <td>None</td>\n",
       "      <td>...</td>\n",
       "      <td>38790106.0</td>\n",
       "      <td>38334000.0</td>\n",
       "      <td>39122000.0</td>\n",
       "      <td>2.187</td>\n",
       "      <td>1.216255e+09</td>\n",
       "      <td>176579000.0</td>\n",
       "      <td>11133000.0</td>\n",
       "      <td>109084000.0</td>\n",
       "      <td>31.728</td>\n",
       "      <td>None</td>\n",
       "    </tr>\n",
       "  </tbody>\n",
       "</table>\n",
       "<p>3 rows × 111 columns</p>\n",
       "</div>"
      ],
      "text/plain": [
       "  ticker dimension calendardate     datekey reportperiod lastupdated  \\\n",
       "0   DWAC       ARQ   2021-06-30  2021-09-01   2021-06-30  2023-11-13   \n",
       "1    WEX       ARQ   2009-12-31  2010-02-26   2009-12-31  2023-10-28   \n",
       "2    WEX       ARQ   2010-03-31  2010-04-30   2010-03-31  2023-10-28   \n",
       "\n",
       "     accoci        assets assetsavg assetsc  ...   sharesbas    shareswa  \\\n",
       "0       0.0  1.262350e+05      None    None  ...  38824109.0   7500000.0   \n",
       "1 -287000.0  1.499662e+09      None    None  ...  38213657.0  38240000.0   \n",
       "2 -568000.0  1.564785e+09      None    None  ...  38790106.0  38334000.0   \n",
       "\n",
       "   shareswadil    sps     tangibles    taxassets      taxexp  taxliabilities  \\\n",
       "0    7500000.0  0.000  1.262350e+05          0.0         0.0             0.0   \n",
       "1   39379000.0  2.191  1.149620e+09  183602000.0   8379000.0     109511000.0   \n",
       "2   39122000.0  2.187  1.216255e+09  176579000.0  11133000.0     109084000.0   \n",
       "\n",
       "    tbvps  workingcapital  \n",
       "0   0.017            None  \n",
       "1  30.063            None  \n",
       "2  31.728            None  \n",
       "\n",
       "[3 rows x 111 columns]"
      ]
     },
     "execution_count": 8,
     "metadata": {
      "slideshow": {
       "slide_type": "slide"
      }
     },
     "output_type": "execute_result"
    }
   ],
   "source": [
    "pd.read_sql(\"select top 3 * from sf1\", conn)"
   ]
  },
  {
   "cell_type": "markdown",
   "metadata": {
    "slideshow": {
     "slide_type": "slide"
    }
   },
   "source": [
    "### Weekly tables\n",
    "\n",
    "- Weekly versions of sep and daily (sep_weekly $\\sim$ sep, weekly $\\sim$ daily)\n",
    "- Convenient for looking at strategies that trade weekly\n",
    "- Calculate weekly returns from weekly adjusted closing prices\n",
    "  - Prices are dividend and split adjusted\n",
    "  - So % changes are total returns including dividends\n",
    "- Can use end-of-prior-week pb (price-to-book) from weekly table to pick stocks (for example)."
   ]
  },
  {
   "cell_type": "markdown",
   "metadata": {
    "slideshow": {
     "slide_type": "slide"
    }
   },
   "source": [
    "### Momentum\n",
    "\n",
    "- What people have found in equities and other markets (see \"Value and Momentum Everywhere\" by Asness and other AQR people) is\n",
    "  - long-term reversals (5 year returns reverse somewhat)\n",
    "  - medium-term momentum (1 year or 6 month returns continue)\n",
    "  - short-term reversals (1 month or 1 week returns reverse)\n",
    "- The conventional definition of momentum in academic work (including the Asness paper) is last year's return excluding the most recent month\n",
    "  - In other words, the return over the first 11 of the previous 12 months."
   ]
  },
  {
   "cell_type": "markdown",
   "metadata": {
    "slideshow": {
     "slide_type": "slide"
    }
   },
   "source": [
    "### Calculating momentum\n",
    "\n",
    "- Each week, we want to look back one year and compound the returns, excluding the most recent month.\n",
    "- Count the weeks in the prior year as 1, 2, ..., 52.\n",
    "- We want to calculate $(1+r_1)\\cdots (1+r_{48})$.\n",
    "- We can do this as\n",
    "$$\\frac{(1+r_1)\\cdots (1+r_{52})}{(1+r_{49})\\cdots (1+r_{52})}$$\n",
    "- In other words,\n",
    "$$\\frac{1 + \\text{last year's return}}{1+\\text{last month's return}}$$"
   ]
  },
  {
   "cell_type": "markdown",
   "metadata": {
    "slideshow": {
     "slide_type": "slide"
    }
   },
   "source": [
    "### Get data\n",
    "\n",
    "- Start in 2010 just to make the example quicker to run (data starts in 2000).\n",
    "- Get closeadj to compute returns.\n",
    "- Get closeunadj to filter out penny stocks (will impose price $\\ge$ 5).\n",
    "- In case there are two rows for the same stock/date, keep the one with the latest \"lastupdated.\"\n"
   ]
  },
  {
   "cell_type": "code",
   "execution_count": 9,
   "metadata": {
    "slideshow": {
     "slide_type": "slide"
    }
   },
   "outputs": [],
   "source": [
    "prices = pd.read_sql(\n",
    "    \"\"\" \n",
    "    select date, ticker, closeadj, closeunadj, lastupdated from sep_weekly \n",
    "    where date>='2010-01-01'\n",
    "    order by ticker, date, lastupdated    \n",
    "    \"\"\",\n",
    "    conn,\n",
    ")\n",
    "prices = prices.groupby([\"ticker\", \"date\"]).last()\n",
    "prices = prices.droplevel(\"lastupdated\")"
   ]
  },
  {
   "cell_type": "code",
   "execution_count": 10,
   "metadata": {
    "slideshow": {
     "slide_type": "slide"
    }
   },
   "outputs": [],
   "source": [
    "rets = prices.groupby(\n",
    "    \"ticker\", \n",
    "    group_keys=False\n",
    ").closeadj.pct_change()\n",
    "\n",
    "rets_annual = prices.groupby(\n",
    "    \"ticker\", \n",
    "    group_keys=False\n",
    ").closeadj.pct_change(52)\n",
    "\n",
    "rets_monthly = prices.groupby(\n",
    "    \"ticker\", \n",
    "    group_keys=False\n",
    ").closeadj.pct_change(4)\n",
    "\n",
    "mom = (1 + rets_annual) / (1 + rets_monthly) - 1"
   ]
  },
  {
   "cell_type": "markdown",
   "metadata": {
    "slideshow": {
     "slide_type": "slide"
    }
   },
   "source": [
    "### Value investing\n",
    "\n",
    "- Value means cheap relative to quality.  Value investing has a very long tradition.\n",
    "- Conventional measures are price-to-earnings (PE) and price-to-book (PB).\n",
    "- Low PE or low PB stocks are value stocks.  High PE or PB stocks are \"growth stocks\" or \"glamour stocks.\"\n",
    "- We'll use PB in this example, but PE is also worth exploring (also price-to-sales, price-to-clicks, ...)"
   ]
  },
  {
   "cell_type": "markdown",
   "metadata": {
    "slideshow": {
     "slide_type": "slide"
    }
   },
   "source": [
    "### Get data\n",
    "\n",
    "- Follow same recipe as when getting prices but use the weekly table.\n",
    "- Get pb and marketcap (so we can filter to small caps)"
   ]
  },
  {
   "cell_type": "code",
   "execution_count": 11,
   "metadata": {
    "slideshow": {
     "slide_type": "slide"
    }
   },
   "outputs": [],
   "source": [
    "df = pd.read_sql(\n",
    "    \"\"\" \n",
    "    select date, ticker, pb, marketcap, lastupdated from weekly \n",
    "    where date>='2010-01-01'\n",
    "    order by ticker, date, lastupdated    \n",
    "    \"\"\",\n",
    "    conn,\n",
    ")\n",
    "df = df.groupby([\"ticker\", \"date\"]).last()\n",
    "df = df.droplevel(\"lastupdated\")"
   ]
  },
  {
   "cell_type": "markdown",
   "metadata": {
    "slideshow": {
     "slide_type": "slide"
    }
   },
   "source": [
    "### Merge and lag\n",
    "\n",
    "- The return shown at a given date is the return over the week ending on that date.\n",
    "- To pick stocks, we need to use characteristics known at the beginning of the week.\n",
    "  - This is the same as the end of the prior week.\n",
    "- We will line up marketcap, closeunadj, mom, and pb from the prior week with the return of the current week.\n"
   ]
  },
  {
   "cell_type": "code",
   "execution_count": 12,
   "metadata": {
    "slideshow": {
     "slide_type": "slide"
    }
   },
   "outputs": [],
   "source": [
    "df[\"close\"] = prices.closeunadj\n",
    "df[\"ret\"] = rets\n",
    "df[\"mom\"] = mom\n",
    "for col in [\"marketcap\", \"close\", \"mom\", \"pb\"]:\n",
    "    df[col] = df.groupby(\"ticker\", group_keys=False)[col].shift()\n",
    "df = df.dropna()"
   ]
  },
  {
   "cell_type": "markdown",
   "metadata": {
    "slideshow": {
     "slide_type": "slide"
    }
   },
   "source": [
    "### Exclude penny stocks\n",
    " \n",
    "- Drop all stocks with price < 5."
   ]
  },
  {
   "cell_type": "code",
   "execution_count": 13,
   "metadata": {
    "slideshow": {
     "slide_type": "slide"
    }
   },
   "outputs": [],
   "source": [
    "size_rank = df.groupby(\n",
    "    \"date\", \n",
    "    group_keys=False\n",
    ").marketcap.rank(ascending=False)\n",
    "\n",
    "df = df[size_rank>1000]\n",
    "df = df[df.close > 5]"
   ]
  },
  {
   "cell_type": "markdown",
   "metadata": {
    "slideshow": {
     "slide_type": "slide"
    }
   },
   "source": [
    "### Number of stocks by week"
   ]
  },
  {
   "cell_type": "code",
   "execution_count": 14,
   "metadata": {
    "slideshow": {
     "slide_type": "slide"
    }
   },
   "outputs": [
    {
     "data": {
      "text/plain": [
       "<AxesSubplot: xlabel='date'>"
      ]
     },
     "execution_count": 14,
     "metadata": {
      "slideshow": {
       "slide_type": "slide"
      }
     },
     "output_type": "execute_result"
    },
    {
     "data": {
      "image/png": "[encoded data removed]",
      "text/plain": [
       "<Figure size 640x480 with 1 Axes>"
      ]
     },
     "metadata": {
      "slideshow": {
       "slide_type": "slide"
      }
     },
     "output_type": "display_data"
    }
   ],
   "source": [
    "num_stocks = df.groupby(\"date\", group_keys=True).ret.count()\n",
    "num_stocks.index = pd.to_datetime(num_stocks.index)\n",
    "num_stocks.plot()"
   ]
  },
  {
   "cell_type": "markdown",
   "metadata": {
    "slideshow": {
     "slide_type": "slide"
    }
   },
   "source": [
    "### Preliminary analysis\n",
    "\n",
    "- To understand how returns depend on momentum and value, we start by sorting into quintiles each week on each characteristic.\n",
    "- We intersect the two sorts, forming 25 groups each week.\n",
    "- We calculate average returns within each group.  These are equally weighted portfolio returns."
   ]
  },
  {
   "cell_type": "code",
   "execution_count": 15,
   "metadata": {
    "slideshow": {
     "slide_type": "slide"
    }
   },
   "outputs": [],
   "source": [
    "df[\"pb_quintile\"] = df.groupby(\"date\", group_keys=False).pb.apply(\n",
    "    lambda x: pd.qcut(x, 5, labels=range(1, 6))\n",
    ")\n",
    "df[\"mom_quintile\"] = df.groupby(\"date\", group_keys=False).mom.apply(\n",
    "    lambda x: pd.qcut(x, 5, labels=range(1, 6))\n",
    ")\n",
    "sorted_rets = df.groupby(\n",
    "    [\"date\", \"pb_quintile\", \"mom_quintile\"], \n",
    "    observed=True,\n",
    "    group_keys=True\n",
    ").ret.mean()\n",
    "sorted_rets = sorted_rets.unstack([\"pb_quintile\", \"mom_quintile\"])"
   ]
  },
  {
   "cell_type": "code",
   "execution_count": 16,
   "metadata": {
    "slideshow": {
     "slide_type": "slide"
    }
   },
   "outputs": [
    {
     "data": {
      "text/html": [
       "<div>\n",
       "<style scoped>\n",
       "    .dataframe tbody tr th:only-of-type {\n",
       "        vertical-align: middle;\n",
       "    }\n",
       "\n",
       "    .dataframe tbody tr th {\n",
       "        vertical-align: top;\n",
       "    }\n",
       "\n",
       "    .dataframe thead tr th {\n",
       "        text-align: left;\n",
       "    }\n",
       "\n",
       "    .dataframe thead tr:last-of-type th {\n",
       "        text-align: right;\n",
       "    }\n",
       "</style>\n",
       "<table border=\"1\" class=\"dataframe\">\n",
       "  <thead>\n",
       "    <tr>\n",
       "      <th>pb_quintile</th>\n",
       "      <th colspan=\"5\" halign=\"left\">1</th>\n",
       "      <th colspan=\"5\" halign=\"left\">2</th>\n",
       "      <th>...</th>\n",
       "      <th colspan=\"5\" halign=\"left\">4</th>\n",
       "      <th colspan=\"5\" halign=\"left\">5</th>\n",
       "    </tr>\n",
       "    <tr>\n",
       "      <th>mom_quintile</th>\n",
       "      <th>1</th>\n",
       "      <th>2</th>\n",
       "      <th>3</th>\n",
       "      <th>4</th>\n",
       "      <th>5</th>\n",
       "      <th>1</th>\n",
       "      <th>2</th>\n",
       "      <th>3</th>\n",
       "      <th>4</th>\n",
       "      <th>5</th>\n",
       "      <th>...</th>\n",
       "      <th>1</th>\n",
       "      <th>2</th>\n",
       "      <th>3</th>\n",
       "      <th>4</th>\n",
       "      <th>5</th>\n",
       "      <th>1</th>\n",
       "      <th>2</th>\n",
       "      <th>3</th>\n",
       "      <th>4</th>\n",
       "      <th>5</th>\n",
       "    </tr>\n",
       "    <tr>\n",
       "      <th>date</th>\n",
       "      <th></th>\n",
       "      <th></th>\n",
       "      <th></th>\n",
       "      <th></th>\n",
       "      <th></th>\n",
       "      <th></th>\n",
       "      <th></th>\n",
       "      <th></th>\n",
       "      <th></th>\n",
       "      <th></th>\n",
       "      <th></th>\n",
       "      <th></th>\n",
       "      <th></th>\n",
       "      <th></th>\n",
       "      <th></th>\n",
       "      <th></th>\n",
       "      <th></th>\n",
       "      <th></th>\n",
       "      <th></th>\n",
       "      <th></th>\n",
       "      <th></th>\n",
       "    </tr>\n",
       "  </thead>\n",
       "  <tbody>\n",
       "    <tr>\n",
       "      <th>2011-01-14</th>\n",
       "      <td>0.003848</td>\n",
       "      <td>-0.002287</td>\n",
       "      <td>0.006847</td>\n",
       "      <td>-0.000550</td>\n",
       "      <td>0.000852</td>\n",
       "      <td>-0.014294</td>\n",
       "      <td>-0.007331</td>\n",
       "      <td>-0.017853</td>\n",
       "      <td>-0.005665</td>\n",
       "      <td>-0.003503</td>\n",
       "      <td>...</td>\n",
       "      <td>-0.002017</td>\n",
       "      <td>-0.008608</td>\n",
       "      <td>-0.011751</td>\n",
       "      <td>-0.000972</td>\n",
       "      <td>0.004042</td>\n",
       "      <td>-0.010017</td>\n",
       "      <td>-0.016354</td>\n",
       "      <td>-0.011555</td>\n",
       "      <td>0.000095</td>\n",
       "      <td>0.011148</td>\n",
       "    </tr>\n",
       "    <tr>\n",
       "      <th>2011-01-21</th>\n",
       "      <td>0.012342</td>\n",
       "      <td>0.008409</td>\n",
       "      <td>0.009834</td>\n",
       "      <td>0.015451</td>\n",
       "      <td>0.002926</td>\n",
       "      <td>0.016729</td>\n",
       "      <td>0.017019</td>\n",
       "      <td>0.005577</td>\n",
       "      <td>0.011915</td>\n",
       "      <td>0.008766</td>\n",
       "      <td>...</td>\n",
       "      <td>0.019471</td>\n",
       "      <td>0.011235</td>\n",
       "      <td>0.016113</td>\n",
       "      <td>0.012968</td>\n",
       "      <td>0.028114</td>\n",
       "      <td>0.003879</td>\n",
       "      <td>0.009990</td>\n",
       "      <td>-0.000224</td>\n",
       "      <td>0.019024</td>\n",
       "      <td>0.008260</td>\n",
       "    </tr>\n",
       "    <tr>\n",
       "      <th>2011-01-28</th>\n",
       "      <td>-0.019970</td>\n",
       "      <td>-0.003331</td>\n",
       "      <td>-0.005422</td>\n",
       "      <td>-0.011979</td>\n",
       "      <td>-0.021571</td>\n",
       "      <td>-0.018761</td>\n",
       "      <td>-0.013485</td>\n",
       "      <td>-0.011322</td>\n",
       "      <td>-0.022904</td>\n",
       "      <td>-0.024932</td>\n",
       "      <td>...</td>\n",
       "      <td>-0.028604</td>\n",
       "      <td>-0.025485</td>\n",
       "      <td>-0.029492</td>\n",
       "      <td>-0.015414</td>\n",
       "      <td>-0.036851</td>\n",
       "      <td>-0.029170</td>\n",
       "      <td>-0.041022</td>\n",
       "      <td>-0.028589</td>\n",
       "      <td>-0.024798</td>\n",
       "      <td>-0.041725</td>\n",
       "    </tr>\n",
       "    <tr>\n",
       "      <th>2011-02-04</th>\n",
       "      <td>-0.004283</td>\n",
       "      <td>0.006279</td>\n",
       "      <td>-0.005805</td>\n",
       "      <td>0.010473</td>\n",
       "      <td>0.014758</td>\n",
       "      <td>-0.005800</td>\n",
       "      <td>0.004836</td>\n",
       "      <td>-0.001052</td>\n",
       "      <td>0.006198</td>\n",
       "      <td>0.019444</td>\n",
       "      <td>...</td>\n",
       "      <td>-0.011771</td>\n",
       "      <td>-0.000415</td>\n",
       "      <td>0.003025</td>\n",
       "      <td>0.005043</td>\n",
       "      <td>0.010816</td>\n",
       "      <td>-0.001913</td>\n",
       "      <td>-0.014447</td>\n",
       "      <td>-0.007645</td>\n",
       "      <td>0.004717</td>\n",
       "      <td>0.006695</td>\n",
       "    </tr>\n",
       "    <tr>\n",
       "      <th>2011-02-11</th>\n",
       "      <td>0.015693</td>\n",
       "      <td>0.022936</td>\n",
       "      <td>0.020645</td>\n",
       "      <td>0.020812</td>\n",
       "      <td>0.025529</td>\n",
       "      <td>0.016449</td>\n",
       "      <td>0.015239</td>\n",
       "      <td>0.019683</td>\n",
       "      <td>0.026489</td>\n",
       "      <td>0.030514</td>\n",
       "      <td>...</td>\n",
       "      <td>0.017176</td>\n",
       "      <td>0.031344</td>\n",
       "      <td>0.018916</td>\n",
       "      <td>0.036835</td>\n",
       "      <td>0.031097</td>\n",
       "      <td>0.025140</td>\n",
       "      <td>0.017540</td>\n",
       "      <td>0.026404</td>\n",
       "      <td>0.023187</td>\n",
       "      <td>0.041926</td>\n",
       "    </tr>\n",
       "  </tbody>\n",
       "</table>\n",
       "<p>5 rows × 25 columns</p>\n",
       "</div>"
      ],
      "text/plain": [
       "pb_quintile          1                                                 2  \\\n",
       "mom_quintile         1         2         3         4         5         1   \n",
       "date                                                                       \n",
       "2011-01-14    0.003848 -0.002287  0.006847 -0.000550  0.000852 -0.014294   \n",
       "2011-01-21    0.012342  0.008409  0.009834  0.015451  0.002926  0.016729   \n",
       "2011-01-28   -0.019970 -0.003331 -0.005422 -0.011979 -0.021571 -0.018761   \n",
       "2011-02-04   -0.004283  0.006279 -0.005805  0.010473  0.014758 -0.005800   \n",
       "2011-02-11    0.015693  0.022936  0.020645  0.020812  0.025529  0.016449   \n",
       "\n",
       "pb_quintile                                           ...         4            \\\n",
       "mom_quintile         2         3         4         5  ...         1         2   \n",
       "date                                                  ...                       \n",
       "2011-01-14   -0.007331 -0.017853 -0.005665 -0.003503  ... -0.002017 -0.008608   \n",
       "2011-01-21    0.017019  0.005577  0.011915  0.008766  ...  0.019471  0.011235   \n",
       "2011-01-28   -0.013485 -0.011322 -0.022904 -0.024932  ... -0.028604 -0.025485   \n",
       "2011-02-04    0.004836 -0.001052  0.006198  0.019444  ... -0.011771 -0.000415   \n",
       "2011-02-11    0.015239  0.019683  0.026489  0.030514  ...  0.017176  0.031344   \n",
       "\n",
       "pb_quintile                                        5                      \\\n",
       "mom_quintile         3         4         5         1         2         3   \n",
       "date                                                                       \n",
       "2011-01-14   -0.011751 -0.000972  0.004042 -0.010017 -0.016354 -0.011555   \n",
       "2011-01-21    0.016113  0.012968  0.028114  0.003879  0.009990 -0.000224   \n",
       "2011-01-28   -0.029492 -0.015414 -0.036851 -0.029170 -0.041022 -0.028589   \n",
       "2011-02-04    0.003025  0.005043  0.010816 -0.001913 -0.014447 -0.007645   \n",
       "2011-02-11    0.018916  0.036835  0.031097  0.025140  0.017540  0.026404   \n",
       "\n",
       "pb_quintile                       \n",
       "mom_quintile         4         5  \n",
       "date                              \n",
       "2011-01-14    0.000095  0.011148  \n",
       "2011-01-21    0.019024  0.008260  \n",
       "2011-01-28   -0.024798 -0.041725  \n",
       "2011-02-04    0.004717  0.006695  \n",
       "2011-02-11    0.023187  0.041926  \n",
       "\n",
       "[5 rows x 25 columns]"
      ]
     },
     "execution_count": 16,
     "metadata": {
      "slideshow": {
       "slide_type": "slide"
      }
     },
     "output_type": "execute_result"
    }
   ],
   "source": [
    "sorted_rets.head()"
   ]
  },
  {
   "cell_type": "code",
   "execution_count": 17,
   "metadata": {
    "slideshow": {
     "slide_type": "slide"
    }
   },
   "outputs": [
    {
     "data": {
      "text/html": [
       "<div>\n",
       "<style scoped>\n",
       "    .dataframe tbody tr th:only-of-type {\n",
       "        vertical-align: middle;\n",
       "    }\n",
       "\n",
       "    .dataframe tbody tr th {\n",
       "        vertical-align: top;\n",
       "    }\n",
       "\n",
       "    .dataframe thead th {\n",
       "        text-align: right;\n",
       "    }\n",
       "</style>\n",
       "<table border=\"1\" class=\"dataframe\">\n",
       "  <thead>\n",
       "    <tr style=\"text-align: right;\">\n",
       "      <th>mom_quintile</th>\n",
       "      <th>1</th>\n",
       "      <th>2</th>\n",
       "      <th>3</th>\n",
       "      <th>4</th>\n",
       "      <th>5</th>\n",
       "    </tr>\n",
       "    <tr>\n",
       "      <th>pb_quintile</th>\n",
       "      <th></th>\n",
       "      <th></th>\n",
       "      <th></th>\n",
       "      <th></th>\n",
       "      <th></th>\n",
       "    </tr>\n",
       "  </thead>\n",
       "  <tbody>\n",
       "    <tr>\n",
       "      <th>1</th>\n",
       "      <td>0.038</td>\n",
       "      <td>0.134</td>\n",
       "      <td>0.159</td>\n",
       "      <td>0.163</td>\n",
       "      <td>0.140</td>\n",
       "    </tr>\n",
       "    <tr>\n",
       "      <th>2</th>\n",
       "      <td>0.057</td>\n",
       "      <td>0.105</td>\n",
       "      <td>0.116</td>\n",
       "      <td>0.110</td>\n",
       "      <td>0.128</td>\n",
       "    </tr>\n",
       "    <tr>\n",
       "      <th>3</th>\n",
       "      <td>0.068</td>\n",
       "      <td>0.095</td>\n",
       "      <td>0.106</td>\n",
       "      <td>0.103</td>\n",
       "      <td>0.132</td>\n",
       "    </tr>\n",
       "    <tr>\n",
       "      <th>4</th>\n",
       "      <td>0.084</td>\n",
       "      <td>0.091</td>\n",
       "      <td>0.109</td>\n",
       "      <td>0.127</td>\n",
       "      <td>0.128</td>\n",
       "    </tr>\n",
       "    <tr>\n",
       "      <th>5</th>\n",
       "      <td>0.001</td>\n",
       "      <td>0.077</td>\n",
       "      <td>0.110</td>\n",
       "      <td>0.094</td>\n",
       "      <td>0.152</td>\n",
       "    </tr>\n",
       "  </tbody>\n",
       "</table>\n",
       "</div>"
      ],
      "text/plain": [
       "mom_quintile      1      2      3      4      5\n",
       "pb_quintile                                    \n",
       "1             0.038  0.134  0.159  0.163  0.140\n",
       "2             0.057  0.105  0.116  0.110  0.128\n",
       "3             0.068  0.095  0.106  0.103  0.132\n",
       "4             0.084  0.091  0.109  0.127  0.128\n",
       "5             0.001  0.077  0.110  0.094  0.152"
      ]
     },
     "execution_count": 17,
     "metadata": {
      "slideshow": {
       "slide_type": "slide"
      }
     },
     "output_type": "execute_result"
    }
   ],
   "source": [
    "mean_sorted_rets = sorted_rets.mean()\n",
    "mean_sorted_rets = mean_sorted_rets.unstack()\n",
    "(52*mean_sorted_rets).round(3)"
   ]
  },
  {
   "cell_type": "markdown",
   "metadata": {
    "slideshow": {
     "slide_type": "slide"
    }
   },
   "source": [
    "### Example strategy\n",
    "\n",
    "- Compute momentum rank each week (1 = highest = best)\n",
    "- Compute value rank each week (1 = lowest = best)\n",
    "- Average ranks\n",
    "- Hold 50 stocks with best (1 = best) ranks each week, equally weighted\n",
    "- Compare to 50 stocks with worst ranks each week, equally weighted and compare to all stocks"
   ]
  },
  {
   "cell_type": "markdown",
   "metadata": {
    "slideshow": {
     "slide_type": "slide"
    }
   },
   "source": [
    "### Best stocks"
   ]
  },
  {
   "cell_type": "code",
   "execution_count": 18,
   "metadata": {
    "slideshow": {
     "slide_type": "slide"
    }
   },
   "outputs": [],
   "source": [
    "mom_rank = df.groupby(\"date\", group_keys=False).mom.rank(ascending=False)\n",
    "pb_rank = df.groupby(\"date\", group_keys=False).pb.rank()\n",
    "avg_rank = (mom_rank + pb_rank) / 2\n",
    "\n",
    "starting_from_best = avg_rank.groupby(\"date\", group_keys=False).rank()\n",
    "best = df[starting_from_best <= 50]\n",
    "best_rets = best.groupby(\"date\", group_keys=True).ret.mean()\n",
    "best_rets.index = pd.to_datetime(best_rets.index)"
   ]
  },
  {
   "cell_type": "markdown",
   "metadata": {
    "slideshow": {
     "slide_type": "slide"
    }
   },
   "source": [
    "### Worst and all stocks"
   ]
  },
  {
   "cell_type": "code",
   "execution_count": 19,
   "metadata": {
    "slideshow": {
     "slide_type": "slide"
    }
   },
   "outputs": [],
   "source": [
    "starting_from_worst = avg_rank.groupby(\n",
    "    \"date\", \n",
    "    group_keys=False\n",
    ").rank(ascending=False)\n",
    "worst = df[starting_from_worst <= 50]\n",
    "worst_rets = worst.groupby(\"date\", group_keys=True).ret.mean()\n",
    "worst_rets.index = pd.to_datetime(worst_rets.index)\n",
    "\n",
    "all_rets = df.groupby(\"date\", group_keys=True).ret.mean()\n",
    "all_rets.index = pd.to_datetime(all_rets.index)"
   ]
  },
  {
   "cell_type": "markdown",
   "metadata": {
    "slideshow": {
     "slide_type": "slide"
    }
   },
   "source": [
    "### Cumulative returns"
   ]
  },
  {
   "cell_type": "code",
   "execution_count": 20,
   "metadata": {
    "slideshow": {
     "slide_type": "slide"
    }
   },
   "outputs": [
    {
     "data": {
      "image/png": "[encoded data removed]",
      "text/plain": [
       "<Figure size 640x480 with 1 Axes>"
      ]
     },
     "metadata": {
      "slideshow": {
       "slide_type": "slide"
      }
     },
     "output_type": "display_data"
    }
   ],
   "source": [
    "import matplotlib.pyplot as plt\n",
    "(1+best_rets).cumprod().plot(label=\"best\")\n",
    "(1+worst_rets).cumprod().plot(label=\"worst\")\n",
    "(1+all_rets).cumprod().plot(label=\"all\")\n",
    "plt.legend()\n",
    "plt.show()"
   ]
  }
 ],
 "metadata": {
  "kernelspec": {
   "display_name": "Python 3",
   "language": "python",
   "name": "python3"
  },
  "language_info": {
   "codemirror_mode": {
    "name": "ipython",
    "version": 3
   },
   "file_extension": ".py",
   "mimetype": "text/x-python",
   "name": "python",
   "nbconvert_exporter": "python",
   "pygments_lexer": "ipython3",
   "version": "3.10.11"
  }
 },
 "nbformat": 4,
 "nbformat_minor": 2
}
