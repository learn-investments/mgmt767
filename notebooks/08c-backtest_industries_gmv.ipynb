{
 "cells": [
  {
   "attachments": {},
   "cell_type": "markdown",
   "metadata": {},
   "source": [
    "# Backtesting constrained strategies (industry portfolios): GMV\n",
    "\n",
    "We will compare the following four strategies.  Based on the estimated inputs each month, we will consider the optimal portfolio for a mean-variance investor with risk aversion of 3 that either is or is not short-sale constrained.\n",
    "- No position limits\n",
    "- No short sales\n",
    "- No short sales and maximum positions\n",
    "- Equal-weighted\n",
    "\n"
   ]
  },
  {
   "cell_type": "code",
   "execution_count": 1,
   "metadata": {},
   "outputs": [],
   "source": [
    "import numpy as np\n",
    "import pandas as pd\n",
    "from pandas_datareader import DataReader as pdr\n",
    "import plotly.graph_objects as go\n",
    "from scipy.optimize import minimize\n",
    "from cvxopt import matrix\n",
    "from cvxopt.solvers import qp as Solver, options as SolverOptions"
   ]
  },
  {
   "attachments": {},
   "cell_type": "markdown",
   "metadata": {},
   "source": [
    "Pull data"
   ]
  },
  {
   "cell_type": "code",
   "execution_count": 2,
   "metadata": {},
   "outputs": [],
   "source": [
    "# Read industry data and clean-up missing data (coded -99.99)\n",
    "ff48 = pdr(\"48_Industry_Portfolios\", \"famafrench\", start=1900)[0]\n",
    "\n",
    "# Clean-up missings\n",
    "for c in ff48.columns:\n",
    "    ff48[c] = np.where(ff48[c]==-99.99, np.nan, ff48[c])\n",
    "ff48 = ff48/100\n",
    "\n",
    "# Add risk-free rate\n",
    "ff3 = pdr('F-F_Research_Data_Factors','famafrench', start=1900)[0]/100\n",
    "df = ff48.join(ff3['RF'])\n",
    "\n",
    "# Keep data since Jan 1970\n",
    "df = df.loc['1970-01':].copy() # There is missing data prior to 1970"
   ]
  },
  {
   "attachments": {},
   "cell_type": "markdown",
   "metadata": {},
   "source": [
    "Create functions for tangency portfolio (with upper and lower position limits) and capital allocation"
   ]
  },
  {
   "cell_type": "code",
   "execution_count": 14,
   "metadata": {},
   "outputs": [],
   "source": [
    "def constrained_gmv(means, cov, min_wgt, max_wgt):\n",
    "    n = len(means)\n",
    "    Q = matrix(cov, tc=\"d\")\n",
    "    p = matrix(np.zeros(n), (n, 1), tc=\"d\")\n",
    "    if max_wgt == None:\n",
    "        if min_wgt==None:\n",
    "            # No position limits\n",
    "            G = matrix(np.zeros((n,n)), tc=\"d\")\n",
    "            h = matrix(np.zeros(n), (n, 1), tc=\"d\")  \n",
    "        else:\n",
    "            # Constraint: min-limit\n",
    "            G = matrix(-np.identity(n), tc=\"d\")\n",
    "            h = matrix(min_wgt*np.ones(n), (n, 1), tc=\"d\")  \n",
    "    else:\n",
    "        if min_wgt==None:\n",
    "            # Constraint: max-position limit only\n",
    "            G = matrix(np.identity(n), tc=\"d\")\n",
    "            h = matrix(max_wgt*np.ones(n), (n, 1), tc=\"d\")  \n",
    "        else:\n",
    "            # Constraint: minimum and maximum position limits\n",
    "            G = matrix(np.vstack((-np.identity(n), np.identity(n))), tc=\"d\")\n",
    "            h = matrix(np.append(min_wgt*np.ones(n), max_wgt*np.ones(n)), (2*n, 1), tc=\"d\")        \n",
    "    # Constraint: fully-invested portfolio\n",
    "    A = matrix(np.ones(n), (1, n), tc=\"d\")\n",
    "    b = matrix([1], (1, 1), tc=\"d\")\n",
    "    sol = Solver(Q, p, G, h, A, b)\n",
    "    wgts = np.array(sol[\"x\"]).flatten() if sol[\"status\"] == \"optimal\" else np.array(n * [np.nan])\n",
    "    return wgts   \n",
    "SolverOptions['show_progress'] = False "
   ]
  },
  {
   "cell_type": "code",
   "execution_count": 4,
   "metadata": {},
   "outputs": [],
   "source": [
    "def capital_allocation(mean, sd, rf, risk_aversion):\n",
    "    return (mean - rf) / (risk_aversion * (sd**2))"
   ]
  },
  {
   "attachments": {},
   "cell_type": "markdown",
   "metadata": {},
   "source": [
    "## Estimate inputs on expanding windows"
   ]
  },
  {
   "cell_type": "markdown",
   "metadata": {},
   "source": [
    "Parameters"
   ]
  },
  {
   "cell_type": "code",
   "execution_count": 5,
   "metadata": {},
   "outputs": [
    {
     "data": {
      "text/plain": [
       "Index(['Agric', 'Food ', 'Soda ', 'Beer ', 'Smoke', 'Toys ', 'Fun  ', 'Books',\n",
       "       'Hshld', 'Clths', 'Hlth ', 'MedEq', 'Drugs', 'Chems', 'Rubbr', 'Txtls',\n",
       "       'BldMt', 'Cnstr', 'Steel', 'FabPr', 'Mach ', 'ElcEq', 'Autos', 'Aero ',\n",
       "       'Ships', 'Guns ', 'Gold ', 'Mines', 'Coal ', 'Oil  ', 'Util ', 'Telcm',\n",
       "       'PerSv', 'BusSv', 'Comps', 'Chips', 'LabEq', 'Paper', 'Boxes', 'Trans',\n",
       "       'Whlsl', 'Rtail', 'Meals', 'Banks', 'Insur', 'RlEst', 'Fin  ', 'Other',\n",
       "       'RF'],\n",
       "      dtype='object')"
      ]
     },
     "execution_count": 5,
     "metadata": {},
     "output_type": "execute_result"
    }
   ],
   "source": [
    "df.columns"
   ]
  },
  {
   "cell_type": "code",
   "execution_count": 6,
   "metadata": {},
   "outputs": [],
   "source": [
    "# Initial estimation window\n",
    "WINDOW = 180\n",
    "\n",
    "# Define the risky asset list\n",
    "RISKY_ASSETS = df.columns[:-1]\n",
    "\n",
    "# Number of risky assets\n",
    "n = len(RISKY_ASSETS)\n",
    "\n",
    "# Length of out-of-sample window\n",
    "T = len(df)-WINDOW"
   ]
  },
  {
   "cell_type": "markdown",
   "metadata": {},
   "source": [
    "Standardize column names"
   ]
  },
  {
   "cell_type": "code",
   "execution_count": 7,
   "metadata": {},
   "outputs": [
    {
     "data": {
      "text/html": [
       "<div>\n",
       "<style scoped>\n",
       "    .dataframe tbody tr th:only-of-type {\n",
       "        vertical-align: middle;\n",
       "    }\n",
       "\n",
       "    .dataframe tbody tr th {\n",
       "        vertical-align: top;\n",
       "    }\n",
       "\n",
       "    .dataframe thead th {\n",
       "        text-align: right;\n",
       "    }\n",
       "</style>\n",
       "<table border=\"1\" class=\"dataframe\">\n",
       "  <thead>\n",
       "    <tr style=\"text-align: right;\">\n",
       "      <th></th>\n",
       "      <th>r0</th>\n",
       "      <th>r1</th>\n",
       "      <th>r2</th>\n",
       "      <th>r3</th>\n",
       "      <th>r4</th>\n",
       "      <th>r5</th>\n",
       "      <th>r6</th>\n",
       "      <th>r7</th>\n",
       "      <th>r8</th>\n",
       "      <th>r9</th>\n",
       "      <th>...</th>\n",
       "      <th>r39</th>\n",
       "      <th>r40</th>\n",
       "      <th>r41</th>\n",
       "      <th>r42</th>\n",
       "      <th>r43</th>\n",
       "      <th>r44</th>\n",
       "      <th>r45</th>\n",
       "      <th>r46</th>\n",
       "      <th>r47</th>\n",
       "      <th>rf</th>\n",
       "    </tr>\n",
       "    <tr>\n",
       "      <th>Date</th>\n",
       "      <th></th>\n",
       "      <th></th>\n",
       "      <th></th>\n",
       "      <th></th>\n",
       "      <th></th>\n",
       "      <th></th>\n",
       "      <th></th>\n",
       "      <th></th>\n",
       "      <th></th>\n",
       "      <th></th>\n",
       "      <th></th>\n",
       "      <th></th>\n",
       "      <th></th>\n",
       "      <th></th>\n",
       "      <th></th>\n",
       "      <th></th>\n",
       "      <th></th>\n",
       "      <th></th>\n",
       "      <th></th>\n",
       "      <th></th>\n",
       "      <th></th>\n",
       "    </tr>\n",
       "  </thead>\n",
       "  <tbody>\n",
       "    <tr>\n",
       "      <th>1970-01</th>\n",
       "      <td>0.0083</td>\n",
       "      <td>-0.0281</td>\n",
       "      <td>-0.0276</td>\n",
       "      <td>-0.0135</td>\n",
       "      <td>-0.0699</td>\n",
       "      <td>-0.0795</td>\n",
       "      <td>-0.0574</td>\n",
       "      <td>-0.1139</td>\n",
       "      <td>-0.0690</td>\n",
       "      <td>-0.0509</td>\n",
       "      <td>...</td>\n",
       "      <td>-0.0762</td>\n",
       "      <td>-0.0768</td>\n",
       "      <td>-0.0573</td>\n",
       "      <td>-0.1186</td>\n",
       "      <td>-0.0753</td>\n",
       "      <td>-0.0888</td>\n",
       "      <td>-0.1094</td>\n",
       "      <td>-0.1082</td>\n",
       "      <td>-0.0359</td>\n",
       "      <td>0.0060</td>\n",
       "    </tr>\n",
       "    <tr>\n",
       "      <th>1970-02</th>\n",
       "      <td>0.0948</td>\n",
       "      <td>0.0596</td>\n",
       "      <td>0.0386</td>\n",
       "      <td>0.0687</td>\n",
       "      <td>0.0028</td>\n",
       "      <td>0.0612</td>\n",
       "      <td>0.0822</td>\n",
       "      <td>0.0068</td>\n",
       "      <td>0.0028</td>\n",
       "      <td>0.0322</td>\n",
       "      <td>...</td>\n",
       "      <td>0.1048</td>\n",
       "      <td>0.0181</td>\n",
       "      <td>0.0579</td>\n",
       "      <td>0.0543</td>\n",
       "      <td>0.1554</td>\n",
       "      <td>0.1035</td>\n",
       "      <td>0.0024</td>\n",
       "      <td>0.0918</td>\n",
       "      <td>-0.0481</td>\n",
       "      <td>0.0062</td>\n",
       "    </tr>\n",
       "  </tbody>\n",
       "</table>\n",
       "<p>2 rows × 49 columns</p>\n",
       "</div>"
      ],
      "text/plain": [
       "             r0      r1      r2      r3      r4      r5      r6      r7  \\\n",
       "Date                                                                      \n",
       "1970-01  0.0083 -0.0281 -0.0276 -0.0135 -0.0699 -0.0795 -0.0574 -0.1139   \n",
       "1970-02  0.0948  0.0596  0.0386  0.0687  0.0028  0.0612  0.0822  0.0068   \n",
       "\n",
       "             r8      r9  ...     r39     r40     r41     r42     r43     r44  \\\n",
       "Date                     ...                                                   \n",
       "1970-01 -0.0690 -0.0509  ... -0.0762 -0.0768 -0.0573 -0.1186 -0.0753 -0.0888   \n",
       "1970-02  0.0028  0.0322  ...  0.1048  0.0181  0.0579  0.0543  0.1554  0.1035   \n",
       "\n",
       "            r45     r46     r47      rf  \n",
       "Date                                     \n",
       "1970-01 -0.1094 -0.1082 -0.0359  0.0060  \n",
       "1970-02  0.0024  0.0918 -0.0481  0.0062  \n",
       "\n",
       "[2 rows x 49 columns]"
      ]
     },
     "execution_count": 7,
     "metadata": {},
     "output_type": "execute_result"
    }
   ],
   "source": [
    "asset_list = [str(i) for i in range(n)]\n",
    "ret_list   = ['r' + asset for asset in asset_list]\n",
    "df.columns = ret_list + ['rf']\n",
    "df.head(2)"
   ]
  },
  {
   "attachments": {},
   "cell_type": "markdown",
   "metadata": {},
   "source": [
    "Estimate expected returns, standard deviations, & correlations based on historical expanding windows\n",
    "\n",
    "- Note: expanding command includes current year in calculation"
   ]
  },
  {
   "cell_type": "code",
   "execution_count": 8,
   "metadata": {},
   "outputs": [],
   "source": [
    "est_means = df[ret_list].expanding(WINDOW).mean()\n",
    "est_sds   = df[ret_list].expanding(WINDOW).std()\n",
    "est_corrs = df[ret_list].expanding(WINDOW).corr()"
   ]
  },
  {
   "attachments": {},
   "cell_type": "markdown",
   "metadata": {},
   "source": [
    "Subset data with estimates"
   ]
  },
  {
   "cell_type": "code",
   "execution_count": 9,
   "metadata": {},
   "outputs": [],
   "source": [
    "est_means = est_means.dropna()\n",
    "est_sds   = est_sds.dropna()\n",
    "est_corrs = est_corrs.dropna()\n",
    "df = df.loc[est_means.index].reset_index()  "
   ]
  },
  {
   "cell_type": "code",
   "execution_count": 10,
   "metadata": {},
   "outputs": [],
   "source": [
    "# Save a copy of the data\n",
    "data = df.copy()\n",
    "\n",
    "# Create dataframe to store the results for each strategy\n",
    "results = pd.DataFrame(dtype=float, \n",
    "    columns=['sr','avg_ret','sd_ret'], \n",
    "    index = ['Unconstrained', 'No shorting', 'No shorting & max positions', 'Equal-weighted'])"
   ]
  },
  {
   "attachments": {},
   "cell_type": "markdown",
   "metadata": {},
   "source": [
    "## No constraints"
   ]
  },
  {
   "cell_type": "code",
   "execution_count": 11,
   "metadata": {},
   "outputs": [],
   "source": [
    "# Set position limits\n",
    "MIN_WGT = None\n",
    "MAX_WGT = None\n",
    "RAVER = 3"
   ]
  },
  {
   "cell_type": "code",
   "execution_count": 15,
   "metadata": {},
   "outputs": [],
   "source": [
    "# Load data\n",
    "df = data.copy()\n",
    "\n",
    "# Make list of weights columns\n",
    "wgt_list= ['wgt'+asset for asset in asset_list] \n",
    "\n",
    "# Initialize empty columns for risky asset weights, risky portfolio return, CAL location, CAL portfolio return\n",
    "for wgt in wgt_list:\n",
    "    df[wgt] = np.nan\n",
    "df['risky_ret'] = np.nan\n",
    "df['wgt_risky'] = np.nan \n",
    "df['port_ret']  = np.nan\n",
    "\n",
    "# Choose optimal portfolios each time period\n",
    "for i in df.index[1:]:                              # Start at 2nd date because estimates include that month's obs\n",
    "    # Pull estimation inputs at each point in time\n",
    "    est_pull_date = df.loc[i-1,'Date']\n",
    "    means = est_means.loc[est_pull_date].values\n",
    "    sds   = est_sds.loc[est_pull_date].values\n",
    "    C     = est_corrs.loc[(est_pull_date,slice(None))].to_numpy()\n",
    "    cov = np.diag(sds) @ C @ np.diag(sds)\n",
    "\n",
    "    # Pull current period returns\n",
    "    rf = df.loc[i,'rf']\n",
    "    rets = df.loc[i,ret_list].values\n",
    "\n",
    "    ##### Note: all portfolio weights considered to be beginning of period weights\n",
    "    ##### (so multiply by contemporaneous realized returns)\n",
    "    wgts = constrained_gmv(means, cov, MIN_WGT, MAX_WGT)\n",
    "    df.loc[i,wgt_list] = wgts\n",
    "    df.loc[i,'risky_ret'] = wgts @ rets\n",
    "\n",
    "    # Capital allocation and overall portfolio return\n",
    "    risky_expret = wgts @ means\n",
    "    risky_sd     = np.sqrt(wgts @ cov @ wgts)\n",
    "    df.loc[i,'wgt_risky'] = capital_allocation(risky_expret, risky_sd, rf, RAVER)\n",
    "    df.loc[i,'port_ret']  = rf + df.loc[i,'wgt_risky']*(df.loc[i,'risky_ret'] -rf)"
   ]
  },
  {
   "cell_type": "code",
   "execution_count": 16,
   "metadata": {},
   "outputs": [
    {
     "data": {
      "text/html": [
       "<div>\n",
       "<style scoped>\n",
       "    .dataframe tbody tr th:only-of-type {\n",
       "        vertical-align: middle;\n",
       "    }\n",
       "\n",
       "    .dataframe tbody tr th {\n",
       "        vertical-align: top;\n",
       "    }\n",
       "\n",
       "    .dataframe thead th {\n",
       "        text-align: right;\n",
       "    }\n",
       "</style>\n",
       "<table border=\"1\" class=\"dataframe\">\n",
       "  <thead>\n",
       "    <tr style=\"text-align: right;\">\n",
       "      <th></th>\n",
       "      <th>Date</th>\n",
       "      <th>rf</th>\n",
       "      <th>risky_ret</th>\n",
       "      <th>wgt_risky</th>\n",
       "      <th>port_ret</th>\n",
       "    </tr>\n",
       "  </thead>\n",
       "  <tbody>\n",
       "    <tr>\n",
       "      <th>1</th>\n",
       "      <td>1985-01</td>\n",
       "      <td>0.0065</td>\n",
       "      <td>0.009340</td>\n",
       "      <td>1.634334</td>\n",
       "      <td>0.011142</td>\n",
       "    </tr>\n",
       "    <tr>\n",
       "      <th>2</th>\n",
       "      <td>1985-02</td>\n",
       "      <td>0.0058</td>\n",
       "      <td>0.032529</td>\n",
       "      <td>1.983793</td>\n",
       "      <td>0.058826</td>\n",
       "    </tr>\n",
       "    <tr>\n",
       "      <th>3</th>\n",
       "      <td>1985-03</td>\n",
       "      <td>0.0062</td>\n",
       "      <td>0.070052</td>\n",
       "      <td>1.801128</td>\n",
       "      <td>0.121205</td>\n",
       "    </tr>\n",
       "    <tr>\n",
       "      <th>4</th>\n",
       "      <td>1985-04</td>\n",
       "      <td>0.0072</td>\n",
       "      <td>0.004017</td>\n",
       "      <td>1.371442</td>\n",
       "      <td>0.002835</td>\n",
       "    </tr>\n",
       "    <tr>\n",
       "      <th>5</th>\n",
       "      <td>1985-05</td>\n",
       "      <td>0.0066</td>\n",
       "      <td>0.064387</td>\n",
       "      <td>1.655310</td>\n",
       "      <td>0.102256</td>\n",
       "    </tr>\n",
       "  </tbody>\n",
       "</table>\n",
       "</div>"
      ],
      "text/plain": [
       "      Date      rf  risky_ret  wgt_risky  port_ret\n",
       "1  1985-01  0.0065   0.009340   1.634334  0.011142\n",
       "2  1985-02  0.0058   0.032529   1.983793  0.058826\n",
       "3  1985-03  0.0062   0.070052   1.801128  0.121205\n",
       "4  1985-04  0.0072   0.004017   1.371442  0.002835\n",
       "5  1985-05  0.0066   0.064387   1.655310  0.102256"
      ]
     },
     "execution_count": 16,
     "metadata": {},
     "output_type": "execute_result"
    }
   ],
   "source": [
    "df = df.dropna()\n",
    "df_unconstrained = df.copy()\n",
    "df[['Date']+['rf','risky_ret','wgt_risky','port_ret']].head()"
   ]
  },
  {
   "cell_type": "code",
   "execution_count": 17,
   "metadata": {},
   "outputs": [
    {
     "name": "stdout",
     "output_type": "stream",
     "text": [
      "Avg return of Unconstrained:\t  0.0129\n",
      "SD(return) of Unconstrained:\t  0.0942\n",
      "Sharpe ratio of Unconstrained:\t  0.1096\n"
     ]
    }
   ],
   "source": [
    "avg_ret = df.port_ret.mean()\n",
    "sd_ret  = df.port_ret.std()\n",
    "avg_rf  = df.rf.mean()\n",
    "sr = (avg_ret - avg_rf)/sd_ret\n",
    "print(f'Avg return of Unconstrained:\\t {avg_ret: .4f}')\n",
    "print(f'SD(return) of Unconstrained:\\t {sd_ret: .4f}')\n",
    "print(f'Sharpe ratio of Unconstrained:\\t {sr: .4f}')\n",
    "\n",
    "# Save results\n",
    "results.loc['Unconstrained','avg_ret'] = avg_ret\n",
    "results.loc['Unconstrained','sd_ret']  = sd_ret\n",
    "results.loc['Unconstrained','sr']      = sr"
   ]
  },
  {
   "attachments": {},
   "cell_type": "markdown",
   "metadata": {},
   "source": [
    "## Short-Sale Constraints "
   ]
  },
  {
   "cell_type": "code",
   "execution_count": 18,
   "metadata": {},
   "outputs": [],
   "source": [
    "# Set position limits\n",
    "MIN_WGT = 0\n",
    "MAX_WGT = None\n",
    "RAVER = 3"
   ]
  },
  {
   "cell_type": "code",
   "execution_count": 19,
   "metadata": {},
   "outputs": [],
   "source": [
    "# Load data\n",
    "df = data.copy()\n",
    "\n",
    "# Make list of weights columns\n",
    "wgt_list= ['wgt'+asset for asset in asset_list] \n",
    "\n",
    "# Initialize empty columns for risky asset weights, risky portfolio return, CAL location, CAL portfolio return\n",
    "for wgt in wgt_list:\n",
    "    df[wgt] = np.nan\n",
    "df['risky_ret'] = np.nan\n",
    "df['wgt_risky'] = np.nan \n",
    "df['port_ret']  = np.nan\n",
    "\n",
    "# Choose optimal portfolios each time period\n",
    "for i in df.index[1:]:                              # Start at 2nd date because estimates include that month's obs\n",
    "    # Pull estimation inputs at each point in time\n",
    "    est_pull_date = df.loc[i-1,'Date']\n",
    "    means = est_means.loc[est_pull_date].values\n",
    "    sds   = est_sds.loc[est_pull_date].values\n",
    "    C     = est_corrs.loc[(est_pull_date,slice(None))].to_numpy()\n",
    "    cov = np.diag(sds) @ C @ np.diag(sds)\n",
    "\n",
    "    # Pull current period returns\n",
    "    rf = df.loc[i,'rf']\n",
    "    rets = df.loc[i,ret_list].values\n",
    "\n",
    "    ##### Note: all portfolio weights considered to be beginning of period weights\n",
    "    ##### (so multiply by contemporaneous realized returns)\n",
    "    wgts = constrained_gmv(means, cov, MIN_WGT, MAX_WGT)\n",
    "    df.loc[i,wgt_list] = wgts\n",
    "    df.loc[i,'risky_ret'] = wgts @ rets\n",
    "\n",
    "    # Capital allocation and overall portfolio return\n",
    "    risky_expret = wgts @ means\n",
    "    risky_sd     = np.sqrt(wgts @ cov @ wgts)\n",
    "    df.loc[i,'wgt_risky'] = capital_allocation(risky_expret, risky_sd, rf, RAVER)\n",
    "    df.loc[i,'port_ret']  = rf + df.loc[i,'wgt_risky']*(df.loc[i,'risky_ret'] -rf)"
   ]
  },
  {
   "cell_type": "code",
   "execution_count": 20,
   "metadata": {},
   "outputs": [
    {
     "data": {
      "text/html": [
       "<div>\n",
       "<style scoped>\n",
       "    .dataframe tbody tr th:only-of-type {\n",
       "        vertical-align: middle;\n",
       "    }\n",
       "\n",
       "    .dataframe tbody tr th {\n",
       "        vertical-align: top;\n",
       "    }\n",
       "\n",
       "    .dataframe thead th {\n",
       "        text-align: right;\n",
       "    }\n",
       "</style>\n",
       "<table border=\"1\" class=\"dataframe\">\n",
       "  <thead>\n",
       "    <tr style=\"text-align: right;\">\n",
       "      <th></th>\n",
       "      <th>Date</th>\n",
       "      <th>rf</th>\n",
       "      <th>risky_ret</th>\n",
       "      <th>wgt_risky</th>\n",
       "      <th>port_ret</th>\n",
       "    </tr>\n",
       "  </thead>\n",
       "  <tbody>\n",
       "    <tr>\n",
       "      <th>1</th>\n",
       "      <td>1985-01</td>\n",
       "      <td>0.0065</td>\n",
       "      <td>0.041685</td>\n",
       "      <td>1.015535</td>\n",
       "      <td>0.042232</td>\n",
       "    </tr>\n",
       "    <tr>\n",
       "      <th>2</th>\n",
       "      <td>1985-02</td>\n",
       "      <td>0.0058</td>\n",
       "      <td>0.042708</td>\n",
       "      <td>1.238702</td>\n",
       "      <td>0.051519</td>\n",
       "    </tr>\n",
       "    <tr>\n",
       "      <th>3</th>\n",
       "      <td>1985-03</td>\n",
       "      <td>0.0062</td>\n",
       "      <td>0.046096</td>\n",
       "      <td>1.171810</td>\n",
       "      <td>0.052950</td>\n",
       "    </tr>\n",
       "    <tr>\n",
       "      <th>4</th>\n",
       "      <td>1985-04</td>\n",
       "      <td>0.0072</td>\n",
       "      <td>-0.016470</td>\n",
       "      <td>0.972764</td>\n",
       "      <td>-0.015825</td>\n",
       "    </tr>\n",
       "    <tr>\n",
       "      <th>5</th>\n",
       "      <td>1985-05</td>\n",
       "      <td>0.0066</td>\n",
       "      <td>0.058232</td>\n",
       "      <td>1.078279</td>\n",
       "      <td>0.062274</td>\n",
       "    </tr>\n",
       "  </tbody>\n",
       "</table>\n",
       "</div>"
      ],
      "text/plain": [
       "      Date      rf  risky_ret  wgt_risky  port_ret\n",
       "1  1985-01  0.0065   0.041685   1.015535  0.042232\n",
       "2  1985-02  0.0058   0.042708   1.238702  0.051519\n",
       "3  1985-03  0.0062   0.046096   1.171810  0.052950\n",
       "4  1985-04  0.0072  -0.016470   0.972764 -0.015825\n",
       "5  1985-05  0.0066   0.058232   1.078279  0.062274"
      ]
     },
     "execution_count": 20,
     "metadata": {},
     "output_type": "execute_result"
    }
   ],
   "source": [
    "df = df.dropna()\n",
    "df_noss = df.copy()\n",
    "df[['Date']+['rf','risky_ret','wgt_risky','port_ret']].head()"
   ]
  },
  {
   "cell_type": "code",
   "execution_count": 21,
   "metadata": {},
   "outputs": [
    {
     "name": "stdout",
     "output_type": "stream",
     "text": [
      "Avg return of No shorting:\t  0.0157\n",
      "SD(return) of No shorting:\t  0.0734\n",
      "Sharpe ratio of No shorting:\t  0.1793\n"
     ]
    }
   ],
   "source": [
    "avg_ret = df.port_ret.mean()\n",
    "sd_ret  = df.port_ret.std()\n",
    "avg_rf  = df.rf.mean()\n",
    "sr = (avg_ret - avg_rf)/sd_ret\n",
    "print(f'Avg return of No shorting:\\t {avg_ret: .4f}')\n",
    "print(f'SD(return) of No shorting:\\t {sd_ret: .4f}')\n",
    "print(f'Sharpe ratio of No shorting:\\t {sr: .4f}')\n",
    "\n",
    "# Save results\n",
    "results.loc['No shorting','avg_ret'] = avg_ret\n",
    "results.loc['No shorting','sd_ret']  = sd_ret\n",
    "results.loc['No shorting','sr']      = sr"
   ]
  },
  {
   "attachments": {},
   "cell_type": "markdown",
   "metadata": {},
   "source": [
    "## Short-Sale Constraints and Max Position Limits"
   ]
  },
  {
   "cell_type": "code",
   "execution_count": 22,
   "metadata": {},
   "outputs": [],
   "source": [
    "# Set position limits\n",
    "MIN_WGT = 0\n",
    "MAX_WGT = 0.1\n",
    "RAVER = 3"
   ]
  },
  {
   "cell_type": "code",
   "execution_count": 23,
   "metadata": {},
   "outputs": [],
   "source": [
    "# Load data\n",
    "df = data.copy()\n",
    "\n",
    "# Make list of weights columns\n",
    "wgt_list= ['wgt'+asset for asset in asset_list] \n",
    "\n",
    "# Initialize empty columns for risky asset weights, risky portfolio return, CAL location, CAL portfolio return\n",
    "for wgt in wgt_list:\n",
    "    df[wgt] = np.nan\n",
    "df['risky_ret'] = np.nan\n",
    "df['wgt_risky'] = np.nan \n",
    "df['port_ret']  = np.nan\n",
    "\n",
    "# Choose optimal portfolios each time period\n",
    "for i in df.index[1:]:                              # Start at 2nd date because estimates include that month's obs\n",
    "    # Pull estimation inputs at each point in time\n",
    "    est_pull_date = df.loc[i-1,'Date']\n",
    "    means = est_means.loc[est_pull_date].values\n",
    "    sds   = est_sds.loc[est_pull_date].values\n",
    "    C     = est_corrs.loc[(est_pull_date,slice(None))].to_numpy()\n",
    "    cov = np.diag(sds) @ C @ np.diag(sds)\n",
    "\n",
    "    # Pull current period returns\n",
    "    rf = df.loc[i,'rf']\n",
    "    rets = df.loc[i,ret_list].values\n",
    "\n",
    "    ##### Note: all portfolio weights considered to be beginning of period weights\n",
    "    ##### (so multiply by contemporaneous realized returns)\n",
    "    wgts = constrained_gmv(means, cov, MIN_WGT, MAX_WGT)\n",
    "    df.loc[i,wgt_list] = wgts\n",
    "    df.loc[i,'risky_ret'] = wgts @ rets\n",
    "\n",
    "    # Capital allocation and overall portfolio return\n",
    "    risky_expret = wgts @ means\n",
    "    risky_sd     = np.sqrt(wgts @ cov @ wgts)\n",
    "    df.loc[i,'wgt_risky'] = capital_allocation(risky_expret, risky_sd, rf, RAVER)\n",
    "    df.loc[i,'port_ret']  = rf + df.loc[i,'wgt_risky']*(df.loc[i,'risky_ret'] -rf)"
   ]
  },
  {
   "cell_type": "code",
   "execution_count": 24,
   "metadata": {},
   "outputs": [
    {
     "data": {
      "text/html": [
       "<div>\n",
       "<style scoped>\n",
       "    .dataframe tbody tr th:only-of-type {\n",
       "        vertical-align: middle;\n",
       "    }\n",
       "\n",
       "    .dataframe tbody tr th {\n",
       "        vertical-align: top;\n",
       "    }\n",
       "\n",
       "    .dataframe thead th {\n",
       "        text-align: right;\n",
       "    }\n",
       "</style>\n",
       "<table border=\"1\" class=\"dataframe\">\n",
       "  <thead>\n",
       "    <tr style=\"text-align: right;\">\n",
       "      <th></th>\n",
       "      <th>Date</th>\n",
       "      <th>rf</th>\n",
       "      <th>risky_ret</th>\n",
       "      <th>wgt_risky</th>\n",
       "      <th>port_ret</th>\n",
       "    </tr>\n",
       "  </thead>\n",
       "  <tbody>\n",
       "    <tr>\n",
       "      <th>1</th>\n",
       "      <td>1985-01</td>\n",
       "      <td>0.0065</td>\n",
       "      <td>0.050836</td>\n",
       "      <td>0.562722</td>\n",
       "      <td>0.031449</td>\n",
       "    </tr>\n",
       "    <tr>\n",
       "      <th>2</th>\n",
       "      <td>1985-02</td>\n",
       "      <td>0.0058</td>\n",
       "      <td>0.029929</td>\n",
       "      <td>0.757192</td>\n",
       "      <td>0.024070</td>\n",
       "    </tr>\n",
       "    <tr>\n",
       "      <th>3</th>\n",
       "      <td>1985-03</td>\n",
       "      <td>0.0062</td>\n",
       "      <td>0.033098</td>\n",
       "      <td>0.700216</td>\n",
       "      <td>0.025035</td>\n",
       "    </tr>\n",
       "    <tr>\n",
       "      <th>4</th>\n",
       "      <td>1985-04</td>\n",
       "      <td>0.0072</td>\n",
       "      <td>-0.014157</td>\n",
       "      <td>0.513723</td>\n",
       "      <td>-0.003772</td>\n",
       "    </tr>\n",
       "    <tr>\n",
       "      <th>5</th>\n",
       "      <td>1985-05</td>\n",
       "      <td>0.0066</td>\n",
       "      <td>0.060433</td>\n",
       "      <td>0.608930</td>\n",
       "      <td>0.039380</td>\n",
       "    </tr>\n",
       "  </tbody>\n",
       "</table>\n",
       "</div>"
      ],
      "text/plain": [
       "      Date      rf  risky_ret  wgt_risky  port_ret\n",
       "1  1985-01  0.0065   0.050836   0.562722  0.031449\n",
       "2  1985-02  0.0058   0.029929   0.757192  0.024070\n",
       "3  1985-03  0.0062   0.033098   0.700216  0.025035\n",
       "4  1985-04  0.0072  -0.014157   0.513723 -0.003772\n",
       "5  1985-05  0.0066   0.060433   0.608930  0.039380"
      ]
     },
     "execution_count": 24,
     "metadata": {},
     "output_type": "execute_result"
    }
   ],
   "source": [
    "df = df.dropna()\n",
    "df_noss_maxlim = df.copy()\n",
    "df[['Date']+['rf','risky_ret','wgt_risky','port_ret']].head()"
   ]
  },
  {
   "cell_type": "code",
   "execution_count": 25,
   "metadata": {},
   "outputs": [
    {
     "name": "stdout",
     "output_type": "stream",
     "text": [
      "Avg return of No shorting & max positions:\t  0.0161\n",
      "SD(return) of No shorting & max positions:\t  0.0702\n",
      "Sharpe ratio of No shorting & max positions:\t  0.1930\n"
     ]
    }
   ],
   "source": [
    "avg_ret = df.port_ret.mean()\n",
    "sd_ret  = df.port_ret.std()\n",
    "avg_rf  = df.rf.mean()\n",
    "sr = (avg_ret - avg_rf)/sd_ret\n",
    "print(f'Avg return of No shorting & max positions:\\t {avg_ret: .4f}')\n",
    "print(f'SD(return) of No shorting & max positions:\\t {sd_ret: .4f}')\n",
    "print(f'Sharpe ratio of No shorting & max positions:\\t {sr: .4f}')\n",
    "\n",
    "# Save results\n",
    "results.loc['No shorting & max positions','avg_ret'] = avg_ret\n",
    "results.loc['No shorting & max positions','sd_ret']  = sd_ret\n",
    "results.loc['No shorting & max positions','sr']      = sr"
   ]
  },
  {
   "attachments": {},
   "cell_type": "markdown",
   "metadata": {},
   "source": [
    "## Equal-weighted"
   ]
  },
  {
   "cell_type": "code",
   "execution_count": 26,
   "metadata": {},
   "outputs": [],
   "source": [
    "# Load data\n",
    "df = data.copy()\n",
    "\n",
    "# Make list of weights columns\n",
    "wgt_list= ['wgt'+asset for asset in asset_list] \n",
    "\n",
    "# Initialize empty columns for risky asset weights, risky portfolio return, CAL location, CAL portfolio return\n",
    "for wgt in wgt_list:\n",
    "    df[wgt] = np.nan\n",
    "df['risky_ret'] = np.nan\n",
    "df['wgt_risky'] = np.nan \n",
    "df['port_ret']  = np.nan\n",
    "\n",
    "# Choose optimal portfolios each time period\n",
    "for i in df.index[1:]:                              # Start at 2nd date because estimates include that month's obs\n",
    "    # Pull estimation inputs at each point in time\n",
    "    est_pull_date = df.loc[i-1,'Date']\n",
    "    means = est_means.loc[est_pull_date].values\n",
    "    sds   = est_sds.loc[est_pull_date].values\n",
    "    C     = est_corrs.loc[(est_pull_date,slice(None))].to_numpy()\n",
    "    cov = np.diag(sds) @ C @ np.diag(sds)\n",
    "\n",
    "    # Pull current period returns\n",
    "    rf = df.loc[i,'rf']\n",
    "    rets = df.loc[i,ret_list].values\n",
    "\n",
    "    ##### Note: all portfolio weights considered to be beginning of period weights\n",
    "    ##### (so multiply by contemporaneous realized returns)\n",
    "    wgts = (1/n)*np.ones(n)\n",
    "    df.loc[i,wgt_list] = wgts\n",
    "    df.loc[i,'risky_ret'] = wgts @ rets\n",
    "\n",
    "    # Capital allocation and overall portfolio return\n",
    "    risky_expret = wgts @ means\n",
    "    risky_sd     = np.sqrt(wgts @ cov @ wgts)\n",
    "    df.loc[i,'wgt_risky'] = max(0,capital_allocation(risky_expret, risky_sd, rf, RAVER))\n",
    "    df.loc[i,'port_ret']  = rf + df.loc[i,'wgt_risky']*(df.loc[i,'risky_ret'] -rf)"
   ]
  },
  {
   "cell_type": "code",
   "execution_count": 27,
   "metadata": {},
   "outputs": [
    {
     "data": {
      "text/html": [
       "<div>\n",
       "<style scoped>\n",
       "    .dataframe tbody tr th:only-of-type {\n",
       "        vertical-align: middle;\n",
       "    }\n",
       "\n",
       "    .dataframe tbody tr th {\n",
       "        vertical-align: top;\n",
       "    }\n",
       "\n",
       "    .dataframe thead th {\n",
       "        text-align: right;\n",
       "    }\n",
       "</style>\n",
       "<table border=\"1\" class=\"dataframe\">\n",
       "  <thead>\n",
       "    <tr style=\"text-align: right;\">\n",
       "      <th></th>\n",
       "      <th>Date</th>\n",
       "      <th>rf</th>\n",
       "      <th>risky_ret</th>\n",
       "      <th>wgt_risky</th>\n",
       "      <th>port_ret</th>\n",
       "    </tr>\n",
       "  </thead>\n",
       "  <tbody>\n",
       "    <tr>\n",
       "      <th>1</th>\n",
       "      <td>1985-01</td>\n",
       "      <td>0.0065</td>\n",
       "      <td>0.097065</td>\n",
       "      <td>0.285082</td>\n",
       "      <td>0.032318</td>\n",
       "    </tr>\n",
       "    <tr>\n",
       "      <th>2</th>\n",
       "      <td>1985-02</td>\n",
       "      <td>0.0058</td>\n",
       "      <td>0.017535</td>\n",
       "      <td>0.414214</td>\n",
       "      <td>0.010661</td>\n",
       "    </tr>\n",
       "    <tr>\n",
       "      <th>3</th>\n",
       "      <td>1985-03</td>\n",
       "      <td>0.0062</td>\n",
       "      <td>-0.003635</td>\n",
       "      <td>0.376748</td>\n",
       "      <td>0.002495</td>\n",
       "    </tr>\n",
       "    <tr>\n",
       "      <th>4</th>\n",
       "      <td>1985-04</td>\n",
       "      <td>0.0072</td>\n",
       "      <td>-0.014421</td>\n",
       "      <td>0.258474</td>\n",
       "      <td>0.001612</td>\n",
       "    </tr>\n",
       "    <tr>\n",
       "      <th>5</th>\n",
       "      <td>1985-05</td>\n",
       "      <td>0.0066</td>\n",
       "      <td>0.057908</td>\n",
       "      <td>0.312556</td>\n",
       "      <td>0.022637</td>\n",
       "    </tr>\n",
       "  </tbody>\n",
       "</table>\n",
       "</div>"
      ],
      "text/plain": [
       "      Date      rf  risky_ret  wgt_risky  port_ret\n",
       "1  1985-01  0.0065   0.097065   0.285082  0.032318\n",
       "2  1985-02  0.0058   0.017535   0.414214  0.010661\n",
       "3  1985-03  0.0062  -0.003635   0.376748  0.002495\n",
       "4  1985-04  0.0072  -0.014421   0.258474  0.001612\n",
       "5  1985-05  0.0066   0.057908   0.312556  0.022637"
      ]
     },
     "execution_count": 27,
     "metadata": {},
     "output_type": "execute_result"
    }
   ],
   "source": [
    "df = df.dropna()\n",
    "df_ew = df.copy()\n",
    "df[['Date']+['rf','risky_ret','wgt_risky','port_ret']].head()"
   ]
  },
  {
   "cell_type": "code",
   "execution_count": 28,
   "metadata": {},
   "outputs": [
    {
     "name": "stdout",
     "output_type": "stream",
     "text": [
      "Avg return of Equal-weighted:\t  0.0105\n",
      "SD(return) of Equal-weighted:\t  0.0509\n",
      "Sharpe ratio of Equal-weighted:\t  0.1571\n"
     ]
    }
   ],
   "source": [
    "avg_ret = df.port_ret.mean()\n",
    "sd_ret  = df.port_ret.std()\n",
    "avg_rf  = df.rf.mean()\n",
    "sr = (avg_ret - avg_rf)/sd_ret\n",
    "print(f'Avg return of Equal-weighted:\\t {avg_ret: .4f}')\n",
    "print(f'SD(return) of Equal-weighted:\\t {sd_ret: .4f}')\n",
    "print(f'Sharpe ratio of Equal-weighted:\\t {sr: .4f}')\n",
    "\n",
    "# Save results\n",
    "results.loc['Equal-weighted','avg_ret'] = avg_ret\n",
    "results.loc['Equal-weighted','sd_ret']  = sd_ret\n",
    "results.loc['Equal-weighted','sr']      = sr"
   ]
  },
  {
   "cell_type": "markdown",
   "metadata": {},
   "source": [
    "## Comparing the results"
   ]
  },
  {
   "cell_type": "code",
   "execution_count": 29,
   "metadata": {},
   "outputs": [
    {
     "data": {
      "text/html": [
       "<div>\n",
       "<style scoped>\n",
       "    .dataframe tbody tr th:only-of-type {\n",
       "        vertical-align: middle;\n",
       "    }\n",
       "\n",
       "    .dataframe tbody tr th {\n",
       "        vertical-align: top;\n",
       "    }\n",
       "\n",
       "    .dataframe thead th {\n",
       "        text-align: right;\n",
       "    }\n",
       "</style>\n",
       "<table border=\"1\" class=\"dataframe\">\n",
       "  <thead>\n",
       "    <tr style=\"text-align: right;\">\n",
       "      <th></th>\n",
       "      <th>sr</th>\n",
       "      <th>avg_ret</th>\n",
       "      <th>sd_ret</th>\n",
       "    </tr>\n",
       "  </thead>\n",
       "  <tbody>\n",
       "    <tr>\n",
       "      <th>Unconstrained</th>\n",
       "      <td>0.1096</td>\n",
       "      <td>0.0129</td>\n",
       "      <td>0.0942</td>\n",
       "    </tr>\n",
       "    <tr>\n",
       "      <th>No shorting</th>\n",
       "      <td>0.1793</td>\n",
       "      <td>0.0157</td>\n",
       "      <td>0.0734</td>\n",
       "    </tr>\n",
       "    <tr>\n",
       "      <th>No shorting &amp; max positions</th>\n",
       "      <td>0.1930</td>\n",
       "      <td>0.0161</td>\n",
       "      <td>0.0702</td>\n",
       "    </tr>\n",
       "    <tr>\n",
       "      <th>Equal-weighted</th>\n",
       "      <td>0.1571</td>\n",
       "      <td>0.0105</td>\n",
       "      <td>0.0509</td>\n",
       "    </tr>\n",
       "  </tbody>\n",
       "</table>\n",
       "</div>"
      ],
      "text/plain": [
       "                                 sr  avg_ret  sd_ret\n",
       "Unconstrained                0.1096   0.0129  0.0942\n",
       "No shorting                  0.1793   0.0157  0.0734\n",
       "No shorting & max positions  0.1930   0.0161  0.0702\n",
       "Equal-weighted               0.1571   0.0105  0.0509"
      ]
     },
     "execution_count": 29,
     "metadata": {},
     "output_type": "execute_result"
    }
   ],
   "source": [
    "results.round(4)"
   ]
  },
  {
   "cell_type": "markdown",
   "metadata": {},
   "source": [
    "Plot the data"
   ]
  },
  {
   "cell_type": "code",
   "execution_count": 30,
   "metadata": {},
   "outputs": [
    {
     "data": {
      "application/vnd.plotly.v1+json": {
       "config": {
        "plotlyServerURL": "https://plot.ly"
       },
       "data": [
        {
         "customdata": [
          [
           0.012860447953322576,
           0.09418982881037363
          ],
          [
           0.015699565835643005,
           0.07343522983210787
          ],
          [
           0.016088052169388693,
           0.07022095622572336
          ],
          [
           0.01053339576817333,
           0.050913038438783115
          ]
         ],
         "hovertemplate": "Sharpe ratio: %{y:0.3f}<br>Average return: %{customdata[0]:0.1%}<br>SD(return): %{customdata[1]:0.1%}<br><extra></extra>",
         "type": "bar",
         "x": [
          "Unconstrained",
          "No shorting",
          "No shorting & max positions",
          "Equal-weighted"
         ],
         "y": [
          0.10963298708946397,
          0.17927948476972916,
          0.19301811354467938,
          0.1571161405028975
         ]
        }
       ],
       "layout": {
        "template": {
         "data": {
          "bar": [
           {
            "error_x": {
             "color": "#2a3f5f"
            },
            "error_y": {
             "color": "#2a3f5f"
            },
            "marker": {
             "line": {
              "color": "#E5ECF6",
              "width": 0.5
             },
             "pattern": {
              "fillmode": "overlay",
              "size": 10,
              "solidity": 0.2
             }
            },
            "type": "bar"
           }
          ],
          "barpolar": [
           {
            "marker": {
             "line": {
              "color": "#E5ECF6",
              "width": 0.5
             },
             "pattern": {
              "fillmode": "overlay",
              "size": 10,
              "solidity": 0.2
             }
            },
            "type": "barpolar"
           }
          ],
          "carpet": [
           {
            "aaxis": {
             "endlinecolor": "#2a3f5f",
             "gridcolor": "white",
             "linecolor": "white",
             "minorgridcolor": "white",
             "startlinecolor": "#2a3f5f"
            },
            "baxis": {
             "endlinecolor": "#2a3f5f",
             "gridcolor": "white",
             "linecolor": "white",
             "minorgridcolor": "white",
             "startlinecolor": "#2a3f5f"
            },
            "type": "carpet"
           }
          ],
          "choropleth": [
           {
            "colorbar": {
             "outlinewidth": 0,
             "ticks": ""
            },
            "type": "choropleth"
           }
          ],
          "contour": [
           {
            "colorbar": {
             "outlinewidth": 0,
             "ticks": ""
            },
            "colorscale": [
             [
              0,
              "#0d0887"
             ],
             [
              0.1111111111111111,
              "#46039f"
             ],
             [
              0.2222222222222222,
              "#7201a8"
             ],
             [
              0.3333333333333333,
              "#9c179e"
             ],
             [
              0.4444444444444444,
              "#bd3786"
             ],
             [
              0.5555555555555556,
              "#d8576b"
             ],
             [
              0.6666666666666666,
              "#ed7953"
             ],
             [
              0.7777777777777778,
              "#fb9f3a"
             ],
             [
              0.8888888888888888,
              "#fdca26"
             ],
             [
              1,
              "#f0f921"
             ]
            ],
            "type": "contour"
           }
          ],
          "contourcarpet": [
           {
            "colorbar": {
             "outlinewidth": 0,
             "ticks": ""
            },
            "type": "contourcarpet"
           }
          ],
          "heatmap": [
           {
            "colorbar": {
             "outlinewidth": 0,
             "ticks": ""
            },
            "colorscale": [
             [
              0,
              "#0d0887"
             ],
             [
              0.1111111111111111,
              "#46039f"
             ],
             [
              0.2222222222222222,
              "#7201a8"
             ],
             [
              0.3333333333333333,
              "#9c179e"
             ],
             [
              0.4444444444444444,
              "#bd3786"
             ],
             [
              0.5555555555555556,
              "#d8576b"
             ],
             [
              0.6666666666666666,
              "#ed7953"
             ],
             [
              0.7777777777777778,
              "#fb9f3a"
             ],
             [
              0.8888888888888888,
              "#fdca26"
             ],
             [
              1,
              "#f0f921"
             ]
            ],
            "type": "heatmap"
           }
          ],
          "heatmapgl": [
           {
            "colorbar": {
             "outlinewidth": 0,
             "ticks": ""
            },
            "colorscale": [
             [
              0,
              "#0d0887"
             ],
             [
              0.1111111111111111,
              "#46039f"
             ],
             [
              0.2222222222222222,
              "#7201a8"
             ],
             [
              0.3333333333333333,
              "#9c179e"
             ],
             [
              0.4444444444444444,
              "#bd3786"
             ],
             [
              0.5555555555555556,
              "#d8576b"
             ],
             [
              0.6666666666666666,
              "#ed7953"
             ],
             [
              0.7777777777777778,
              "#fb9f3a"
             ],
             [
              0.8888888888888888,
              "#fdca26"
             ],
             [
              1,
              "#f0f921"
             ]
            ],
            "type": "heatmapgl"
           }
          ],
          "histogram": [
           {
            "marker": {
             "pattern": {
              "fillmode": "overlay",
              "size": 10,
              "solidity": 0.2
             }
            },
            "type": "histogram"
           }
          ],
          "histogram2d": [
           {
            "colorbar": {
             "outlinewidth": 0,
             "ticks": ""
            },
            "colorscale": [
             [
              0,
              "#0d0887"
             ],
             [
              0.1111111111111111,
              "#46039f"
             ],
             [
              0.2222222222222222,
              "#7201a8"
             ],
             [
              0.3333333333333333,
              "#9c179e"
             ],
             [
              0.4444444444444444,
              "#bd3786"
             ],
             [
              0.5555555555555556,
              "#d8576b"
             ],
             [
              0.6666666666666666,
              "#ed7953"
             ],
             [
              0.7777777777777778,
              "#fb9f3a"
             ],
             [
              0.8888888888888888,
              "#fdca26"
             ],
             [
              1,
              "#f0f921"
             ]
            ],
            "type": "histogram2d"
           }
          ],
          "histogram2dcontour": [
           {
            "colorbar": {
             "outlinewidth": 0,
             "ticks": ""
            },
            "colorscale": [
             [
              0,
              "#0d0887"
             ],
             [
              0.1111111111111111,
              "#46039f"
             ],
             [
              0.2222222222222222,
              "#7201a8"
             ],
             [
              0.3333333333333333,
              "#9c179e"
             ],
             [
              0.4444444444444444,
              "#bd3786"
             ],
             [
              0.5555555555555556,
              "#d8576b"
             ],
             [
              0.6666666666666666,
              "#ed7953"
             ],
             [
              0.7777777777777778,
              "#fb9f3a"
             ],
             [
              0.8888888888888888,
              "#fdca26"
             ],
             [
              1,
              "#f0f921"
             ]
            ],
            "type": "histogram2dcontour"
           }
          ],
          "mesh3d": [
           {
            "colorbar": {
             "outlinewidth": 0,
             "ticks": ""
            },
            "type": "mesh3d"
           }
          ],
          "parcoords": [
           {
            "line": {
             "colorbar": {
              "outlinewidth": 0,
              "ticks": ""
             }
            },
            "type": "parcoords"
           }
          ],
          "pie": [
           {
            "automargin": true,
            "type": "pie"
           }
          ],
          "scatter": [
           {
            "fillpattern": {
             "fillmode": "overlay",
             "size": 10,
             "solidity": 0.2
            },
            "type": "scatter"
           }
          ],
          "scatter3d": [
           {
            "line": {
             "colorbar": {
              "outlinewidth": 0,
              "ticks": ""
             }
            },
            "marker": {
             "colorbar": {
              "outlinewidth": 0,
              "ticks": ""
             }
            },
            "type": "scatter3d"
           }
          ],
          "scattercarpet": [
           {
            "marker": {
             "colorbar": {
              "outlinewidth": 0,
              "ticks": ""
             }
            },
            "type": "scattercarpet"
           }
          ],
          "scattergeo": [
           {
            "marker": {
             "colorbar": {
              "outlinewidth": 0,
              "ticks": ""
             }
            },
            "type": "scattergeo"
           }
          ],
          "scattergl": [
           {
            "marker": {
             "colorbar": {
              "outlinewidth": 0,
              "ticks": ""
             }
            },
            "type": "scattergl"
           }
          ],
          "scattermapbox": [
           {
            "marker": {
             "colorbar": {
              "outlinewidth": 0,
              "ticks": ""
             }
            },
            "type": "scattermapbox"
           }
          ],
          "scatterpolar": [
           {
            "marker": {
             "colorbar": {
              "outlinewidth": 0,
              "ticks": ""
             }
            },
            "type": "scatterpolar"
           }
          ],
          "scatterpolargl": [
           {
            "marker": {
             "colorbar": {
              "outlinewidth": 0,
              "ticks": ""
             }
            },
            "type": "scatterpolargl"
           }
          ],
          "scatterternary": [
           {
            "marker": {
             "colorbar": {
              "outlinewidth": 0,
              "ticks": ""
             }
            },
            "type": "scatterternary"
           }
          ],
          "surface": [
           {
            "colorbar": {
             "outlinewidth": 0,
             "ticks": ""
            },
            "colorscale": [
             [
              0,
              "#0d0887"
             ],
             [
              0.1111111111111111,
              "#46039f"
             ],
             [
              0.2222222222222222,
              "#7201a8"
             ],
             [
              0.3333333333333333,
              "#9c179e"
             ],
             [
              0.4444444444444444,
              "#bd3786"
             ],
             [
              0.5555555555555556,
              "#d8576b"
             ],
             [
              0.6666666666666666,
              "#ed7953"
             ],
             [
              0.7777777777777778,
              "#fb9f3a"
             ],
             [
              0.8888888888888888,
              "#fdca26"
             ],
             [
              1,
              "#f0f921"
             ]
            ],
            "type": "surface"
           }
          ],
          "table": [
           {
            "cells": {
             "fill": {
              "color": "#EBF0F8"
             },
             "line": {
              "color": "white"
             }
            },
            "header": {
             "fill": {
              "color": "#C8D4E3"
             },
             "line": {
              "color": "white"
             }
            },
            "type": "table"
           }
          ]
         },
         "layout": {
          "annotationdefaults": {
           "arrowcolor": "#2a3f5f",
           "arrowhead": 0,
           "arrowwidth": 1
          },
          "autotypenumbers": "strict",
          "coloraxis": {
           "colorbar": {
            "outlinewidth": 0,
            "ticks": ""
           }
          },
          "colorscale": {
           "diverging": [
            [
             0,
             "#8e0152"
            ],
            [
             0.1,
             "#c51b7d"
            ],
            [
             0.2,
             "#de77ae"
            ],
            [
             0.3,
             "#f1b6da"
            ],
            [
             0.4,
             "#fde0ef"
            ],
            [
             0.5,
             "#f7f7f7"
            ],
            [
             0.6,
             "#e6f5d0"
            ],
            [
             0.7,
             "#b8e186"
            ],
            [
             0.8,
             "#7fbc41"
            ],
            [
             0.9,
             "#4d9221"
            ],
            [
             1,
             "#276419"
            ]
           ],
           "sequential": [
            [
             0,
             "#0d0887"
            ],
            [
             0.1111111111111111,
             "#46039f"
            ],
            [
             0.2222222222222222,
             "#7201a8"
            ],
            [
             0.3333333333333333,
             "#9c179e"
            ],
            [
             0.4444444444444444,
             "#bd3786"
            ],
            [
             0.5555555555555556,
             "#d8576b"
            ],
            [
             0.6666666666666666,
             "#ed7953"
            ],
            [
             0.7777777777777778,
             "#fb9f3a"
            ],
            [
             0.8888888888888888,
             "#fdca26"
            ],
            [
             1,
             "#f0f921"
            ]
           ],
           "sequentialminus": [
            [
             0,
             "#0d0887"
            ],
            [
             0.1111111111111111,
             "#46039f"
            ],
            [
             0.2222222222222222,
             "#7201a8"
            ],
            [
             0.3333333333333333,
             "#9c179e"
            ],
            [
             0.4444444444444444,
             "#bd3786"
            ],
            [
             0.5555555555555556,
             "#d8576b"
            ],
            [
             0.6666666666666666,
             "#ed7953"
            ],
            [
             0.7777777777777778,
             "#fb9f3a"
            ],
            [
             0.8888888888888888,
             "#fdca26"
            ],
            [
             1,
             "#f0f921"
            ]
           ]
          },
          "colorway": [
           "#636efa",
           "#EF553B",
           "#00cc96",
           "#ab63fa",
           "#FFA15A",
           "#19d3f3",
           "#FF6692",
           "#B6E880",
           "#FF97FF",
           "#FECB52"
          ],
          "font": {
           "color": "#2a3f5f"
          },
          "geo": {
           "bgcolor": "white",
           "lakecolor": "white",
           "landcolor": "#E5ECF6",
           "showlakes": true,
           "showland": true,
           "subunitcolor": "white"
          },
          "hoverlabel": {
           "align": "left"
          },
          "hovermode": "closest",
          "mapbox": {
           "style": "light"
          },
          "paper_bgcolor": "white",
          "plot_bgcolor": "#E5ECF6",
          "polar": {
           "angularaxis": {
            "gridcolor": "white",
            "linecolor": "white",
            "ticks": ""
           },
           "bgcolor": "#E5ECF6",
           "radialaxis": {
            "gridcolor": "white",
            "linecolor": "white",
            "ticks": ""
           }
          },
          "scene": {
           "xaxis": {
            "backgroundcolor": "#E5ECF6",
            "gridcolor": "white",
            "gridwidth": 2,
            "linecolor": "white",
            "showbackground": true,
            "ticks": "",
            "zerolinecolor": "white"
           },
           "yaxis": {
            "backgroundcolor": "#E5ECF6",
            "gridcolor": "white",
            "gridwidth": 2,
            "linecolor": "white",
            "showbackground": true,
            "ticks": "",
            "zerolinecolor": "white"
           },
           "zaxis": {
            "backgroundcolor": "#E5ECF6",
            "gridcolor": "white",
            "gridwidth": 2,
            "linecolor": "white",
            "showbackground": true,
            "ticks": "",
            "zerolinecolor": "white"
           }
          },
          "shapedefaults": {
           "line": {
            "color": "#2a3f5f"
           }
          },
          "ternary": {
           "aaxis": {
            "gridcolor": "white",
            "linecolor": "white",
            "ticks": ""
           },
           "baxis": {
            "gridcolor": "white",
            "linecolor": "white",
            "ticks": ""
           },
           "bgcolor": "#E5ECF6",
           "caxis": {
            "gridcolor": "white",
            "linecolor": "white",
            "ticks": ""
           }
          },
          "title": {
           "x": 0.05
          },
          "xaxis": {
           "automargin": true,
           "gridcolor": "white",
           "linecolor": "white",
           "ticks": "",
           "title": {
            "standoff": 15
           },
           "zerolinecolor": "white",
           "zerolinewidth": 2
          },
          "yaxis": {
           "automargin": true,
           "gridcolor": "white",
           "linecolor": "white",
           "ticks": "",
           "title": {
            "standoff": 15
           },
           "zerolinecolor": "white",
           "zerolinewidth": 2
          }
         }
        },
        "xaxis": {
         "title": {
          "text": "Strategy"
         }
        },
        "yaxis": {
         "title": {
          "text": "Sharpe ratio"
         }
        }
       }
      }
     },
     "metadata": {},
     "output_type": "display_data"
    }
   ],
   "source": [
    "results = results.reset_index()\n",
    "\n",
    "fig = go.Figure()\n",
    "string = \"Sharpe ratio: %{y:0.3f}<br>\"\n",
    "string += \"Average return: %{customdata[0]:0.1%}<br>\"\n",
    "string += \"SD(return): %{customdata[1]:0.1%}<br>\"\n",
    "string += \"<extra></extra>\"\n",
    "trace = go.Bar(x=results['index'], y=results['sr'], \n",
    "    customdata=results[['avg_ret','sd_ret']], \n",
    "    hovertemplate=string)\n",
    "fig.add_trace(trace)\n",
    "fig.layout.yaxis[\"title\"] = \"Sharpe ratio\"\n",
    "fig.layout.xaxis[\"title\"] = \"Strategy\"\n",
    "fig.show()"
   ]
  },
  {
   "cell_type": "code",
   "execution_count": null,
   "metadata": {},
   "outputs": [],
   "source": []
  }
 ],
 "metadata": {
  "kernelspec": {
   "display_name": "venv",
   "language": "python",
   "name": "python3"
  },
  "language_info": {
   "codemirror_mode": {
    "name": "ipython",
    "version": 3
   },
   "file_extension": ".py",
   "mimetype": "text/x-python",
   "name": "python",
   "nbconvert_exporter": "python",
   "pygments_lexer": "ipython3",
   "version": "3.10.6"
  },
  "orig_nbformat": 4,
  "vscode": {
   "interpreter": {
    "hash": "cc788b38d8cb434c82f45ef9d481d0310e17b79321e4c8cbfbfe90f656a3f023"
   }
  }
 },
 "nbformat": 4,
 "nbformat_minor": 2
}
