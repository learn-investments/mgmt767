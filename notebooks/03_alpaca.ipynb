{
 "cells": [
  {
   "cell_type": "markdown",
   "metadata": {},
   "source": [
    "## Alpaca Trading API Overview"
   ]
  },
  {
   "cell_type": "code",
   "execution_count": 1,
   "metadata": {},
   "outputs": [],
   "source": [
    "from alpaca.trading.client import TradingClient\n",
    "from alpaca.trading.requests import MarketOrderRequest\n",
    "from alpaca.trading.enums import OrderSide, TimeInForce\n",
    "from alpaca.trading.requests import GetAssetsRequest\n",
    "from alpaca.data import StockHistoricalDataClient\n",
    "from alpaca.data.requests import StockLatestQuoteRequest\n",
    "import pandas as pd"
   ]
  },
  {
   "cell_type": "markdown",
   "metadata": {},
   "source": [
    "Note: log on to alpaca at https://alpaca.markets/ to get key and secret key"
   ]
  },
  {
   "cell_type": "code",
   "execution_count": 2,
   "metadata": {},
   "outputs": [],
   "source": [
    "KEY = \"PKXDK3VJZBL7PRXS3F28\"\n",
    "SECRET_KEY = \"bwho7ZbVcQKIaYgYcLI67c0Sibxj3ckOmnxmwjNv\"\n",
    "trading_client = TradingClient(KEY, SECRET_KEY, paper=True)"
   ]
  },
  {
   "cell_type": "markdown",
   "metadata": {},
   "source": [
    "### View account information"
   ]
  },
  {
   "cell_type": "code",
   "execution_count": 3,
   "metadata": {},
   "outputs": [
    {
     "data": {
      "text/plain": [
       "{   'account_blocked': False,\n",
       "    'account_number': 'PA326D2U1D75',\n",
       "    'accrued_fees': '0',\n",
       "    'buying_power': '200008.08',\n",
       "    'cash': '100004.04',\n",
       "    'created_at': datetime.datetime(2023, 12, 21, 14, 56, 37, 240661, tzinfo=datetime.timezone.utc),\n",
       "    'crypto_status': <AccountStatus.ACTIVE: 'ACTIVE'>,\n",
       "    'currency': 'USD',\n",
       "    'daytrade_count': 2,\n",
       "    'daytrading_buying_power': '0',\n",
       "    'equity': '100004.04',\n",
       "    'id': UUID('22f9a871-da4e-45c6-a8d7-e034a2f61fc1'),\n",
       "    'initial_margin': '0',\n",
       "    'last_equity': '100000',\n",
       "    'last_maintenance_margin': '0',\n",
       "    'long_market_value': '0',\n",
       "    'maintenance_margin': '0',\n",
       "    'multiplier': '2',\n",
       "    'non_marginable_buying_power': '100000',\n",
       "    'pattern_day_trader': False,\n",
       "    'pending_transfer_in': '0',\n",
       "    'pending_transfer_out': None,\n",
       "    'portfolio_value': '100004.04',\n",
       "    'regt_buying_power': '200008.08',\n",
       "    'short_market_value': '0',\n",
       "    'shorting_enabled': True,\n",
       "    'sma': '0',\n",
       "    'status': <AccountStatus.ACTIVE: 'ACTIVE'>,\n",
       "    'trade_suspended_by_user': False,\n",
       "    'trading_blocked': False,\n",
       "    'transfers_blocked': False}"
      ]
     },
     "execution_count": 3,
     "metadata": {},
     "output_type": "execute_result"
    }
   ],
   "source": [
    "# Get our account information.\n",
    "account = trading_client.get_account()\n",
    "account"
   ]
  },
  {
   "cell_type": "code",
   "execution_count": 4,
   "metadata": {},
   "outputs": [],
   "source": [
    "# Check if our account is restricted from trading.\n",
    "if account.trading_blocked:\n",
    "    print('Account is currently restricted from trading.')"
   ]
  },
  {
   "cell_type": "code",
   "execution_count": 5,
   "metadata": {},
   "outputs": [
    {
     "name": "stdout",
     "output_type": "stream",
     "text": [
      "Available buying power:\t$200,008.08\n",
      "Portfolio value:\t$100,004.04\n"
     ]
    }
   ],
   "source": [
    "# Check how much money we can use to open new positions and current value\n",
    "print(f'Available buying power:\\t${float(account.buying_power):,.2f}')\n",
    "print(f'Portfolio value:\\t${float(account.portfolio_value):,.2f}')"
   ]
  },
  {
   "cell_type": "code",
   "execution_count": 6,
   "metadata": {},
   "outputs": [
    {
     "name": "stdout",
     "output_type": "stream",
     "text": [
      "Today's portfolio balance change: $4.04\n"
     ]
    }
   ],
   "source": [
    "# Check our current balance vs. our balance at the last market close\n",
    "balance_change = float(account.equity) - float(account.last_equity)\n",
    "print(f'Today\\'s portfolio balance change: ${balance_change:,.2f}')\n"
   ]
  },
  {
   "cell_type": "markdown",
   "metadata": {},
   "source": [
    "### Asset and Current Pricing Information from Alpaca"
   ]
  },
  {
   "cell_type": "code",
   "execution_count": 7,
   "metadata": {},
   "outputs": [
    {
     "name": "stdout",
     "output_type": "stream",
     "text": [
      "We can trade SPY.\n"
     ]
    },
    {
     "data": {
      "text/plain": [
       "{   'asset_class': <AssetClass.US_EQUITY: 'us_equity'>,\n",
       "    'easy_to_borrow': True,\n",
       "    'exchange': <AssetExchange.ARCA: 'ARCA'>,\n",
       "    'fractionable': True,\n",
       "    'id': UUID('b28f4066-5c6d-479b-a2af-85dc1a8f16fb'),\n",
       "    'maintenance_margin_requirement': 30.0,\n",
       "    'marginable': True,\n",
       "    'min_order_size': None,\n",
       "    'min_trade_increment': None,\n",
       "    'name': 'SPDR S&P 500 ETF Trust',\n",
       "    'price_increment': None,\n",
       "    'shortable': True,\n",
       "    'status': <AssetStatus.ACTIVE: 'active'>,\n",
       "    'symbol': 'SPY',\n",
       "    'tradable': True}"
      ]
     },
     "execution_count": 7,
     "metadata": {},
     "output_type": "execute_result"
    }
   ],
   "source": [
    "# get information about a particular asset\n",
    "SYMBOL = 'SPY'\n",
    "asset_info = trading_client.get_asset(SYMBOL)\n",
    "if asset_info.tradable:\n",
    "    print(f'We can trade {SYMBOL}.')\n",
    "asset_info"
   ]
  },
  {
   "cell_type": "code",
   "execution_count": 8,
   "metadata": {},
   "outputs": [
    {
     "data": {
      "text/plain": [
       "{   'asset_class': <AssetClass.US_EQUITY: 'us_equity'>,\n",
       "    'easy_to_borrow': False,\n",
       "    'exchange': <AssetExchange.OTC: 'OTC'>,\n",
       "    'fractionable': False,\n",
       "    'id': UUID('1bdc1fcc-7d8c-43bd-925a-8d9338ea7040'),\n",
       "    'maintenance_margin_requirement': 100.0,\n",
       "    'marginable': False,\n",
       "    'min_order_size': None,\n",
       "    'min_trade_increment': None,\n",
       "    'name': 'Essential Energy Services Ltd. Common Shares (Canada)',\n",
       "    'price_increment': None,\n",
       "    'shortable': False,\n",
       "    'status': <AssetStatus.INACTIVE: 'inactive'>,\n",
       "    'symbol': 'EEYUF',\n",
       "    'tradable': False}"
      ]
     },
     "execution_count": 8,
     "metadata": {},
     "output_type": "execute_result"
    }
   ],
   "source": [
    "# get list of equities\n",
    "from alpaca.trading.enums import AssetClass\n",
    "search_params = GetAssetsRequest(asset_class=AssetClass.US_EQUITY)\n",
    "assets = trading_client.get_all_assets(search_params)\n",
    "assets[0]"
   ]
  },
  {
   "cell_type": "code",
   "execution_count": 9,
   "metadata": {},
   "outputs": [
    {
     "data": {
      "text/html": [
       "<div>\n",
       "<style scoped>\n",
       "    .dataframe tbody tr th:only-of-type {\n",
       "        vertical-align: middle;\n",
       "    }\n",
       "\n",
       "    .dataframe tbody tr th {\n",
       "        vertical-align: top;\n",
       "    }\n",
       "\n",
       "    .dataframe thead th {\n",
       "        text-align: right;\n",
       "    }\n",
       "</style>\n",
       "<table border=\"1\" class=\"dataframe\">\n",
       "  <thead>\n",
       "    <tr style=\"text-align: right;\">\n",
       "      <th></th>\n",
       "      <th>tradable</th>\n",
       "      <th>shortable</th>\n",
       "    </tr>\n",
       "  </thead>\n",
       "  <tbody>\n",
       "    <tr>\n",
       "      <th>DRTTF</th>\n",
       "      <td>False</td>\n",
       "      <td>False</td>\n",
       "    </tr>\n",
       "    <tr>\n",
       "      <th>HCDPQ</th>\n",
       "      <td>False</td>\n",
       "      <td>False</td>\n",
       "    </tr>\n",
       "    <tr>\n",
       "      <th>HYW</th>\n",
       "      <td>False</td>\n",
       "      <td>True</td>\n",
       "    </tr>\n",
       "    <tr>\n",
       "      <th>CKHUY</th>\n",
       "      <td>False</td>\n",
       "      <td>True</td>\n",
       "    </tr>\n",
       "    <tr>\n",
       "      <th>CTNT</th>\n",
       "      <td>False</td>\n",
       "      <td>False</td>\n",
       "    </tr>\n",
       "  </tbody>\n",
       "</table>\n",
       "</div>"
      ],
      "text/plain": [
       "       tradable  shortable\n",
       "DRTTF     False      False\n",
       "HCDPQ     False      False\n",
       "HYW       False       True\n",
       "CKHUY     False       True\n",
       "CTNT      False      False"
      ]
     },
     "execution_count": 9,
     "metadata": {},
     "output_type": "execute_result"
    }
   ],
   "source": [
    "# get tradeable and shortable stocks\n",
    "assets = [\n",
    "    x for x in assets \n",
    "    if (x.asset_class[:]=='us_equity') \n",
    "    and (x.status[:]=='active')\n",
    "]\n",
    "symbols   = [x.symbol for x in assets]\n",
    "tradable  = [x.tradable for x in assets]\n",
    "shortable = [x.shortable for x in assets]\n",
    "\n",
    "# df = pd.DataFrame([tradable,shortable])\n",
    "df = pd.DataFrame(list(zip(tradable, shortable)), columns=['tradable','shortable'], index=symbols)\n",
    "df.head()"
   ]
  },
  {
   "cell_type": "code",
   "execution_count": 10,
   "metadata": {},
   "outputs": [
    {
     "data": {
      "text/html": [
       "<div>\n",
       "<style scoped>\n",
       "    .dataframe tbody tr th:only-of-type {\n",
       "        vertical-align: middle;\n",
       "    }\n",
       "\n",
       "    .dataframe tbody tr th {\n",
       "        vertical-align: top;\n",
       "    }\n",
       "\n",
       "    .dataframe thead th {\n",
       "        text-align: right;\n",
       "    }\n",
       "</style>\n",
       "<table border=\"1\" class=\"dataframe\">\n",
       "  <thead>\n",
       "    <tr style=\"text-align: right;\">\n",
       "      <th></th>\n",
       "      <th>tradable</th>\n",
       "      <th>shortable</th>\n",
       "      <th>bid</th>\n",
       "      <th>ask</th>\n",
       "    </tr>\n",
       "  </thead>\n",
       "  <tbody>\n",
       "    <tr>\n",
       "      <th>SPY</th>\n",
       "      <td>True</td>\n",
       "      <td>True</td>\n",
       "      <td>471.1</td>\n",
       "      <td>471.23</td>\n",
       "    </tr>\n",
       "    <tr>\n",
       "      <th>AAPL</th>\n",
       "      <td>True</td>\n",
       "      <td>True</td>\n",
       "      <td>194.8</td>\n",
       "      <td>194.82</td>\n",
       "    </tr>\n",
       "    <tr>\n",
       "      <th>IBM</th>\n",
       "      <td>True</td>\n",
       "      <td>True</td>\n",
       "      <td>0.0</td>\n",
       "      <td>162.02</td>\n",
       "    </tr>\n",
       "  </tbody>\n",
       "</table>\n",
       "</div>"
      ],
      "text/plain": [
       "      tradable  shortable    bid     ask\n",
       "SPY       True       True  471.1  471.23\n",
       "AAPL      True       True  194.8  194.82\n",
       "IBM       True       True    0.0  162.02"
      ]
     },
     "execution_count": 10,
     "metadata": {},
     "output_type": "execute_result"
    }
   ],
   "source": [
    "# get quotes for set of symbols\n",
    "SYMBOL_LIST = ['SPY','AAPL','IBM']\n",
    "df = df.loc[SYMBOL_LIST]\n",
    "\n",
    "# pull data from alpaca\n",
    "data_client = StockHistoricalDataClient(KEY, SECRET_KEY)\n",
    "params = StockLatestQuoteRequest(symbol_or_symbols=df.index.to_list())\n",
    "quotes = data_client.get_stock_latest_quote(params)\n",
    "\n",
    "# add to dataframe\n",
    "df[\"bid\"] = [quotes[x].bid_price for x in df.index]\n",
    "df[\"ask\"] = [quotes[x].ask_price for x in df.index]\n",
    "df.head()"
   ]
  },
  {
   "cell_type": "markdown",
   "metadata": {},
   "source": [
    "### Submitting Orders"
   ]
  },
  {
   "cell_type": "code",
   "execution_count": 40,
   "metadata": {},
   "outputs": [],
   "source": [
    "order = MarketOrderRequest(\n",
    "    symbol=\"SPY\",\n",
    "    qty=10,\n",
    "    side=OrderSide.BUY,\n",
    "    time_in_force=TimeInForce.DAY\n",
    "    )\n",
    "_ = trading_client.submit_order(order)"
   ]
  },
  {
   "cell_type": "code",
   "execution_count": 41,
   "metadata": {},
   "outputs": [],
   "source": [
    "order = MarketOrderRequest(\n",
    "    symbol=\"AAPL\",\n",
    "    qty=5,\n",
    "    side=OrderSide.SELL,\n",
    "    time_in_force=TimeInForce.DAY\n",
    "    )\n",
    "_ = trading_client.submit_order(order)"
   ]
  },
  {
   "cell_type": "markdown",
   "metadata": {},
   "source": [
    "### Get open positions"
   ]
  },
  {
   "cell_type": "code",
   "execution_count": 42,
   "metadata": {},
   "outputs": [
    {
     "name": "stdout",
     "output_type": "stream",
     "text": [
      "-5 shares of AAPL\n",
      "10 shares of SPY\n"
     ]
    }
   ],
   "source": [
    "# List of all positions\n",
    "positions = trading_client.get_all_positions()\n",
    "\n",
    "# Print the quantity of shares for each position.\n",
    "for position in positions:\n",
    "    print(\"{} shares of {}\".format(position.qty, position.symbol))"
   ]
  },
  {
   "cell_type": "code",
   "execution_count": 14,
   "metadata": {},
   "outputs": [
    {
     "data": {
      "text/html": [
       "<div>\n",
       "<style scoped>\n",
       "    .dataframe tbody tr th:only-of-type {\n",
       "        vertical-align: middle;\n",
       "    }\n",
       "\n",
       "    .dataframe tbody tr th {\n",
       "        vertical-align: top;\n",
       "    }\n",
       "\n",
       "    .dataframe thead th {\n",
       "        text-align: right;\n",
       "    }\n",
       "</style>\n",
       "<table border=\"1\" class=\"dataframe\">\n",
       "  <thead>\n",
       "    <tr style=\"text-align: right;\">\n",
       "      <th></th>\n",
       "      <th>qty</th>\n",
       "      <th>mktval</th>\n",
       "      <th>cost_basis</th>\n",
       "    </tr>\n",
       "  </thead>\n",
       "  <tbody>\n",
       "    <tr>\n",
       "      <th>AAPL</th>\n",
       "      <td>-5.0</td>\n",
       "      <td>-974.150</td>\n",
       "      <td>-974.0</td>\n",
       "    </tr>\n",
       "    <tr>\n",
       "      <th>SPY</th>\n",
       "      <td>10.0</td>\n",
       "      <td>4713.199</td>\n",
       "      <td>4712.2</td>\n",
       "    </tr>\n",
       "  </tbody>\n",
       "</table>\n",
       "</div>"
      ],
      "text/plain": [
       "       qty    mktval  cost_basis\n",
       "AAPL  -5.0  -974.150      -974.0\n",
       "SPY   10.0  4713.199      4712.2"
      ]
     },
     "execution_count": 14,
     "metadata": {},
     "output_type": "execute_result"
    }
   ],
   "source": [
    "# Dataframe of positions\n",
    "positions = trading_client.get_all_positions()\n",
    "\n",
    "if len(positions) > 0:\n",
    "    symbols       = [x.symbol for x in positions]\n",
    "    qty           = [float(x.qty) for x in positions]\n",
    "    market_value  = [float(x.market_value) for x in positions]\n",
    "    cost_basis    = [float(x.cost_basis) for x in positions]\n",
    "\n",
    "    df = pd.DataFrame(list(zip(qty, market_value, cost_basis)), columns=['qty','mktval','cost_basis'], index=symbols)\n",
    "\n",
    "else:\n",
    "    print('No positions')\n",
    "\n",
    "df.head()"
   ]
  },
  {
   "cell_type": "code",
   "execution_count": 15,
   "metadata": {},
   "outputs": [
    {
     "data": {
      "text/html": [
       "<div>\n",
       "<style scoped>\n",
       "    .dataframe tbody tr th:only-of-type {\n",
       "        vertical-align: middle;\n",
       "    }\n",
       "\n",
       "    .dataframe tbody tr th {\n",
       "        vertical-align: top;\n",
       "    }\n",
       "\n",
       "    .dataframe thead th {\n",
       "        text-align: right;\n",
       "    }\n",
       "</style>\n",
       "<table border=\"1\" class=\"dataframe\">\n",
       "  <thead>\n",
       "    <tr style=\"text-align: right;\">\n",
       "      <th></th>\n",
       "      <th>qty</th>\n",
       "      <th>mktval</th>\n",
       "      <th>cost_basis</th>\n",
       "    </tr>\n",
       "  </thead>\n",
       "  <tbody>\n",
       "    <tr>\n",
       "      <th>AAPL</th>\n",
       "      <td>-5.0</td>\n",
       "      <td>-974.150</td>\n",
       "      <td>-974.0</td>\n",
       "    </tr>\n",
       "    <tr>\n",
       "      <th>SPY</th>\n",
       "      <td>10.0</td>\n",
       "      <td>4713.199</td>\n",
       "      <td>4712.2</td>\n",
       "    </tr>\n",
       "    <tr>\n",
       "      <th>cash</th>\n",
       "      <td>NaN</td>\n",
       "      <td>96265.840</td>\n",
       "      <td>NaN</td>\n",
       "    </tr>\n",
       "  </tbody>\n",
       "</table>\n",
       "</div>"
      ],
      "text/plain": [
       "       qty     mktval  cost_basis\n",
       "AAPL  -5.0   -974.150      -974.0\n",
       "SPY   10.0   4713.199      4712.2\n",
       "cash   NaN  96265.840         NaN"
      ]
     },
     "execution_count": 15,
     "metadata": {},
     "output_type": "execute_result"
    }
   ],
   "source": [
    "# Add cash balance to show balance sheet\n",
    "account = trading_client.get_account()\n",
    "df.loc['cash','mktval'] = float(account.cash)\n",
    "df.head()"
   ]
  },
  {
   "cell_type": "code",
   "execution_count": 16,
   "metadata": {},
   "outputs": [
    {
     "name": "stdout",
     "output_type": "stream",
     "text": [
      "Portfolio value (from positions):\t$100,004.89\n",
      "Portfolio value (from account):\t\t$100,004.98\n"
     ]
    }
   ],
   "source": [
    "print(f'Portfolio value (from positions):\\t${df.mktval.sum():,.2f}')\n",
    "print(f'Portfolio value (from account):\\t\\t${float(account.portfolio_value):,.2f}')"
   ]
  },
  {
   "cell_type": "markdown",
   "metadata": {},
   "source": [
    "### Undo the trades"
   ]
  },
  {
   "cell_type": "code",
   "execution_count": 33,
   "metadata": {},
   "outputs": [],
   "source": [
    "order = MarketOrderRequest(\n",
    "    symbol=\"SPY\",\n",
    "    qty=10,\n",
    "    side=OrderSide.SELL,\n",
    "    time_in_force=TimeInForce.DAY\n",
    "    )\n",
    "_ = trading_client.submit_order(order)"
   ]
  },
  {
   "cell_type": "code",
   "execution_count": 34,
   "metadata": {},
   "outputs": [],
   "source": [
    "order = MarketOrderRequest(\n",
    "    symbol=\"AAPL\",\n",
    "    qty=5,\n",
    "    side=OrderSide.BUY,\n",
    "    time_in_force=TimeInForce.DAY\n",
    "    )\n",
    "_ = trading_client.submit_order(order)"
   ]
  },
  {
   "cell_type": "code",
   "execution_count": 38,
   "metadata": {},
   "outputs": [],
   "source": [
    "positions = trading_client.get_all_positions()\n",
    "\n",
    "# Print the quantity of shares for each position.\n",
    "for position in positions:\n",
    "    print(\"{} shares of {}\".format(position.qty, position.symbol))"
   ]
  },
  {
   "cell_type": "code",
   "execution_count": 39,
   "metadata": {},
   "outputs": [
    {
     "name": "stdout",
     "output_type": "stream",
     "text": [
      "Portfolio value:\t$100,002.61\n"
     ]
    }
   ],
   "source": [
    "account = trading_client.get_account()\n",
    "print(f'Portfolio value:\\t${float(account.portfolio_value):,.2f}')"
   ]
  },
  {
   "cell_type": "markdown",
   "metadata": {},
   "source": [
    "### Close all positions"
   ]
  },
  {
   "cell_type": "code",
   "execution_count": null,
   "metadata": {},
   "outputs": [],
   "source": [
    "trading_client.close_all_positions(cancel_orders=True)"
   ]
  },
  {
   "cell_type": "code",
   "execution_count": 45,
   "metadata": {},
   "outputs": [],
   "source": [
    "positions = trading_client.get_all_positions()\n",
    "for position in positions:\n",
    "    print(\"{} shares of {}\".format(position.qty, position.symbol))"
   ]
  }
 ],
 "metadata": {
  "kernelspec": {
   "display_name": "Python 3",
   "language": "python",
   "name": "python3"
  },
  "language_info": {
   "codemirror_mode": {
    "name": "ipython",
    "version": 3
   },
   "file_extension": ".py",
   "mimetype": "text/x-python",
   "name": "python",
   "nbconvert_exporter": "python",
   "pygments_lexer": "ipython3",
   "version": "3.10.6"
  },
  "orig_nbformat": 4,
  "vscode": {
   "interpreter": {
    "hash": "a98f34b6005ae2330f135078450db511ef8910ecc790235ef0560aa88aa6ce12"
   }
  }
 },
 "nbformat": 4,
 "nbformat_minor": 2
}
