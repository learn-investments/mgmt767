{
 "cells": [
  {
   "attachments": {},
   "cell_type": "markdown",
   "metadata": {},
   "source": [
    "## GMV backtest\n",
    "\n",
    "This notebook follows the 06a-backtest example and implements GMV weighting in addition to equal-weighting."
   ]
  },
  {
   "cell_type": "code",
   "execution_count": 48,
   "metadata": {},
   "outputs": [
    {
     "name": "stdout",
     "output_type": "stream",
     "text": [
      "Requirement already satisfied: pymssql in c:\\users\\kpc2\\appdata\\local\\programs\\python\\python310\\lib\\site-packages (2.2.7)\n"
     ]
    },
    {
     "name": "stderr",
     "output_type": "stream",
     "text": [
      "\n",
      "[notice] A new release of pip available: 22.2.1 -> 23.0.1\n",
      "[notice] To update, run: python.exe -m pip install --upgrade pip\n"
     ]
    },
    {
     "name": "stdout",
     "output_type": "stream",
     "text": [
      "Requirement already satisfied: scikit-learn in c:\\users\\kpc2\\appdata\\local\\programs\\python\\python310\\lib\\site-packages (1.2.2)\n",
      "Requirement already satisfied: scipy>=1.3.2 in c:\\users\\kpc2\\appdata\\local\\programs\\python\\python310\\lib\\site-packages (from scikit-learn) (1.9.0)\n",
      "Requirement already satisfied: numpy>=1.17.3 in c:\\users\\kpc2\\appdata\\local\\programs\\python\\python310\\lib\\site-packages (from scikit-learn) (1.23.1)\n",
      "Requirement already satisfied: joblib>=1.1.1 in c:\\users\\kpc2\\appdata\\local\\programs\\python\\python310\\lib\\site-packages (from scikit-learn) (1.2.0)\n",
      "Requirement already satisfied: threadpoolctl>=2.0.0 in c:\\users\\kpc2\\appdata\\local\\programs\\python\\python310\\lib\\site-packages (from scikit-learn) (3.1.0)\n"
     ]
    },
    {
     "name": "stderr",
     "output_type": "stream",
     "text": [
      "\n",
      "[notice] A new release of pip available: 22.2.1 -> 23.0.1\n",
      "[notice] To update, run: python.exe -m pip install --upgrade pip\n"
     ]
    }
   ],
   "source": [
    "from sqlalchemy import create_engine\n",
    "!pip install pymssql\n",
    "!pip install scikit-learn\n",
    "import pymssql\n",
    "import pandas as pd\n",
    "import numpy as np\n",
    "\n",
    "\n",
    "from sklearn.linear_model import LinearRegression\n",
    "from sklearn.preprocessing import QuantileTransformer\n",
    "from sklearn.preprocessing import PolynomialFeatures\n",
    "from sklearn.pipeline import make_pipeline\n",
    "\n",
    "from cvxopt import matrix\n",
    "from cvxopt.solvers import qp as Solver, options as SolverOptions\n",
    "import statsmodels.api as sm\n",
    "from pandas_datareader import DataReader as pdr\n",
    "import matplotlib.pyplot as plt\n",
    "\n",
    "model = LinearRegression()\n",
    "qt = QuantileTransformer(output_distribution=\"normal\")\n",
    "poly = PolynomialFeatures(degree=2)\n",
    "pipe = make_pipeline(poly, model)"
   ]
  },
  {
   "cell_type": "code",
   "execution_count": 2,
   "metadata": {},
   "outputs": [],
   "source": [
    "server = \"mssql-82792-0.cloudclusters.net:16272\"\n",
    "username = \"user\"\n",
    "password = \"RiceOwls1912\" \n",
    "dfbase = \"ghz\"\n",
    "string = \"mssql+pymssql://\" + username + \":\" + password + \"@\" + server + \"/\" + dfbase\n",
    "conn = create_engine(string).connect()"
   ]
  },
  {
   "cell_type": "markdown",
   "metadata": {},
   "source": [
    "#### Get data"
   ]
  },
  {
   "cell_type": "code",
   "execution_count": 3,
   "metadata": {},
   "outputs": [],
   "source": [
    "df = pd.read_sql(\n",
    "    \"\"\"\n",
    "    select ticker, date, ret, roeq, bm, mom12m, mve\n",
    "    from data\n",
    "    where date>='2000-01'\n",
    "    order by date, ticker\n",
    "    \"\"\", \n",
    "    conn\n",
    ")\n",
    "df = df.dropna()\n",
    "conn.close()\n"
   ]
  },
  {
   "cell_type": "code",
   "execution_count": 4,
   "metadata": {},
   "outputs": [],
   "source": [
    "raw_data = df.copy()\n",
    "raw_data = raw_data.reset_index()"
   ]
  },
  {
   "cell_type": "code",
   "execution_count": 5,
   "metadata": {},
   "outputs": [],
   "source": [
    "features = [\"roeq\", \"bm\", \"mom12m\"]\n"
   ]
  },
  {
   "cell_type": "code",
   "execution_count": 6,
   "metadata": {},
   "outputs": [
    {
     "data": {
      "text/html": [
       "<div>\n",
       "<style scoped>\n",
       "    .dataframe tbody tr th:only-of-type {\n",
       "        vertical-align: middle;\n",
       "    }\n",
       "\n",
       "    .dataframe tbody tr th {\n",
       "        vertical-align: top;\n",
       "    }\n",
       "\n",
       "    .dataframe thead th {\n",
       "        text-align: right;\n",
       "    }\n",
       "</style>\n",
       "<table border=\"1\" class=\"dataframe\">\n",
       "  <thead>\n",
       "    <tr style=\"text-align: right;\">\n",
       "      <th></th>\n",
       "      <th></th>\n",
       "      <th>index</th>\n",
       "      <th>ret</th>\n",
       "      <th>roeq</th>\n",
       "      <th>bm</th>\n",
       "      <th>mom12m</th>\n",
       "      <th>mve</th>\n",
       "    </tr>\n",
       "    <tr>\n",
       "      <th>ticker</th>\n",
       "      <th>date</th>\n",
       "      <th></th>\n",
       "      <th></th>\n",
       "      <th></th>\n",
       "      <th></th>\n",
       "      <th></th>\n",
       "      <th></th>\n",
       "    </tr>\n",
       "  </thead>\n",
       "  <tbody>\n",
       "    <tr>\n",
       "      <th>AA</th>\n",
       "      <th>2000-01</th>\n",
       "      <td>1</td>\n",
       "      <td>-0.160392</td>\n",
       "      <td>0.039969</td>\n",
       "      <td>0.438760</td>\n",
       "      <td>0.783092</td>\n",
       "      <td>17.230341</td>\n",
       "    </tr>\n",
       "    <tr>\n",
       "      <th>AABC</th>\n",
       "      <th>2000-01</th>\n",
       "      <td>3</td>\n",
       "      <td>-0.029528</td>\n",
       "      <td>0.054207</td>\n",
       "      <td>1.107577</td>\n",
       "      <td>0.077586</td>\n",
       "      <td>9.194465</td>\n",
       "    </tr>\n",
       "    <tr>\n",
       "      <th>AAC</th>\n",
       "      <th>2000-01</th>\n",
       "      <td>4</td>\n",
       "      <td>0.056338</td>\n",
       "      <td>0.053986</td>\n",
       "      <td>1.893766</td>\n",
       "      <td>0.241379</td>\n",
       "      <td>12.072728</td>\n",
       "    </tr>\n",
       "    <tr>\n",
       "      <th>AACE</th>\n",
       "      <th>2000-01</th>\n",
       "      <td>5</td>\n",
       "      <td>-0.067568</td>\n",
       "      <td>0.049065</td>\n",
       "      <td>0.339860</td>\n",
       "      <td>0.095833</td>\n",
       "      <td>12.134491</td>\n",
       "    </tr>\n",
       "    <tr>\n",
       "      <th>AAG</th>\n",
       "      <th>2000-01</th>\n",
       "      <td>6</td>\n",
       "      <td>-0.100694</td>\n",
       "      <td>0.028019</td>\n",
       "      <td>0.703278</td>\n",
       "      <td>-0.294565</td>\n",
       "      <td>13.544615</td>\n",
       "    </tr>\n",
       "    <tr>\n",
       "      <th>...</th>\n",
       "      <th>...</th>\n",
       "      <td>...</td>\n",
       "      <td>...</td>\n",
       "      <td>...</td>\n",
       "      <td>...</td>\n",
       "      <td>...</td>\n",
       "      <td>...</td>\n",
       "    </tr>\n",
       "    <tr>\n",
       "      <th>ZOMX</th>\n",
       "      <th>2000-01</th>\n",
       "      <td>5709</td>\n",
       "      <td>-0.005525</td>\n",
       "      <td>0.094583</td>\n",
       "      <td>0.428749</td>\n",
       "      <td>3.557692</td>\n",
       "      <td>13.459701</td>\n",
       "    </tr>\n",
       "    <tr>\n",
       "      <th>ZONA</th>\n",
       "      <th>2000-01</th>\n",
       "      <td>5710</td>\n",
       "      <td>0.771429</td>\n",
       "      <td>-0.078612</td>\n",
       "      <td>0.249106</td>\n",
       "      <td>-0.715686</td>\n",
       "      <td>10.805451</td>\n",
       "    </tr>\n",
       "    <tr>\n",
       "      <th>ZQK</th>\n",
       "      <th>2000-01</th>\n",
       "      <td>5711</td>\n",
       "      <td>-0.217742</td>\n",
       "      <td>0.041841</td>\n",
       "      <td>0.397946</td>\n",
       "      <td>-0.243750</td>\n",
       "      <td>12.770872</td>\n",
       "    </tr>\n",
       "    <tr>\n",
       "      <th>ZRAN</th>\n",
       "      <th>2000-01</th>\n",
       "      <td>5712</td>\n",
       "      <td>-0.181614</td>\n",
       "      <td>0.033529</td>\n",
       "      <td>0.202465</td>\n",
       "      <td>1.278572</td>\n",
       "      <td>13.572464</td>\n",
       "    </tr>\n",
       "    <tr>\n",
       "      <th>ZVXI</th>\n",
       "      <th>2000-01</th>\n",
       "      <td>5713</td>\n",
       "      <td>0.926829</td>\n",
       "      <td>0.014941</td>\n",
       "      <td>1.241130</td>\n",
       "      <td>0.052632</td>\n",
       "      <td>9.771819</td>\n",
       "    </tr>\n",
       "  </tbody>\n",
       "</table>\n",
       "<p>5063 rows × 6 columns</p>\n",
       "</div>"
      ],
      "text/plain": [
       "                index       ret      roeq        bm    mom12m        mve\n",
       "ticker date                                                             \n",
       "AA     2000-01      1 -0.160392  0.039969  0.438760  0.783092  17.230341\n",
       "AABC   2000-01      3 -0.029528  0.054207  1.107577  0.077586   9.194465\n",
       "AAC    2000-01      4  0.056338  0.053986  1.893766  0.241379  12.072728\n",
       "AACE   2000-01      5 -0.067568  0.049065  0.339860  0.095833  12.134491\n",
       "AAG    2000-01      6 -0.100694  0.028019  0.703278 -0.294565  13.544615\n",
       "...               ...       ...       ...       ...       ...        ...\n",
       "ZOMX   2000-01   5709 -0.005525  0.094583  0.428749  3.557692  13.459701\n",
       "ZONA   2000-01   5710  0.771429 -0.078612  0.249106 -0.715686  10.805451\n",
       "ZQK    2000-01   5711 -0.217742  0.041841  0.397946 -0.243750  12.770872\n",
       "ZRAN   2000-01   5712 -0.181614  0.033529  0.202465  1.278572  13.572464\n",
       "ZVXI   2000-01   5713  0.926829  0.014941  1.241130  0.052632   9.771819\n",
       "\n",
       "[5063 rows x 6 columns]"
      ]
     },
     "execution_count": 6,
     "metadata": {},
     "output_type": "execute_result"
    }
   ],
   "source": [
    "# raw_data.set_index(['ticker','date']).xs('IBM', level='ticker', drop_level=False)\n",
    "raw_data.set_index(['ticker','date']).xs('2000-01', level='date', drop_level=False)"
   ]
  },
  {
   "attachments": {},
   "cell_type": "markdown",
   "metadata": {},
   "source": [
    "### Estimate expanding window volatilities each month"
   ]
  },
  {
   "cell_type": "code",
   "execution_count": 7,
   "metadata": {},
   "outputs": [],
   "source": [
    "WINDOW = 60"
   ]
  },
  {
   "cell_type": "code",
   "execution_count": 8,
   "metadata": {},
   "outputs": [
    {
     "data": {
      "text/plain": [
       "ticker  date   \n",
       "A       2007-03    0.128052\n",
       "        2007-04    0.126989\n",
       "        2007-05    0.126610\n",
       "        2007-06    0.125585\n",
       "        2007-07    0.124604\n",
       "                     ...   \n",
       "ZVXI    2021-11    0.273161\n",
       "        2021-12    0.273161\n",
       "        2022-01    0.273161\n",
       "        2022-02    0.273161\n",
       "        2022-03    0.273161\n",
       "Name: sd, Length: 928365, dtype: float64"
      ]
     },
     "execution_count": 8,
     "metadata": {},
     "output_type": "execute_result"
    }
   ],
   "source": [
    "df = raw_data.set_index(['ticker','date']).sort_values(by=['ticker','date'])\n",
    "df_wide = df.ret.unstack(level=0)\n",
    "sds = df_wide.expanding(WINDOW).std()\n",
    "sds = sds.stack()\n",
    "sds = sds.swaplevel().sort_index()\n",
    "sds.name = 'sd'\n",
    "sds"
   ]
  },
  {
   "cell_type": "code",
   "execution_count": 9,
   "metadata": {},
   "outputs": [
    {
     "data": {
      "text/plain": [
       "ticker  date   \n",
       "IBM     2004-12    0.103784\n",
       "        2005-01    0.103169\n",
       "        2005-02    0.102328\n",
       "        2005-03    0.101519\n",
       "        2005-04    0.102848\n",
       "                     ...   \n",
       "        2021-11    0.071878\n",
       "        2021-12    0.072231\n",
       "        2022-01    0.072095\n",
       "        2022-02    0.072109\n",
       "        2022-03    0.072056\n",
       "Name: sd, Length: 208, dtype: float64"
      ]
     },
     "execution_count": 9,
     "metadata": {},
     "output_type": "execute_result"
    }
   ],
   "source": [
    "sds.xs('IBM',level='ticker', drop_level=False)"
   ]
  },
  {
   "cell_type": "markdown",
   "metadata": {},
   "source": [
    "#### Drop largest 500 stocks each month"
   ]
  },
  {
   "cell_type": "code",
   "execution_count": 10,
   "metadata": {},
   "outputs": [],
   "source": [
    "df = raw_data.set_index([\"date\", \"ticker\"]).copy()"
   ]
  },
  {
   "cell_type": "code",
   "execution_count": 11,
   "metadata": {},
   "outputs": [],
   "source": [
    "df[\"size_rnk\"] = df.groupby(\"date\").mve.rank(ascending=False)\n",
    "df = df[df.size_rnk>500]"
   ]
  },
  {
   "cell_type": "markdown",
   "metadata": {},
   "source": [
    "#### Transform features each month"
   ]
  },
  {
   "cell_type": "code",
   "execution_count": 12,
   "metadata": {},
   "outputs": [],
   "source": [
    "def qt_df(d):\n",
    "    x = qt.fit_transform(d)\n",
    "    return pd.DataFrame(x, columns=d.columns, index=d.index)\n",
    "\n",
    "df[features] = df.groupby(\"date\", group_keys=False)[features].apply(qt_df)"
   ]
  },
  {
   "cell_type": "markdown",
   "metadata": {},
   "source": [
    "#### Transform target each month"
   ]
  },
  {
   "cell_type": "code",
   "execution_count": 13,
   "metadata": {},
   "outputs": [],
   "source": [
    "def qt_ser(s):\n",
    "    x = s.copy()\n",
    "    x = x.to_numpy().reshape(-1, 1)\n",
    "    x = qt.fit_transform(x).flatten()\n",
    "    return pd.Series(x, index=s.index)\n",
    "\n",
    "df[\"target\"] = df.groupby(\"date\", group_keys=False).ret.apply(qt_ser)"
   ]
  },
  {
   "cell_type": "markdown",
   "metadata": {},
   "source": [
    "#### Train and predict in a loop"
   ]
  },
  {
   "cell_type": "code",
   "execution_count": 14,
   "metadata": {},
   "outputs": [],
   "source": [
    "predictions = None\n",
    "\n",
    "dates = [\"2005-01\", \"2010-01\", \"2015-01\", \"2020-01\", \"3000-01\"]\n",
    "for train_date, end_date in zip(dates[:-1], dates[1:]):\n",
    "\n",
    "    filter1 = df.index.get_level_values(\"date\") < train_date\n",
    "    filter2 = df.index.get_level_values(\"date\") < end_date\n",
    "\n",
    "    train = df[filter1]\n",
    "    test = df[~filter1 & filter2]\n",
    "\n",
    "    Xtrain = train[features]\n",
    "    ytrain = train[\"target\"]\n",
    "    Xtest = test[features]\n",
    "\n",
    "    pipe.fit(Xtrain, ytrain)\n",
    "    pred = pipe.predict(Xtest)\n",
    "    pred = pd.Series(pred, index=test.index)\n",
    "    predictions = pd.concat((predictions, pred))\n",
    "\n",
    "df[\"predict\"] = predictions"
   ]
  },
  {
   "attachments": {},
   "cell_type": "markdown",
   "metadata": {},
   "source": [
    "#### Merge in volatilities"
   ]
  },
  {
   "cell_type": "code",
   "execution_count": 15,
   "metadata": {},
   "outputs": [
    {
     "data": {
      "text/html": [
       "<div>\n",
       "<style scoped>\n",
       "    .dataframe tbody tr th:only-of-type {\n",
       "        vertical-align: middle;\n",
       "    }\n",
       "\n",
       "    .dataframe tbody tr th {\n",
       "        vertical-align: top;\n",
       "    }\n",
       "\n",
       "    .dataframe thead th {\n",
       "        text-align: right;\n",
       "    }\n",
       "</style>\n",
       "<table border=\"1\" class=\"dataframe\">\n",
       "  <thead>\n",
       "    <tr style=\"text-align: right;\">\n",
       "      <th></th>\n",
       "      <th></th>\n",
       "      <th>index</th>\n",
       "      <th>ret</th>\n",
       "      <th>roeq</th>\n",
       "      <th>bm</th>\n",
       "      <th>mom12m</th>\n",
       "      <th>mve</th>\n",
       "      <th>size_rnk</th>\n",
       "      <th>target</th>\n",
       "      <th>predict</th>\n",
       "      <th>sd</th>\n",
       "    </tr>\n",
       "    <tr>\n",
       "      <th>date</th>\n",
       "      <th>ticker</th>\n",
       "      <th></th>\n",
       "      <th></th>\n",
       "      <th></th>\n",
       "      <th></th>\n",
       "      <th></th>\n",
       "      <th></th>\n",
       "      <th></th>\n",
       "      <th></th>\n",
       "      <th></th>\n",
       "      <th></th>\n",
       "    </tr>\n",
       "  </thead>\n",
       "  <tbody>\n",
       "    <tr>\n",
       "      <th rowspan=\"5\" valign=\"top\">2004-12</th>\n",
       "      <th>AACE</th>\n",
       "      <td>299202</td>\n",
       "      <td>0.111903</td>\n",
       "      <td>0.012259</td>\n",
       "      <td>0.686011</td>\n",
       "      <td>0.846174</td>\n",
       "      <td>12.790238</td>\n",
       "      <td>2047.0</td>\n",
       "      <td>0.725076</td>\n",
       "      <td>NaN</td>\n",
       "      <td>0.116874</td>\n",
       "    </tr>\n",
       "    <tr>\n",
       "      <th>AAII</th>\n",
       "      <td>299204</td>\n",
       "      <td>0.051780</td>\n",
       "      <td>2.097185</td>\n",
       "      <td>-1.435987</td>\n",
       "      <td>-2.726759</td>\n",
       "      <td>11.388843</td>\n",
       "      <td>3170.0</td>\n",
       "      <td>0.222377</td>\n",
       "      <td>NaN</td>\n",
       "      <td>0.245369</td>\n",
       "    </tr>\n",
       "    <tr>\n",
       "      <th>AAME</th>\n",
       "      <td>299205</td>\n",
       "      <td>0.033333</td>\n",
       "      <td>-0.282913</td>\n",
       "      <td>1.728346</td>\n",
       "      <td>0.298846</td>\n",
       "      <td>11.058055</td>\n",
       "      <td>3391.0</td>\n",
       "      <td>0.003373</td>\n",
       "      <td>NaN</td>\n",
       "      <td>0.121825</td>\n",
       "    </tr>\n",
       "    <tr>\n",
       "      <th>AANB</th>\n",
       "      <td>299206</td>\n",
       "      <td>0.180442</td>\n",
       "      <td>0.505941</td>\n",
       "      <td>-0.247464</td>\n",
       "      <td>0.093628</td>\n",
       "      <td>10.909255</td>\n",
       "      <td>3491.0</td>\n",
       "      <td>1.162363</td>\n",
       "      <td>NaN</td>\n",
       "      <td>0.079512</td>\n",
       "    </tr>\n",
       "    <tr>\n",
       "      <th>AAON</th>\n",
       "      <td>299207</td>\n",
       "      <td>0.009422</td>\n",
       "      <td>0.061443</td>\n",
       "      <td>-0.674471</td>\n",
       "      <td>-0.720448</td>\n",
       "      <td>12.193995</td>\n",
       "      <td>2534.0</td>\n",
       "      <td>-0.342627</td>\n",
       "      <td>NaN</td>\n",
       "      <td>0.113154</td>\n",
       "    </tr>\n",
       "    <tr>\n",
       "      <th>...</th>\n",
       "      <th>...</th>\n",
       "      <td>...</td>\n",
       "      <td>...</td>\n",
       "      <td>...</td>\n",
       "      <td>...</td>\n",
       "      <td>...</td>\n",
       "      <td>...</td>\n",
       "      <td>...</td>\n",
       "      <td>...</td>\n",
       "      <td>...</td>\n",
       "      <td>...</td>\n",
       "    </tr>\n",
       "    <tr>\n",
       "      <th rowspan=\"5\" valign=\"top\">2022-03</th>\n",
       "      <th>YELP</th>\n",
       "      <td>1022098</td>\n",
       "      <td>0.006492</td>\n",
       "      <td>-0.008022</td>\n",
       "      <td>-0.296959</td>\n",
       "      <td>-0.173110</td>\n",
       "      <td>14.721554</td>\n",
       "      <td>1002.0</td>\n",
       "      <td>0.143844</td>\n",
       "      <td>0.036309</td>\n",
       "      <td>0.147324</td>\n",
       "    </tr>\n",
       "    <tr>\n",
       "      <th>YORW</th>\n",
       "      <td>1022099</td>\n",
       "      <td>0.002229</td>\n",
       "      <td>0.344067</td>\n",
       "      <td>-0.624169</td>\n",
       "      <td>0.384817</td>\n",
       "      <td>13.285281</td>\n",
       "      <td>1535.0</td>\n",
       "      <td>0.091432</td>\n",
       "      <td>0.056389</td>\n",
       "      <td>0.061721</td>\n",
       "    </tr>\n",
       "    <tr>\n",
       "      <th>YTEN</th>\n",
       "      <td>1022100</td>\n",
       "      <td>0.261905</td>\n",
       "      <td>-1.262128</td>\n",
       "      <td>0.071652</td>\n",
       "      <td>-1.837949</td>\n",
       "      <td>9.928395</td>\n",
       "      <td>2311.0</td>\n",
       "      <td>1.597743</td>\n",
       "      <td>-0.169210</td>\n",
       "      <td>0.310849</td>\n",
       "    </tr>\n",
       "    <tr>\n",
       "      <th>ZEUS</th>\n",
       "      <td>1022106</td>\n",
       "      <td>0.436683</td>\n",
       "      <td>1.467827</td>\n",
       "      <td>1.924874</td>\n",
       "      <td>0.666564</td>\n",
       "      <td>12.604142</td>\n",
       "      <td>1728.0</td>\n",
       "      <td>2.168410</td>\n",
       "      <td>0.130236</td>\n",
       "      <td>0.178060</td>\n",
       "    </tr>\n",
       "    <tr>\n",
       "      <th>ZUMZ</th>\n",
       "      <td>1022111</td>\n",
       "      <td>-0.141155</td>\n",
       "      <td>0.598113</td>\n",
       "      <td>0.083015</td>\n",
       "      <td>0.054865</td>\n",
       "      <td>13.757728</td>\n",
       "      <td>1370.0</td>\n",
       "      <td>-1.378972</td>\n",
       "      <td>0.072304</td>\n",
       "      <td>0.157737</td>\n",
       "    </tr>\n",
       "  </tbody>\n",
       "</table>\n",
       "<p>430757 rows × 10 columns</p>\n",
       "</div>"
      ],
      "text/plain": [
       "                  index       ret      roeq        bm    mom12m        mve  \\\n",
       "date    ticker                                                               \n",
       "2004-12 AACE     299202  0.111903  0.012259  0.686011  0.846174  12.790238   \n",
       "        AAII     299204  0.051780  2.097185 -1.435987 -2.726759  11.388843   \n",
       "        AAME     299205  0.033333 -0.282913  1.728346  0.298846  11.058055   \n",
       "        AANB     299206  0.180442  0.505941 -0.247464  0.093628  10.909255   \n",
       "        AAON     299207  0.009422  0.061443 -0.674471 -0.720448  12.193995   \n",
       "...                 ...       ...       ...       ...       ...        ...   \n",
       "2022-03 YELP    1022098  0.006492 -0.008022 -0.296959 -0.173110  14.721554   \n",
       "        YORW    1022099  0.002229  0.344067 -0.624169  0.384817  13.285281   \n",
       "        YTEN    1022100  0.261905 -1.262128  0.071652 -1.837949   9.928395   \n",
       "        ZEUS    1022106  0.436683  1.467827  1.924874  0.666564  12.604142   \n",
       "        ZUMZ    1022111 -0.141155  0.598113  0.083015  0.054865  13.757728   \n",
       "\n",
       "                size_rnk    target   predict        sd  \n",
       "date    ticker                                          \n",
       "2004-12 AACE      2047.0  0.725076       NaN  0.116874  \n",
       "        AAII      3170.0  0.222377       NaN  0.245369  \n",
       "        AAME      3391.0  0.003373       NaN  0.121825  \n",
       "        AANB      3491.0  1.162363       NaN  0.079512  \n",
       "        AAON      2534.0 -0.342627       NaN  0.113154  \n",
       "...                  ...       ...       ...       ...  \n",
       "2022-03 YELP      1002.0  0.143844  0.036309  0.147324  \n",
       "        YORW      1535.0  0.091432  0.056389  0.061721  \n",
       "        YTEN      2311.0  1.597743 -0.169210  0.310849  \n",
       "        ZEUS      1728.0  2.168410  0.130236  0.178060  \n",
       "        ZUMZ      1370.0 -1.378972  0.072304  0.157737  \n",
       "\n",
       "[430757 rows x 10 columns]"
      ]
     },
     "execution_count": 15,
     "metadata": {},
     "output_type": "execute_result"
    }
   ],
   "source": [
    "df = pd.merge(df, sds.swaplevel(), left_index=True, right_index=True)\n",
    "df"
   ]
  },
  {
   "attachments": {},
   "cell_type": "markdown",
   "metadata": {},
   "source": [
    "#### Lag volatility "
   ]
  },
  {
   "cell_type": "code",
   "execution_count": 16,
   "metadata": {},
   "outputs": [
    {
     "data": {
      "text/html": [
       "<div>\n",
       "<style scoped>\n",
       "    .dataframe tbody tr th:only-of-type {\n",
       "        vertical-align: middle;\n",
       "    }\n",
       "\n",
       "    .dataframe tbody tr th {\n",
       "        vertical-align: top;\n",
       "    }\n",
       "\n",
       "    .dataframe thead th {\n",
       "        text-align: right;\n",
       "    }\n",
       "</style>\n",
       "<table border=\"1\" class=\"dataframe\">\n",
       "  <thead>\n",
       "    <tr style=\"text-align: right;\">\n",
       "      <th></th>\n",
       "      <th></th>\n",
       "      <th>index</th>\n",
       "      <th>ret</th>\n",
       "      <th>roeq</th>\n",
       "      <th>bm</th>\n",
       "      <th>mom12m</th>\n",
       "      <th>mve</th>\n",
       "      <th>size_rnk</th>\n",
       "      <th>target</th>\n",
       "      <th>predict</th>\n",
       "      <th>sd</th>\n",
       "      <th>lag_sd</th>\n",
       "    </tr>\n",
       "    <tr>\n",
       "      <th>date</th>\n",
       "      <th>ticker</th>\n",
       "      <th></th>\n",
       "      <th></th>\n",
       "      <th></th>\n",
       "      <th></th>\n",
       "      <th></th>\n",
       "      <th></th>\n",
       "      <th></th>\n",
       "      <th></th>\n",
       "      <th></th>\n",
       "      <th></th>\n",
       "      <th></th>\n",
       "    </tr>\n",
       "  </thead>\n",
       "  <tbody>\n",
       "    <tr>\n",
       "      <th>2019-05</th>\n",
       "      <th>YELP</th>\n",
       "      <td>934302</td>\n",
       "      <td>-0.232901</td>\n",
       "      <td>-0.092168</td>\n",
       "      <td>-0.396406</td>\n",
       "      <td>-0.581662</td>\n",
       "      <td>15.005158</td>\n",
       "      <td>823.0</td>\n",
       "      <td>-1.145476</td>\n",
       "      <td>0.008860</td>\n",
       "      <td>0.147527</td>\n",
       "      <td>NaN</td>\n",
       "    </tr>\n",
       "    <tr>\n",
       "      <th>2019-06</th>\n",
       "      <th>YELP</th>\n",
       "      <td>937117</td>\n",
       "      <td>0.112268</td>\n",
       "      <td>0.442784</td>\n",
       "      <td>-0.395686</td>\n",
       "      <td>0.082686</td>\n",
       "      <td>14.680300</td>\n",
       "      <td>929.0</td>\n",
       "      <td>0.642551</td>\n",
       "      <td>0.052772</td>\n",
       "      <td>0.147019</td>\n",
       "      <td>0.147527</td>\n",
       "    </tr>\n",
       "    <tr>\n",
       "      <th>2019-07</th>\n",
       "      <th>YELP</th>\n",
       "      <td>939919</td>\n",
       "      <td>0.025453</td>\n",
       "      <td>0.441471</td>\n",
       "      <td>-0.400773</td>\n",
       "      <td>-0.179907</td>\n",
       "      <td>14.786702</td>\n",
       "      <td>918.0</td>\n",
       "      <td>0.356582</td>\n",
       "      <td>0.046187</td>\n",
       "      <td>0.145845</td>\n",
       "      <td>0.147019</td>\n",
       "    </tr>\n",
       "    <tr>\n",
       "      <th>2019-08</th>\n",
       "      <th>YELP</th>\n",
       "      <td>942694</td>\n",
       "      <td>-0.043937</td>\n",
       "      <td>0.447650</td>\n",
       "      <td>-0.402128</td>\n",
       "      <td>0.201198</td>\n",
       "      <td>14.811837</td>\n",
       "      <td>908.0</td>\n",
       "      <td>0.121159</td>\n",
       "      <td>0.054795</td>\n",
       "      <td>0.144772</td>\n",
       "      <td>0.145845</td>\n",
       "    </tr>\n",
       "    <tr>\n",
       "      <th>2019-09</th>\n",
       "      <th>YELP</th>\n",
       "      <td>945452</td>\n",
       "      <td>0.037004</td>\n",
       "      <td>-0.260449</td>\n",
       "      <td>-0.407563</td>\n",
       "      <td>-0.404116</td>\n",
       "      <td>14.682673</td>\n",
       "      <td>932.0</td>\n",
       "      <td>0.046494</td>\n",
       "      <td>0.007121</td>\n",
       "      <td>0.143694</td>\n",
       "      <td>0.144772</td>\n",
       "    </tr>\n",
       "  </tbody>\n",
       "</table>\n",
       "</div>"
      ],
      "text/plain": [
       "                 index       ret      roeq        bm    mom12m        mve  \\\n",
       "date    ticker                                                              \n",
       "2019-05 YELP    934302 -0.232901 -0.092168 -0.396406 -0.581662  15.005158   \n",
       "2019-06 YELP    937117  0.112268  0.442784 -0.395686  0.082686  14.680300   \n",
       "2019-07 YELP    939919  0.025453  0.441471 -0.400773 -0.179907  14.786702   \n",
       "2019-08 YELP    942694 -0.043937  0.447650 -0.402128  0.201198  14.811837   \n",
       "2019-09 YELP    945452  0.037004 -0.260449 -0.407563 -0.404116  14.682673   \n",
       "\n",
       "                size_rnk    target   predict        sd    lag_sd  \n",
       "date    ticker                                                    \n",
       "2019-05 YELP       823.0 -1.145476  0.008860  0.147527       NaN  \n",
       "2019-06 YELP       929.0  0.642551  0.052772  0.147019  0.147527  \n",
       "2019-07 YELP       918.0  0.356582  0.046187  0.145845  0.147019  \n",
       "2019-08 YELP       908.0  0.121159  0.054795  0.144772  0.145845  \n",
       "2019-09 YELP       932.0  0.046494  0.007121  0.143694  0.144772  "
      ]
     },
     "execution_count": 16,
     "metadata": {},
     "output_type": "execute_result"
    }
   ],
   "source": [
    "df['lag_sd'] = df.groupby(level=1).sd.shift(1)\n",
    "df.xs('YELP',level='ticker', drop_level=False).head()"
   ]
  },
  {
   "cell_type": "code",
   "execution_count": 17,
   "metadata": {},
   "outputs": [
    {
     "data": {
      "text/html": [
       "<div>\n",
       "<style scoped>\n",
       "    .dataframe tbody tr th:only-of-type {\n",
       "        vertical-align: middle;\n",
       "    }\n",
       "\n",
       "    .dataframe tbody tr th {\n",
       "        vertical-align: top;\n",
       "    }\n",
       "\n",
       "    .dataframe thead th {\n",
       "        text-align: right;\n",
       "    }\n",
       "</style>\n",
       "<table border=\"1\" class=\"dataframe\">\n",
       "  <thead>\n",
       "    <tr style=\"text-align: right;\">\n",
       "      <th></th>\n",
       "      <th></th>\n",
       "      <th>index</th>\n",
       "      <th>ret</th>\n",
       "      <th>roeq</th>\n",
       "      <th>bm</th>\n",
       "      <th>mom12m</th>\n",
       "      <th>mve</th>\n",
       "      <th>size_rnk</th>\n",
       "      <th>target</th>\n",
       "      <th>predict</th>\n",
       "      <th>sd</th>\n",
       "      <th>lag_sd</th>\n",
       "      <th>inverse_var</th>\n",
       "    </tr>\n",
       "    <tr>\n",
       "      <th>date</th>\n",
       "      <th>ticker</th>\n",
       "      <th></th>\n",
       "      <th></th>\n",
       "      <th></th>\n",
       "      <th></th>\n",
       "      <th></th>\n",
       "      <th></th>\n",
       "      <th></th>\n",
       "      <th></th>\n",
       "      <th></th>\n",
       "      <th></th>\n",
       "      <th></th>\n",
       "      <th></th>\n",
       "    </tr>\n",
       "  </thead>\n",
       "  <tbody>\n",
       "    <tr>\n",
       "      <th>2019-05</th>\n",
       "      <th>YELP</th>\n",
       "      <td>934302</td>\n",
       "      <td>-0.232901</td>\n",
       "      <td>-0.092168</td>\n",
       "      <td>-0.396406</td>\n",
       "      <td>-0.581662</td>\n",
       "      <td>15.005158</td>\n",
       "      <td>823.0</td>\n",
       "      <td>-1.145476</td>\n",
       "      <td>0.008860</td>\n",
       "      <td>0.147527</td>\n",
       "      <td>NaN</td>\n",
       "      <td>NaN</td>\n",
       "    </tr>\n",
       "    <tr>\n",
       "      <th>2019-06</th>\n",
       "      <th>YELP</th>\n",
       "      <td>937117</td>\n",
       "      <td>0.112268</td>\n",
       "      <td>0.442784</td>\n",
       "      <td>-0.395686</td>\n",
       "      <td>0.082686</td>\n",
       "      <td>14.680300</td>\n",
       "      <td>929.0</td>\n",
       "      <td>0.642551</td>\n",
       "      <td>0.052772</td>\n",
       "      <td>0.147019</td>\n",
       "      <td>0.147527</td>\n",
       "      <td>45.946755</td>\n",
       "    </tr>\n",
       "    <tr>\n",
       "      <th>2019-07</th>\n",
       "      <th>YELP</th>\n",
       "      <td>939919</td>\n",
       "      <td>0.025453</td>\n",
       "      <td>0.441471</td>\n",
       "      <td>-0.400773</td>\n",
       "      <td>-0.179907</td>\n",
       "      <td>14.786702</td>\n",
       "      <td>918.0</td>\n",
       "      <td>0.356582</td>\n",
       "      <td>0.046187</td>\n",
       "      <td>0.145845</td>\n",
       "      <td>0.147019</td>\n",
       "      <td>46.264752</td>\n",
       "    </tr>\n",
       "    <tr>\n",
       "      <th>2019-08</th>\n",
       "      <th>YELP</th>\n",
       "      <td>942694</td>\n",
       "      <td>-0.043937</td>\n",
       "      <td>0.447650</td>\n",
       "      <td>-0.402128</td>\n",
       "      <td>0.201198</td>\n",
       "      <td>14.811837</td>\n",
       "      <td>908.0</td>\n",
       "      <td>0.121159</td>\n",
       "      <td>0.054795</td>\n",
       "      <td>0.144772</td>\n",
       "      <td>0.145845</td>\n",
       "      <td>47.012927</td>\n",
       "    </tr>\n",
       "    <tr>\n",
       "      <th>2019-09</th>\n",
       "      <th>YELP</th>\n",
       "      <td>945452</td>\n",
       "      <td>0.037004</td>\n",
       "      <td>-0.260449</td>\n",
       "      <td>-0.407563</td>\n",
       "      <td>-0.404116</td>\n",
       "      <td>14.682673</td>\n",
       "      <td>932.0</td>\n",
       "      <td>0.046494</td>\n",
       "      <td>0.007121</td>\n",
       "      <td>0.143694</td>\n",
       "      <td>0.144772</td>\n",
       "      <td>47.712104</td>\n",
       "    </tr>\n",
       "  </tbody>\n",
       "</table>\n",
       "</div>"
      ],
      "text/plain": [
       "                 index       ret      roeq        bm    mom12m        mve  \\\n",
       "date    ticker                                                              \n",
       "2019-05 YELP    934302 -0.232901 -0.092168 -0.396406 -0.581662  15.005158   \n",
       "2019-06 YELP    937117  0.112268  0.442784 -0.395686  0.082686  14.680300   \n",
       "2019-07 YELP    939919  0.025453  0.441471 -0.400773 -0.179907  14.786702   \n",
       "2019-08 YELP    942694 -0.043937  0.447650 -0.402128  0.201198  14.811837   \n",
       "2019-09 YELP    945452  0.037004 -0.260449 -0.407563 -0.404116  14.682673   \n",
       "\n",
       "                size_rnk    target   predict        sd    lag_sd  inverse_var  \n",
       "date    ticker                                                                 \n",
       "2019-05 YELP       823.0 -1.145476  0.008860  0.147527       NaN          NaN  \n",
       "2019-06 YELP       929.0  0.642551  0.052772  0.147019  0.147527    45.946755  \n",
       "2019-07 YELP       918.0  0.356582  0.046187  0.145845  0.147019    46.264752  \n",
       "2019-08 YELP       908.0  0.121159  0.054795  0.144772  0.145845    47.012927  \n",
       "2019-09 YELP       932.0  0.046494  0.007121  0.143694  0.144772    47.712104  "
      ]
     },
     "execution_count": 17,
     "metadata": {},
     "output_type": "execute_result"
    }
   ],
   "source": [
    "df['inverse_var'] = 1/(df.lag_sd**2)\n",
    "df.xs('YELP',level='ticker', drop_level=False).head()"
   ]
  },
  {
   "cell_type": "markdown",
   "metadata": {},
   "source": [
    "#### Compute returns of portfolios of best and worst stocks"
   ]
  },
  {
   "cell_type": "code",
   "execution_count": 18,
   "metadata": {},
   "outputs": [
    {
     "name": "stderr",
     "output_type": "stream",
     "text": [
      "C:\\Users\\kpc2\\AppData\\Local\\Temp\\ipykernel_14008\\1219390199.py:5: SettingWithCopyWarning: \n",
      "A value is trying to be set on a copy of a slice from a DataFrame.\n",
      "Try using .loc[row_indexer,col_indexer] = value instead\n",
      "\n",
      "See the caveats in the documentation: https://pandas.pydata.org/pandas-docs/stable/user_guide/indexing.html#returning-a-view-versus-a-copy\n",
      "  df[\"rnk\"] = df.groupby(\"date\").predict.rank(method=\"first\", ascending=False)\n",
      "C:\\Users\\kpc2\\AppData\\Local\\Temp\\ipykernel_14008\\1219390199.py:8: SettingWithCopyWarning: \n",
      "A value is trying to be set on a copy of a slice from a DataFrame.\n",
      "Try using .loc[row_indexer,col_indexer] = value instead\n",
      "\n",
      "See the caveats in the documentation: https://pandas.pydata.org/pandas-docs/stable/user_guide/indexing.html#returning-a-view-versus-a-copy\n",
      "  df[\"rnk\"] = df.groupby(\"date\").predict.rank(method=\"first\")\n"
     ]
    }
   ],
   "source": [
    "df = df.dropna(subset=[\"predict\"])\n",
    "\n",
    "numstocks = 100\n",
    "\n",
    "df[\"rnk\"] = df.groupby(\"date\").predict.rank(method=\"first\", ascending=False)\n",
    "best = df[df.rnk<=numstocks]\n",
    "\n",
    "df[\"rnk\"] = df.groupby(\"date\").predict.rank(method=\"first\")\n",
    "worst = df[df.rnk<=numstocks]"
   ]
  },
  {
   "cell_type": "code",
   "execution_count": 19,
   "metadata": {},
   "outputs": [
    {
     "data": {
      "text/html": [
       "<div>\n",
       "<style scoped>\n",
       "    .dataframe tbody tr th:only-of-type {\n",
       "        vertical-align: middle;\n",
       "    }\n",
       "\n",
       "    .dataframe tbody tr th {\n",
       "        vertical-align: top;\n",
       "    }\n",
       "\n",
       "    .dataframe thead th {\n",
       "        text-align: right;\n",
       "    }\n",
       "</style>\n",
       "<table border=\"1\" class=\"dataframe\">\n",
       "  <thead>\n",
       "    <tr style=\"text-align: right;\">\n",
       "      <th></th>\n",
       "      <th></th>\n",
       "      <th>index</th>\n",
       "      <th>ret</th>\n",
       "      <th>roeq</th>\n",
       "      <th>bm</th>\n",
       "      <th>mom12m</th>\n",
       "      <th>mve</th>\n",
       "      <th>size_rnk</th>\n",
       "      <th>target</th>\n",
       "      <th>predict</th>\n",
       "      <th>sd</th>\n",
       "      <th>lag_sd</th>\n",
       "      <th>inverse_var</th>\n",
       "      <th>rnk</th>\n",
       "    </tr>\n",
       "    <tr>\n",
       "      <th>date</th>\n",
       "      <th>ticker</th>\n",
       "      <th></th>\n",
       "      <th></th>\n",
       "      <th></th>\n",
       "      <th></th>\n",
       "      <th></th>\n",
       "      <th></th>\n",
       "      <th></th>\n",
       "      <th></th>\n",
       "      <th></th>\n",
       "      <th></th>\n",
       "      <th></th>\n",
       "      <th></th>\n",
       "      <th></th>\n",
       "    </tr>\n",
       "  </thead>\n",
       "  <tbody>\n",
       "    <tr>\n",
       "      <th rowspan=\"5\" valign=\"top\">2005-01</th>\n",
       "      <th>AAII</th>\n",
       "      <td>303641</td>\n",
       "      <td>-0.178462</td>\n",
       "      <td>2.118992</td>\n",
       "      <td>-1.437618</td>\n",
       "      <td>-3.087117</td>\n",
       "      <td>11.439327</td>\n",
       "      <td>3186.0</td>\n",
       "      <td>-1.292443</td>\n",
       "      <td>-0.176312</td>\n",
       "      <td>0.244647</td>\n",
       "      <td>0.245369</td>\n",
       "      <td>16.609714</td>\n",
       "      <td>83.0</td>\n",
       "    </tr>\n",
       "    <tr>\n",
       "      <th>ABFI</th>\n",
       "      <td>303653</td>\n",
       "      <td>-0.466667</td>\n",
       "      <td>-2.880181</td>\n",
       "      <td>0.766901</td>\n",
       "      <td>-0.567059</td>\n",
       "      <td>8.370455</td>\n",
       "      <td>4236.0</td>\n",
       "      <td>-2.840673</td>\n",
       "      <td>-0.273414</td>\n",
       "      <td>0.249967</td>\n",
       "      <td>0.244860</td>\n",
       "      <td>16.678775</td>\n",
       "      <td>12.0</td>\n",
       "    </tr>\n",
       "    <tr>\n",
       "      <th>ACEC</th>\n",
       "      <td>303678</td>\n",
       "      <td>0.291667</td>\n",
       "      <td>-1.874422</td>\n",
       "      <td>-1.156635</td>\n",
       "      <td>-0.574120</td>\n",
       "      <td>10.407385</td>\n",
       "      <td>3818.0</td>\n",
       "      <td>2.191251</td>\n",
       "      <td>-0.169931</td>\n",
       "      <td>0.347926</td>\n",
       "      <td>0.349213</td>\n",
       "      <td>8.200097</td>\n",
       "      <td>91.0</td>\n",
       "    </tr>\n",
       "    <tr>\n",
       "      <th>ACR</th>\n",
       "      <td>303687</td>\n",
       "      <td>0.064461</td>\n",
       "      <td>-2.059313</td>\n",
       "      <td>-1.859203</td>\n",
       "      <td>2.011144</td>\n",
       "      <td>12.608771</td>\n",
       "      <td>2237.0</td>\n",
       "      <td>1.112948</td>\n",
       "      <td>-0.267857</td>\n",
       "      <td>0.213641</td>\n",
       "      <td>0.215392</td>\n",
       "      <td>21.554619</td>\n",
       "      <td>16.0</td>\n",
       "    </tr>\n",
       "    <tr>\n",
       "      <th>AICX</th>\n",
       "      <td>303773</td>\n",
       "      <td>0.090909</td>\n",
       "      <td>-2.127976</td>\n",
       "      <td>-1.084324</td>\n",
       "      <td>-2.235167</td>\n",
       "      <td>9.441300</td>\n",
       "      <td>4132.0</td>\n",
       "      <td>1.321948</td>\n",
       "      <td>-0.276635</td>\n",
       "      <td>0.365792</td>\n",
       "      <td>0.368810</td>\n",
       "      <td>7.351819</td>\n",
       "      <td>11.0</td>\n",
       "    </tr>\n",
       "  </tbody>\n",
       "</table>\n",
       "</div>"
      ],
      "text/plain": [
       "                 index       ret      roeq        bm    mom12m        mve  \\\n",
       "date    ticker                                                              \n",
       "2005-01 AAII    303641 -0.178462  2.118992 -1.437618 -3.087117  11.439327   \n",
       "        ABFI    303653 -0.466667 -2.880181  0.766901 -0.567059   8.370455   \n",
       "        ACEC    303678  0.291667 -1.874422 -1.156635 -0.574120  10.407385   \n",
       "        ACR     303687  0.064461 -2.059313 -1.859203  2.011144  12.608771   \n",
       "        AICX    303773  0.090909 -2.127976 -1.084324 -2.235167   9.441300   \n",
       "\n",
       "                size_rnk    target   predict        sd    lag_sd  inverse_var  \\\n",
       "date    ticker                                                                  \n",
       "2005-01 AAII      3186.0 -1.292443 -0.176312  0.244647  0.245369    16.609714   \n",
       "        ABFI      4236.0 -2.840673 -0.273414  0.249967  0.244860    16.678775   \n",
       "        ACEC      3818.0  2.191251 -0.169931  0.347926  0.349213     8.200097   \n",
       "        ACR       2237.0  1.112948 -0.267857  0.213641  0.215392    21.554619   \n",
       "        AICX      4132.0  1.321948 -0.276635  0.365792  0.368810     7.351819   \n",
       "\n",
       "                 rnk  \n",
       "date    ticker        \n",
       "2005-01 AAII    83.0  \n",
       "        ABFI    12.0  \n",
       "        ACEC    91.0  \n",
       "        ACR     16.0  \n",
       "        AICX    11.0  "
      ]
     },
     "execution_count": 19,
     "metadata": {},
     "output_type": "execute_result"
    }
   ],
   "source": [
    "worst.head()"
   ]
  },
  {
   "attachments": {},
   "cell_type": "markdown",
   "metadata": {},
   "source": [
    "#### Equal-weighted returns"
   ]
  },
  {
   "cell_type": "code",
   "execution_count": 20,
   "metadata": {},
   "outputs": [
    {
     "data": {
      "text/html": [
       "<div>\n",
       "<style scoped>\n",
       "    .dataframe tbody tr th:only-of-type {\n",
       "        vertical-align: middle;\n",
       "    }\n",
       "\n",
       "    .dataframe tbody tr th {\n",
       "        vertical-align: top;\n",
       "    }\n",
       "\n",
       "    .dataframe thead th {\n",
       "        text-align: right;\n",
       "    }\n",
       "</style>\n",
       "<table border=\"1\" class=\"dataframe\">\n",
       "  <thead>\n",
       "    <tr style=\"text-align: right;\">\n",
       "      <th></th>\n",
       "      <th>best</th>\n",
       "      <th>worst</th>\n",
       "    </tr>\n",
       "    <tr>\n",
       "      <th>date</th>\n",
       "      <th></th>\n",
       "      <th></th>\n",
       "    </tr>\n",
       "  </thead>\n",
       "  <tbody>\n",
       "    <tr>\n",
       "      <th>2005-01</th>\n",
       "      <td>-0.005356</td>\n",
       "      <td>-0.081827</td>\n",
       "    </tr>\n",
       "    <tr>\n",
       "      <th>2005-02</th>\n",
       "      <td>0.041530</td>\n",
       "      <td>-0.074315</td>\n",
       "    </tr>\n",
       "    <tr>\n",
       "      <th>2005-03</th>\n",
       "      <td>-0.048466</td>\n",
       "      <td>-0.089032</td>\n",
       "    </tr>\n",
       "    <tr>\n",
       "      <th>2005-04</th>\n",
       "      <td>-0.061057</td>\n",
       "      <td>-0.105959</td>\n",
       "    </tr>\n",
       "    <tr>\n",
       "      <th>2005-05</th>\n",
       "      <td>0.051723</td>\n",
       "      <td>0.043296</td>\n",
       "    </tr>\n",
       "  </tbody>\n",
       "</table>\n",
       "</div>"
      ],
      "text/plain": [
       "             best     worst\n",
       "date                       \n",
       "2005-01 -0.005356 -0.081827\n",
       "2005-02  0.041530 -0.074315\n",
       "2005-03 -0.048466 -0.089032\n",
       "2005-04 -0.061057 -0.105959\n",
       "2005-05  0.051723  0.043296"
      ]
     },
     "execution_count": 20,
     "metadata": {},
     "output_type": "execute_result"
    }
   ],
   "source": [
    "best_rets  = best.groupby(\"date\").ret.mean()\n",
    "worst_rets = worst.groupby(\"date\").ret.mean()\n",
    "rets = pd.concat((best_rets, worst_rets), axis=1)\n",
    "rets.columns = [\"best\", \"worst\"]\n",
    "rets.head()\n",
    "# rets.to_csv(\"files/rets.csv\")\n"
   ]
  },
  {
   "attachments": {},
   "cell_type": "markdown",
   "metadata": {},
   "source": [
    "#### Risk-parity returns"
   ]
  },
  {
   "cell_type": "code",
   "execution_count": 21,
   "metadata": {},
   "outputs": [
    {
     "data": {
      "text/html": [
       "<div>\n",
       "<style scoped>\n",
       "    .dataframe tbody tr th:only-of-type {\n",
       "        vertical-align: middle;\n",
       "    }\n",
       "\n",
       "    .dataframe tbody tr th {\n",
       "        vertical-align: top;\n",
       "    }\n",
       "\n",
       "    .dataframe thead th {\n",
       "        text-align: right;\n",
       "    }\n",
       "</style>\n",
       "<table border=\"1\" class=\"dataframe\">\n",
       "  <thead>\n",
       "    <tr style=\"text-align: right;\">\n",
       "      <th></th>\n",
       "      <th></th>\n",
       "      <th>index</th>\n",
       "      <th>ret</th>\n",
       "      <th>roeq</th>\n",
       "      <th>bm</th>\n",
       "      <th>mom12m</th>\n",
       "      <th>mve</th>\n",
       "      <th>size_rnk</th>\n",
       "      <th>target</th>\n",
       "      <th>predict</th>\n",
       "      <th>sd</th>\n",
       "      <th>lag_sd</th>\n",
       "      <th>inverse_var</th>\n",
       "      <th>rnk</th>\n",
       "    </tr>\n",
       "    <tr>\n",
       "      <th>date</th>\n",
       "      <th>ticker</th>\n",
       "      <th></th>\n",
       "      <th></th>\n",
       "      <th></th>\n",
       "      <th></th>\n",
       "      <th></th>\n",
       "      <th></th>\n",
       "      <th></th>\n",
       "      <th></th>\n",
       "      <th></th>\n",
       "      <th></th>\n",
       "      <th></th>\n",
       "      <th></th>\n",
       "      <th></th>\n",
       "    </tr>\n",
       "  </thead>\n",
       "  <tbody>\n",
       "    <tr>\n",
       "      <th rowspan=\"5\" valign=\"top\">2005-01</th>\n",
       "      <th>ABL</th>\n",
       "      <td>303659</td>\n",
       "      <td>0.052632</td>\n",
       "      <td>1.182907</td>\n",
       "      <td>1.628030</td>\n",
       "      <td>1.130569</td>\n",
       "      <td>10.577421</td>\n",
       "      <td>3731.0</td>\n",
       "      <td>1.008471</td>\n",
       "      <td>0.170241</td>\n",
       "      <td>0.096840</td>\n",
       "      <td>0.097448</td>\n",
       "      <td>105.306743</td>\n",
       "      <td>6.0</td>\n",
       "    </tr>\n",
       "    <tr>\n",
       "      <th>ACAS</th>\n",
       "      <td>303672</td>\n",
       "      <td>0.019490</td>\n",
       "      <td>1.338645</td>\n",
       "      <td>0.419595</td>\n",
       "      <td>0.286749</td>\n",
       "      <td>14.900129</td>\n",
       "      <td>626.0</td>\n",
       "      <td>0.695581</td>\n",
       "      <td>0.116341</td>\n",
       "      <td>0.079592</td>\n",
       "      <td>0.080264</td>\n",
       "      <td>155.225159</td>\n",
       "      <td>93.0</td>\n",
       "    </tr>\n",
       "    <tr>\n",
       "      <th>AGII</th>\n",
       "      <td>303755</td>\n",
       "      <td>0.013725</td>\n",
       "      <td>0.389729</td>\n",
       "      <td>1.641080</td>\n",
       "      <td>0.577761</td>\n",
       "      <td>13.280026</td>\n",
       "      <td>1721.0</td>\n",
       "      <td>0.631787</td>\n",
       "      <td>0.127166</td>\n",
       "      <td>0.104596</td>\n",
       "      <td>0.105478</td>\n",
       "      <td>89.882681</td>\n",
       "      <td>63.0</td>\n",
       "    </tr>\n",
       "    <tr>\n",
       "      <th>ALDA</th>\n",
       "      <td>303799</td>\n",
       "      <td>-0.072787</td>\n",
       "      <td>1.483048</td>\n",
       "      <td>1.812573</td>\n",
       "      <td>2.518106</td>\n",
       "      <td>11.266855</td>\n",
       "      <td>3301.0</td>\n",
       "      <td>-0.478855</td>\n",
       "      <td>0.150051</td>\n",
       "      <td>0.193612</td>\n",
       "      <td>0.194712</td>\n",
       "      <td>26.376371</td>\n",
       "      <td>25.0</td>\n",
       "    </tr>\n",
       "    <tr>\n",
       "      <th>ALG</th>\n",
       "      <td>303804</td>\n",
       "      <td>-0.033137</td>\n",
       "      <td>0.426933</td>\n",
       "      <td>1.259061</td>\n",
       "      <td>0.823644</td>\n",
       "      <td>12.485536</td>\n",
       "      <td>2336.0</td>\n",
       "      <td>-0.015578</td>\n",
       "      <td>0.116249</td>\n",
       "      <td>0.069438</td>\n",
       "      <td>0.069686</td>\n",
       "      <td>205.926709</td>\n",
       "      <td>94.0</td>\n",
       "    </tr>\n",
       "    <tr>\n",
       "      <th>...</th>\n",
       "      <th>...</th>\n",
       "      <td>...</td>\n",
       "      <td>...</td>\n",
       "      <td>...</td>\n",
       "      <td>...</td>\n",
       "      <td>...</td>\n",
       "      <td>...</td>\n",
       "      <td>...</td>\n",
       "      <td>...</td>\n",
       "      <td>...</td>\n",
       "      <td>...</td>\n",
       "      <td>...</td>\n",
       "      <td>...</td>\n",
       "      <td>...</td>\n",
       "    </tr>\n",
       "    <tr>\n",
       "      <th rowspan=\"5\" valign=\"top\">2022-03</th>\n",
       "      <th>VIA</th>\n",
       "      <td>1021967</td>\n",
       "      <td>-0.260987</td>\n",
       "      <td>1.335621</td>\n",
       "      <td>-0.000832</td>\n",
       "      <td>0.692222</td>\n",
       "      <td>12.069410</td>\n",
       "      <td>1858.0</td>\n",
       "      <td>-2.049083</td>\n",
       "      <td>0.087820</td>\n",
       "      <td>0.093421</td>\n",
       "      <td>0.090719</td>\n",
       "      <td>121.508051</td>\n",
       "      <td>100.0</td>\n",
       "    </tr>\n",
       "    <tr>\n",
       "      <th>VIRC</th>\n",
       "      <td>1021970</td>\n",
       "      <td>-0.006645</td>\n",
       "      <td>1.091610</td>\n",
       "      <td>1.286850</td>\n",
       "      <td>-0.051664</td>\n",
       "      <td>10.788639</td>\n",
       "      <td>2191.0</td>\n",
       "      <td>-0.024321</td>\n",
       "      <td>0.103784</td>\n",
       "      <td>0.128988</td>\n",
       "      <td>0.129351</td>\n",
       "      <td>59.767118</td>\n",
       "      <td>18.0</td>\n",
       "    </tr>\n",
       "    <tr>\n",
       "      <th>WSBF</th>\n",
       "      <td>1022056</td>\n",
       "      <td>-0.010235</td>\n",
       "      <td>0.660527</td>\n",
       "      <td>0.661027</td>\n",
       "      <td>0.535450</td>\n",
       "      <td>13.067852</td>\n",
       "      <td>1602.0</td>\n",
       "      <td>-0.063724</td>\n",
       "      <td>0.090299</td>\n",
       "      <td>0.130029</td>\n",
       "      <td>0.130415</td>\n",
       "      <td>58.795838</td>\n",
       "      <td>75.0</td>\n",
       "    </tr>\n",
       "    <tr>\n",
       "      <th>X</th>\n",
       "      <td>1022079</td>\n",
       "      <td>0.386990</td>\n",
       "      <td>1.981783</td>\n",
       "      <td>0.925956</td>\n",
       "      <td>0.871628</td>\n",
       "      <td>15.775596</td>\n",
       "      <td>586.0</td>\n",
       "      <td>1.985105</td>\n",
       "      <td>0.109824</td>\n",
       "      <td>0.177038</td>\n",
       "      <td>0.175901</td>\n",
       "      <td>32.319572</td>\n",
       "      <td>12.0</td>\n",
       "    </tr>\n",
       "    <tr>\n",
       "      <th>ZEUS</th>\n",
       "      <td>1022106</td>\n",
       "      <td>0.436683</td>\n",
       "      <td>1.467827</td>\n",
       "      <td>1.924874</td>\n",
       "      <td>0.666564</td>\n",
       "      <td>12.604142</td>\n",
       "      <td>1728.0</td>\n",
       "      <td>2.168410</td>\n",
       "      <td>0.130236</td>\n",
       "      <td>0.178060</td>\n",
       "      <td>0.176567</td>\n",
       "      <td>32.076151</td>\n",
       "      <td>3.0</td>\n",
       "    </tr>\n",
       "  </tbody>\n",
       "</table>\n",
       "<p>20700 rows × 13 columns</p>\n",
       "</div>"
      ],
      "text/plain": [
       "                  index       ret      roeq        bm    mom12m        mve  \\\n",
       "date    ticker                                                               \n",
       "2005-01 ABL      303659  0.052632  1.182907  1.628030  1.130569  10.577421   \n",
       "        ACAS     303672  0.019490  1.338645  0.419595  0.286749  14.900129   \n",
       "        AGII     303755  0.013725  0.389729  1.641080  0.577761  13.280026   \n",
       "        ALDA     303799 -0.072787  1.483048  1.812573  2.518106  11.266855   \n",
       "        ALG      303804 -0.033137  0.426933  1.259061  0.823644  12.485536   \n",
       "...                 ...       ...       ...       ...       ...        ...   \n",
       "2022-03 VIA     1021967 -0.260987  1.335621 -0.000832  0.692222  12.069410   \n",
       "        VIRC    1021970 -0.006645  1.091610  1.286850 -0.051664  10.788639   \n",
       "        WSBF    1022056 -0.010235  0.660527  0.661027  0.535450  13.067852   \n",
       "        X       1022079  0.386990  1.981783  0.925956  0.871628  15.775596   \n",
       "        ZEUS    1022106  0.436683  1.467827  1.924874  0.666564  12.604142   \n",
       "\n",
       "                size_rnk    target   predict        sd    lag_sd  inverse_var  \\\n",
       "date    ticker                                                                  \n",
       "2005-01 ABL       3731.0  1.008471  0.170241  0.096840  0.097448   105.306743   \n",
       "        ACAS       626.0  0.695581  0.116341  0.079592  0.080264   155.225159   \n",
       "        AGII      1721.0  0.631787  0.127166  0.104596  0.105478    89.882681   \n",
       "        ALDA      3301.0 -0.478855  0.150051  0.193612  0.194712    26.376371   \n",
       "        ALG       2336.0 -0.015578  0.116249  0.069438  0.069686   205.926709   \n",
       "...                  ...       ...       ...       ...       ...          ...   \n",
       "2022-03 VIA       1858.0 -2.049083  0.087820  0.093421  0.090719   121.508051   \n",
       "        VIRC      2191.0 -0.024321  0.103784  0.128988  0.129351    59.767118   \n",
       "        WSBF      1602.0 -0.063724  0.090299  0.130029  0.130415    58.795838   \n",
       "        X          586.0  1.985105  0.109824  0.177038  0.175901    32.319572   \n",
       "        ZEUS      1728.0  2.168410  0.130236  0.178060  0.176567    32.076151   \n",
       "\n",
       "                  rnk  \n",
       "date    ticker         \n",
       "2005-01 ABL       6.0  \n",
       "        ACAS     93.0  \n",
       "        AGII     63.0  \n",
       "        ALDA     25.0  \n",
       "        ALG      94.0  \n",
       "...               ...  \n",
       "2022-03 VIA     100.0  \n",
       "        VIRC     18.0  \n",
       "        WSBF     75.0  \n",
       "        X        12.0  \n",
       "        ZEUS      3.0  \n",
       "\n",
       "[20700 rows x 13 columns]"
      ]
     },
     "execution_count": 21,
     "metadata": {},
     "output_type": "execute_result"
    }
   ],
   "source": [
    "best"
   ]
  },
  {
   "cell_type": "code",
   "execution_count": 22,
   "metadata": {},
   "outputs": [
    {
     "data": {
      "text/plain": [
       "date\n",
       "2005-01    5611.806555\n",
       "2005-02    6029.050128\n",
       "2005-03    5454.688393\n",
       "2005-04    5507.294438\n",
       "2005-05    5981.954414\n",
       "              ...     \n",
       "2021-11    9222.628044\n",
       "2021-12    7705.782159\n",
       "2022-01    7348.069793\n",
       "2022-02    8236.535117\n",
       "2022-03    7600.272952\n",
       "Name: sum_inverse_var, Length: 207, dtype: float64"
      ]
     },
     "execution_count": 22,
     "metadata": {},
     "output_type": "execute_result"
    }
   ],
   "source": [
    "sum_inverse_var = best.groupby('date').inverse_var.sum()\n",
    "sum_inverse_var.name = 'sum_inverse_var'\n",
    "sum_inverse_var"
   ]
  },
  {
   "cell_type": "code",
   "execution_count": 23,
   "metadata": {},
   "outputs": [
    {
     "data": {
      "text/html": [
       "<div>\n",
       "<style scoped>\n",
       "    .dataframe tbody tr th:only-of-type {\n",
       "        vertical-align: middle;\n",
       "    }\n",
       "\n",
       "    .dataframe tbody tr th {\n",
       "        vertical-align: top;\n",
       "    }\n",
       "\n",
       "    .dataframe thead th {\n",
       "        text-align: right;\n",
       "    }\n",
       "</style>\n",
       "<table border=\"1\" class=\"dataframe\">\n",
       "  <thead>\n",
       "    <tr style=\"text-align: right;\">\n",
       "      <th></th>\n",
       "      <th>date</th>\n",
       "      <th>ticker</th>\n",
       "      <th>index</th>\n",
       "      <th>ret</th>\n",
       "      <th>roeq</th>\n",
       "      <th>bm</th>\n",
       "      <th>mom12m</th>\n",
       "      <th>mve</th>\n",
       "      <th>size_rnk</th>\n",
       "      <th>target</th>\n",
       "      <th>predict</th>\n",
       "      <th>sd</th>\n",
       "      <th>lag_sd</th>\n",
       "      <th>inverse_var</th>\n",
       "      <th>rnk</th>\n",
       "      <th>sum_inverse_var</th>\n",
       "    </tr>\n",
       "  </thead>\n",
       "  <tbody>\n",
       "    <tr>\n",
       "      <th>0</th>\n",
       "      <td>2005-01</td>\n",
       "      <td>ABL</td>\n",
       "      <td>303659</td>\n",
       "      <td>0.052632</td>\n",
       "      <td>1.182907</td>\n",
       "      <td>1.628030</td>\n",
       "      <td>1.130569</td>\n",
       "      <td>10.577421</td>\n",
       "      <td>3731.0</td>\n",
       "      <td>1.008471</td>\n",
       "      <td>0.170241</td>\n",
       "      <td>0.096840</td>\n",
       "      <td>0.097448</td>\n",
       "      <td>105.306743</td>\n",
       "      <td>6.0</td>\n",
       "      <td>5611.806555</td>\n",
       "    </tr>\n",
       "    <tr>\n",
       "      <th>1</th>\n",
       "      <td>2005-01</td>\n",
       "      <td>ACAS</td>\n",
       "      <td>303672</td>\n",
       "      <td>0.019490</td>\n",
       "      <td>1.338645</td>\n",
       "      <td>0.419595</td>\n",
       "      <td>0.286749</td>\n",
       "      <td>14.900129</td>\n",
       "      <td>626.0</td>\n",
       "      <td>0.695581</td>\n",
       "      <td>0.116341</td>\n",
       "      <td>0.079592</td>\n",
       "      <td>0.080264</td>\n",
       "      <td>155.225159</td>\n",
       "      <td>93.0</td>\n",
       "      <td>5611.806555</td>\n",
       "    </tr>\n",
       "    <tr>\n",
       "      <th>2</th>\n",
       "      <td>2005-01</td>\n",
       "      <td>AGII</td>\n",
       "      <td>303755</td>\n",
       "      <td>0.013725</td>\n",
       "      <td>0.389729</td>\n",
       "      <td>1.641080</td>\n",
       "      <td>0.577761</td>\n",
       "      <td>13.280026</td>\n",
       "      <td>1721.0</td>\n",
       "      <td>0.631787</td>\n",
       "      <td>0.127166</td>\n",
       "      <td>0.104596</td>\n",
       "      <td>0.105478</td>\n",
       "      <td>89.882681</td>\n",
       "      <td>63.0</td>\n",
       "      <td>5611.806555</td>\n",
       "    </tr>\n",
       "    <tr>\n",
       "      <th>3</th>\n",
       "      <td>2005-01</td>\n",
       "      <td>ALDA</td>\n",
       "      <td>303799</td>\n",
       "      <td>-0.072787</td>\n",
       "      <td>1.483048</td>\n",
       "      <td>1.812573</td>\n",
       "      <td>2.518106</td>\n",
       "      <td>11.266855</td>\n",
       "      <td>3301.0</td>\n",
       "      <td>-0.478855</td>\n",
       "      <td>0.150051</td>\n",
       "      <td>0.193612</td>\n",
       "      <td>0.194712</td>\n",
       "      <td>26.376371</td>\n",
       "      <td>25.0</td>\n",
       "      <td>5611.806555</td>\n",
       "    </tr>\n",
       "    <tr>\n",
       "      <th>4</th>\n",
       "      <td>2005-01</td>\n",
       "      <td>ALG</td>\n",
       "      <td>303804</td>\n",
       "      <td>-0.033137</td>\n",
       "      <td>0.426933</td>\n",
       "      <td>1.259061</td>\n",
       "      <td>0.823644</td>\n",
       "      <td>12.485536</td>\n",
       "      <td>2336.0</td>\n",
       "      <td>-0.015578</td>\n",
       "      <td>0.116249</td>\n",
       "      <td>0.069438</td>\n",
       "      <td>0.069686</td>\n",
       "      <td>205.926709</td>\n",
       "      <td>94.0</td>\n",
       "      <td>5611.806555</td>\n",
       "    </tr>\n",
       "  </tbody>\n",
       "</table>\n",
       "</div>"
      ],
      "text/plain": [
       "      date ticker   index       ret      roeq        bm    mom12m        mve  \\\n",
       "0  2005-01    ABL  303659  0.052632  1.182907  1.628030  1.130569  10.577421   \n",
       "1  2005-01   ACAS  303672  0.019490  1.338645  0.419595  0.286749  14.900129   \n",
       "2  2005-01   AGII  303755  0.013725  0.389729  1.641080  0.577761  13.280026   \n",
       "3  2005-01   ALDA  303799 -0.072787  1.483048  1.812573  2.518106  11.266855   \n",
       "4  2005-01    ALG  303804 -0.033137  0.426933  1.259061  0.823644  12.485536   \n",
       "\n",
       "   size_rnk    target   predict        sd    lag_sd  inverse_var   rnk  \\\n",
       "0    3731.0  1.008471  0.170241  0.096840  0.097448   105.306743   6.0   \n",
       "1     626.0  0.695581  0.116341  0.079592  0.080264   155.225159  93.0   \n",
       "2    1721.0  0.631787  0.127166  0.104596  0.105478    89.882681  63.0   \n",
       "3    3301.0 -0.478855  0.150051  0.193612  0.194712    26.376371  25.0   \n",
       "4    2336.0 -0.015578  0.116249  0.069438  0.069686   205.926709  94.0   \n",
       "\n",
       "   sum_inverse_var  \n",
       "0      5611.806555  \n",
       "1      5611.806555  \n",
       "2      5611.806555  \n",
       "3      5611.806555  \n",
       "4      5611.806555  "
      ]
     },
     "execution_count": 23,
     "metadata": {},
     "output_type": "execute_result"
    }
   ],
   "source": [
    "best = best.reset_index().merge(sum_inverse_var,left_on='date',right_on='date')\n",
    "best.head()"
   ]
  },
  {
   "cell_type": "code",
   "execution_count": 24,
   "metadata": {},
   "outputs": [
    {
     "data": {
      "text/plain": [
       "date\n",
       "2005-01    0.009367\n",
       "2005-02    0.045342\n",
       "2005-03   -0.043387\n",
       "2005-04   -0.044839\n",
       "2005-05    0.053237\n",
       "Name: wgt_x_ret, dtype: float64"
      ]
     },
     "execution_count": 24,
     "metadata": {},
     "output_type": "execute_result"
    }
   ],
   "source": [
    "best['wgt'] = best.inverse_var/best.sum_inverse_var\n",
    "best['wgt_x_ret'] = best.wgt * best.ret\n",
    "best_rets = best.groupby(\"date\").wgt_x_ret.sum()\n",
    "best_rets.head()"
   ]
  },
  {
   "attachments": {},
   "cell_type": "markdown",
   "metadata": {},
   "source": [
    "Alternative with more concise coding"
   ]
  },
  {
   "cell_type": "code",
   "execution_count": 25,
   "metadata": {},
   "outputs": [
    {
     "data": {
      "text/plain": [
       "date\n",
       "2005-01    0.009367\n",
       "2005-02    0.045342\n",
       "2005-03   -0.043387\n",
       "2005-04   -0.044839\n",
       "2005-05    0.053237\n",
       "dtype: float64"
      ]
     },
     "execution_count": 25,
     "metadata": {},
     "output_type": "execute_result"
    }
   ],
   "source": [
    "best_rets2 = best.groupby(\"date\").apply(lambda d: (d.ret*d.inverse_var).sum()/d.inverse_var.sum())\n",
    "best_rets2.head()"
   ]
  },
  {
   "attachments": {},
   "cell_type": "markdown",
   "metadata": {},
   "source": [
    "Same for worst"
   ]
  },
  {
   "cell_type": "code",
   "execution_count": 26,
   "metadata": {},
   "outputs": [],
   "source": [
    "sum_inverse_var = worst.groupby('date').inverse_var.sum()\n",
    "sum_inverse_var.name = 'sum_inverse_var'\n",
    "worst = worst.reset_index().merge(sum_inverse_var,left_on='date',right_on='date')\n",
    "worst['wgt'] = worst.inverse_var/worst.sum_inverse_var\n",
    "worst['wgt_x_ret'] = worst.wgt * worst.ret\n",
    "worst_rets = worst.groupby(\"date\").wgt_x_ret.sum()"
   ]
  },
  {
   "cell_type": "code",
   "execution_count": 27,
   "metadata": {},
   "outputs": [
    {
     "data": {
      "text/html": [
       "<div>\n",
       "<style scoped>\n",
       "    .dataframe tbody tr th:only-of-type {\n",
       "        vertical-align: middle;\n",
       "    }\n",
       "\n",
       "    .dataframe tbody tr th {\n",
       "        vertical-align: top;\n",
       "    }\n",
       "\n",
       "    .dataframe thead th {\n",
       "        text-align: right;\n",
       "    }\n",
       "</style>\n",
       "<table border=\"1\" class=\"dataframe\">\n",
       "  <thead>\n",
       "    <tr style=\"text-align: right;\">\n",
       "      <th></th>\n",
       "      <th>best</th>\n",
       "      <th>worst</th>\n",
       "    </tr>\n",
       "    <tr>\n",
       "      <th>date</th>\n",
       "      <th></th>\n",
       "      <th></th>\n",
       "    </tr>\n",
       "  </thead>\n",
       "  <tbody>\n",
       "    <tr>\n",
       "      <th>2005-01</th>\n",
       "      <td>0.009367</td>\n",
       "      <td>-0.069581</td>\n",
       "    </tr>\n",
       "    <tr>\n",
       "      <th>2005-02</th>\n",
       "      <td>0.045342</td>\n",
       "      <td>-0.051452</td>\n",
       "    </tr>\n",
       "    <tr>\n",
       "      <th>2005-03</th>\n",
       "      <td>-0.043387</td>\n",
       "      <td>-0.062486</td>\n",
       "    </tr>\n",
       "    <tr>\n",
       "      <th>2005-04</th>\n",
       "      <td>-0.044839</td>\n",
       "      <td>-0.071012</td>\n",
       "    </tr>\n",
       "    <tr>\n",
       "      <th>2005-05</th>\n",
       "      <td>0.053237</td>\n",
       "      <td>0.039750</td>\n",
       "    </tr>\n",
       "  </tbody>\n",
       "</table>\n",
       "</div>"
      ],
      "text/plain": [
       "             best     worst\n",
       "date                       \n",
       "2005-01  0.009367 -0.069581\n",
       "2005-02  0.045342 -0.051452\n",
       "2005-03 -0.043387 -0.062486\n",
       "2005-04 -0.044839 -0.071012\n",
       "2005-05  0.053237  0.039750"
      ]
     },
     "execution_count": 27,
     "metadata": {},
     "output_type": "execute_result"
    }
   ],
   "source": [
    "rets_risk_parity = pd.concat((best_rets, worst_rets), axis=1)\n",
    "rets_risk_parity.columns = [\"best\", \"worst\"]\n",
    "rets_risk_parity.head()"
   ]
  },
  {
   "attachments": {},
   "cell_type": "markdown",
   "metadata": {},
   "source": [
    "## GMV (covariances based on market model)"
   ]
  },
  {
   "cell_type": "code",
   "execution_count": 30,
   "metadata": {},
   "outputs": [],
   "source": [
    "# Pull MKTRF and RF\n",
    "ff3 = pdr('F-F_Research_Data_Factors','famafrench', start=1900)[0]/100\n",
    "est_mkt_std = ff3['Mkt-RF'].expanding(60).std()\n",
    "\n",
    "x = raw_data.set_index(pd.to_datetime(raw_data.date, infer_datetime_format=True).dt.to_period('M'))\n",
    "merged = pd.merge(x, ff3, how='left',left_index=True,right_index=True)\n",
    "merged['xret'] = merged.ret - merged['RF']\n",
    "cols = merged.columns\n",
    "merged = merged.reset_index()\n",
    "merged.columns = ['mdate'] +cols.to_list()\n",
    "merged = merged.set_index(['mdate','ticker'])\n"
   ]
  },
  {
   "cell_type": "code",
   "execution_count": 31,
   "metadata": {},
   "outputs": [],
   "source": [
    "# Auxiliary functions\n",
    "def estimate_betas(d,tickers,mdate):\n",
    "    df_beta = pd.DataFrame(index=tickers, columns=['alpha','beta'],dtype=float)\n",
    "    for ticker in tickers:\n",
    "        subset = d.xs(ticker,level=1).loc[:mdate].iloc[:-1]\n",
    "        y =subset.xret\n",
    "        X = sm.add_constant(subset['Mkt-RF'])\n",
    "        mm = sm.OLS(y, X, missing='drop').fit()\n",
    "        df_beta.loc[ticker] = mm.params.values\n",
    "    return df_beta['beta'].values\n",
    "\n",
    "def is_pos_def(x):\n",
    "    if np.all(np.linalg.eigvals(x) > 0):\n",
    "        return 'True'\n",
    "    else:\n",
    "        return 'False'\n",
    "    \n",
    "def ls_constrained_gmv(n, cov, max_wgt):\n",
    "    '''\n",
    "    n: assets on each side of portfolio (n longs and n shorts; longs on top)\n",
    "    '''\n",
    "    Q = matrix(cov, tc=\"d\")\n",
    "    p = matrix(np.zeros(2*n), (2*n, 1), tc=\"d\")\n",
    "    # Constraint: (1) long-only for first n (2) short-only for remaining n (3) max long position = 0.05 (4) min short position = -0.05\n",
    "    cons1 = np.hstack((-np.identity(n),np.zeros((n,n))))\n",
    "    cons2 = np.hstack((np.zeros((n,n)),np.identity(n)))\n",
    "    cons3 = -cons1\n",
    "    cons4 = -cons2\n",
    "    G = matrix(np.vstack((cons1,cons2,cons3,cons4)), tc=\"d\")\n",
    "    h = matrix(np.vstack((np.zeros(2*n),max_wgt*np.ones(2*n))).reshape(-1), (4*n, 1), tc=\"d\")        \n",
    "    # Constraint: (1) fully-invested portfolio (2) longs sum to 1.3 (3) shorts sum to -0.3\n",
    "    cons1 = np.ones(2*n)\n",
    "    cons2 = np.hstack((np.ones(n),np.zeros(n)))\n",
    "    A = matrix(np.vstack((cons1,cons2)), (2, 2*n), tc=\"d\")\n",
    "    b = matrix([1, 1.3], (2, 1), tc=\"d\")    \n",
    "    sol = Solver(Q, p, G, h, A, b)\n",
    "    wgts = np.array(sol[\"x\"]).flatten() if sol[\"status\"] == \"optimal\" else np.array(n * [np.nan])\n",
    "    return wgts   \n",
    "SolverOptions['show_progress'] = False "
   ]
  },
  {
   "cell_type": "code",
   "execution_count": null,
   "metadata": {},
   "outputs": [],
   "source": [
    "mdate_list = best.date.unique()\n",
    "mdate_list\n",
    "\n",
    "rets_gmv = pd.DataFrame(dtype=float,index=best_rets.index,columns = ['best','worst','ls'])\n",
    "\n",
    "for MDATE in mdate_list:\n",
    "    print(MDATE)\n",
    "\n",
    "    # Extract securities selected that month\n",
    "    b = best.set_index(['date','ticker']).xs(MDATE,level=0)\n",
    "    w = worst.set_index(['date','ticker']).xs(MDATE,level=0)\n",
    "    all= pd.concat([b,w])\n",
    "    ticker_list = all.index.to_list()\n",
    "\n",
    "    # Calculate expanding window betas for these tickers\n",
    "    mkt_std = est_mkt_std.loc[:MDATE][-1]  # Pull last month's estimated market std dev\n",
    "    betas = estimate_betas(merged,ticker_list,MDATE)\n",
    "    betas = 0.67*betas+0.33               # Shrink betas towards 1\n",
    "    sds_mkt_model = betas * mkt_std\n",
    "    # SDS = all.lag_sd.fillna(value=all.lag_sd.mean()).values\n",
    "    SDS = np.where(all.lag_sd.isnull(), 2*sds_mkt_model, all.lag_sd)\n",
    "    COV = np.diag(SDS) @ np.identity(200) @ np.diag(SDS)\n",
    "    for j, ticker in enumerate(ticker_list):\n",
    "        for k in range(j+1,200):\n",
    "            COV[j, k] = COV[k, j] = betas[j] * betas[k] * (mkt_std**2) \n",
    "\n",
    "    print(f'Positive definite?: {is_pos_def(COV)}')\n",
    "\n",
    "    # Calculate constrained GMV portfolio and portfolio returns\n",
    "    if is_pos_def(COV)=='True':\n",
    "        wgts_gmv_cons = ls_constrained_gmv(100,COV,0.03)\n",
    "    else:\n",
    "        # Revert to equal-weighting if covariance matrix is not positive definite\n",
    "        wgts_gmv_cons = np.hstack((1.3*np.ones(100)/100, -0.3*np.ones(100)/100))\n",
    "    rets_gmv.loc[MDATE,'ls'] = all.ret @ wgts_gmv_cons\n",
    "    rets_gmv.loc[MDATE,'best'] = all.ret[:100] @ wgts_gmv_cons[:100] / wgts_gmv_cons[:100].sum()\n",
    "    rets_gmv.loc[MDATE,'worst'] = all.ret[100:] @ wgts_gmv_cons[100:] / wgts_gmv_cons[100:].sum()"
   ]
  },
  {
   "cell_type": "code",
   "execution_count": 33,
   "metadata": {},
   "outputs": [
    {
     "name": "stdout",
     "output_type": "stream",
     "text": [
      "Equal-weighted\n",
      "Best: average return:\t  0.0134\n",
      "Best: SD(return):\t  0.0552\n",
      "Worst: average return:\t  0.0134\n",
      "Worst: SD(return):\t  0.1142\n",
      "\n",
      "Risk parity\n",
      "Best: average return:\t  0.0118\n",
      "Best: SD(return):\t  0.0453\n",
      "Worst: average return:\t  0.0144\n",
      "Worst: SD(return):\t  0.1117\n",
      "\n",
      "GMV\n",
      "Best: average return:\t  0.0110\n",
      "Best: SD(return):\t  0.0437\n",
      "Worst: average return:\t  0.0169\n",
      "Worst: SD(return):\t  0.1369\n"
     ]
    }
   ],
   "source": [
    "print(f'Equal-weighted')\n",
    "print(f'Best: average return:\\t {rets.best.mean(): .4f}')\n",
    "print(f'Best: SD(return):\\t {rets.best.std(): .4f}')\n",
    "print(f'Worst: average return:\\t {rets.worst.mean(): .4f}')\n",
    "print(f'Worst: SD(return):\\t {rets.worst.std(): .4f}')\n",
    "\n",
    "print(f'\\nRisk parity')\n",
    "print(f'Best: average return:\\t {rets_risk_parity.best.mean(): .4f}')\n",
    "print(f'Best: SD(return):\\t {rets_risk_parity.best.std(): .4f}')\n",
    "print(f'Worst: average return:\\t {rets_risk_parity.worst.mean(): .4f}')\n",
    "print(f'Worst: SD(return):\\t {rets_risk_parity.worst.std(): .4f}')\n",
    "\n",
    "print(f'\\nGMV')\n",
    "print(f'Best: average return:\\t {rets_gmv.best.mean(): .4f}')\n",
    "print(f'Best: SD(return):\\t {rets_gmv.best.std(): .4f}')\n",
    "print(f'Worst: average return:\\t {rets_gmv.worst.mean(): .4f}')\n",
    "print(f'Worst: SD(return):\\t {rets_gmv.worst.std(): .4f}')\n",
    "\n"
   ]
  },
  {
   "attachments": {},
   "cell_type": "markdown",
   "metadata": {},
   "source": [
    "# Performance evaluation"
   ]
  },
  {
   "cell_type": "code",
   "execution_count": 37,
   "metadata": {},
   "outputs": [],
   "source": [
    "rets.index = pd.to_datetime(rets.index).to_period(\"M\")\n",
    "rets[\"mkt\"] = ff3[\"Mkt-RF\"] + ff3[\"RF\"]\n",
    "rets[\"ls\"] = 1.3*rets[\"best\"] - 0.3*rets[\"worst\"]\n",
    "rets[\"rf\"] = ff3[\"RF\"]"
   ]
  },
  {
   "cell_type": "code",
   "execution_count": 38,
   "metadata": {},
   "outputs": [],
   "source": [
    "rets_risk_parity.index = pd.to_datetime(rets_risk_parity.index).to_period(\"M\")\n",
    "rets_risk_parity[\"mkt\"] = ff3[\"Mkt-RF\"] + ff3[\"RF\"]\n",
    "rets_risk_parity[\"ls\"] = 1.3*rets_risk_parity[\"best\"] - 0.3*rets_risk_parity[\"worst\"]\n",
    "rets_risk_parity[\"rf\"] = ff3[\"RF\"]"
   ]
  },
  {
   "cell_type": "code",
   "execution_count": 39,
   "metadata": {},
   "outputs": [],
   "source": [
    "rets_gmv.index = pd.to_datetime(rets_gmv.index).to_period(\"M\")\n",
    "rets_gmv[\"mkt\"] = ff3[\"Mkt-RF\"] + ff3[\"RF\"]\n",
    "rets_gmv[\"ls2\"] = 1.3*rets_gmv[\"best\"] - 0.3*rets_gmv[\"worst\"]\n",
    "rets_gmv[\"rf\"] = ff3[\"RF\"]"
   ]
  },
  {
   "attachments": {},
   "cell_type": "markdown",
   "metadata": {},
   "source": [
    "Accumulations"
   ]
  },
  {
   "cell_type": "code",
   "execution_count": 41,
   "metadata": {},
   "outputs": [
    {
     "data": {
      "text/plain": [
       "<AxesSubplot:xlabel='date'>"
      ]
     },
     "execution_count": 41,
     "metadata": {},
     "output_type": "execute_result"
    },
    {
     "data": {
      "image/png": "[encoded data removed]",
      "text/plain": [
       "<Figure size 432x288 with 1 Axes>"
      ]
     },
     "metadata": {
      "needs_background": "light"
     },
     "output_type": "display_data"
    }
   ],
   "source": [
    "(1+rets[[\"best\", \"worst\", \"mkt\", \"ls\"]]).cumprod().plot()"
   ]
  },
  {
   "cell_type": "code",
   "execution_count": 42,
   "metadata": {},
   "outputs": [
    {
     "data": {
      "text/plain": [
       "<AxesSubplot:xlabel='date'>"
      ]
     },
     "execution_count": 42,
     "metadata": {},
     "output_type": "execute_result"
    },
    {
     "data": {
      "image/png": "[encoded data removed]",
      "text/plain": [
       "<Figure size 432x288 with 1 Axes>"
      ]
     },
     "metadata": {
      "needs_background": "light"
     },
     "output_type": "display_data"
    }
   ],
   "source": [
    "(1+rets_risk_parity[[\"best\", \"worst\", \"mkt\", \"ls\"]]).cumprod().plot()"
   ]
  },
  {
   "cell_type": "code",
   "execution_count": 43,
   "metadata": {},
   "outputs": [
    {
     "data": {
      "text/plain": [
       "<AxesSubplot:xlabel='date'>"
      ]
     },
     "execution_count": 43,
     "metadata": {},
     "output_type": "execute_result"
    },
    {
     "data": {
      "image/png": "[encoded data removed]",
      "text/plain": [
       "<Figure size 432x288 with 1 Axes>"
      ]
     },
     "metadata": {
      "needs_background": "light"
     },
     "output_type": "display_data"
    }
   ],
   "source": [
    "(1+rets_gmv[[\"best\", \"worst\", \"mkt\", \"ls\"]]).cumprod().plot()"
   ]
  },
  {
   "attachments": {},
   "cell_type": "markdown",
   "metadata": {},
   "source": [
    "Excess returns and Sharpe ratios"
   ]
  },
  {
   "cell_type": "code",
   "execution_count": 44,
   "metadata": {},
   "outputs": [
    {
     "data": {
      "text/plain": [
       "best     0.7764\n",
       "worst    0.3780\n",
       "mkt      0.6513\n",
       "ls       0.8078\n",
       "dtype: float64"
      ]
     },
     "execution_count": 44,
     "metadata": {},
     "output_type": "execute_result"
    }
   ],
   "source": [
    "xrets = rets[[\"best\", \"worst\", \"mkt\", \"ls\"]].subtract(rets.rf, axis=0)\n",
    "sharpes = np.sqrt(12)*xrets.mean()/xrets.std()\n",
    "sharpes.round(4)"
   ]
  },
  {
   "cell_type": "code",
   "execution_count": 45,
   "metadata": {},
   "outputs": [
    {
     "data": {
      "text/plain": [
       "best     0.8294\n",
       "worst    0.4152\n",
       "mkt      0.6513\n",
       "ls       0.8076\n",
       "dtype: float64"
      ]
     },
     "execution_count": 45,
     "metadata": {},
     "output_type": "execute_result"
    }
   ],
   "source": [
    "xrets = rets_risk_parity[[\"best\", \"worst\", \"mkt\", \"ls\"]].subtract(rets_risk_parity.rf, axis=0)\n",
    "sharpes = np.sqrt(12)*xrets.mean()/xrets.std()\n",
    "sharpes.round(4)"
   ]
  },
  {
   "cell_type": "code",
   "execution_count": 46,
   "metadata": {},
   "outputs": [
    {
     "data": {
      "text/plain": [
       "best     0.7930\n",
       "worst    0.4022\n",
       "mkt      0.6513\n",
       "ls       0.6104\n",
       "dtype: float64"
      ]
     },
     "execution_count": 46,
     "metadata": {},
     "output_type": "execute_result"
    }
   ],
   "source": [
    "xrets = rets_gmv[[\"best\", \"worst\", \"mkt\", \"ls\"]].subtract(rets_gmv.rf, axis=0)\n",
    "sharpes = np.sqrt(12)*xrets.mean()/xrets.std()\n",
    "sharpes.round(4)"
   ]
  },
  {
   "attachments": {},
   "cell_type": "markdown",
   "metadata": {},
   "source": [
    "130/30 drawdowns"
   ]
  },
  {
   "cell_type": "code",
   "execution_count": 49,
   "metadata": {},
   "outputs": [
    {
     "data": {
      "text/plain": [
       "Text(0, 0.5, ' % Drawdown')"
      ]
     },
     "execution_count": 49,
     "metadata": {},
     "output_type": "execute_result"
    },
    {
     "data": {
      "image/png": "[encoded data removed]",
      "text/plain": [
       "<Figure size 432x288 with 2 Axes>"
      ]
     },
     "metadata": {
      "needs_background": "light"
     },
     "output_type": "display_data"
    }
   ],
   "source": [
    "ls = (1+rets.ls).cumprod()\n",
    "lsmax = ls.expanding().max()\n",
    "drawdown = ls/lsmax - 1\n",
    "\n",
    "fig, ax1 = plt.subplots()\n",
    "\n",
    "ax2 = ax1.twinx()\n",
    "ax2.set_yscale(\"log\")\n",
    "ax2.plot(rets.index.to_timestamp(), ls, 'b-')\n",
    "ax1.plot(rets.index.to_timestamp(), drawdown, 'r-')\n",
    "\n",
    "ax1.set_xlabel('Date')\n",
    "ax2.set_ylabel('Accumulation (log scale)', color='b')\n",
    "ax1.set_ylabel(' % Drawdown', color='r')"
   ]
  },
  {
   "cell_type": "code",
   "execution_count": 50,
   "metadata": {},
   "outputs": [
    {
     "data": {
      "text/plain": [
       "Text(0, 0.5, ' % Drawdown')"
      ]
     },
     "execution_count": 50,
     "metadata": {},
     "output_type": "execute_result"
    },
    {
     "data": {
      "image/png": "[encoded data removed]",
      "text/plain": [
       "<Figure size 432x288 with 2 Axes>"
      ]
     },
     "metadata": {
      "needs_background": "light"
     },
     "output_type": "display_data"
    }
   ],
   "source": [
    "ls = (1+rets_risk_parity.ls).cumprod()\n",
    "lsmax = ls.expanding().max()\n",
    "drawdown = ls/lsmax - 1\n",
    "\n",
    "fig, ax1 = plt.subplots()\n",
    "\n",
    "ax2 = ax1.twinx()\n",
    "ax2.set_yscale(\"log\")\n",
    "ax2.plot(rets_risk_parity.index.to_timestamp(), ls, 'b-')\n",
    "ax1.plot(rets_risk_parity.index.to_timestamp(), drawdown, 'r-')\n",
    "\n",
    "ax1.set_xlabel('Date')\n",
    "ax2.set_ylabel('Accumulation (log scale)', color='b')\n",
    "ax1.set_ylabel(' % Drawdown', color='r')"
   ]
  },
  {
   "cell_type": "code",
   "execution_count": 51,
   "metadata": {},
   "outputs": [
    {
     "data": {
      "text/plain": [
       "Text(0, 0.5, ' % Drawdown')"
      ]
     },
     "execution_count": 51,
     "metadata": {},
     "output_type": "execute_result"
    },
    {
     "data": {
      "image/png": "[encoded data removed]",
      "text/plain": [
       "<Figure size 432x288 with 2 Axes>"
      ]
     },
     "metadata": {
      "needs_background": "light"
     },
     "output_type": "display_data"
    }
   ],
   "source": [
    "ls = (1+rets_gmv.ls).cumprod()\n",
    "lsmax = ls.expanding().max()\n",
    "drawdown = ls/lsmax - 1\n",
    "\n",
    "fig, ax1 = plt.subplots()\n",
    "\n",
    "ax2 = ax1.twinx()\n",
    "ax2.set_yscale(\"log\")\n",
    "ax2.plot(rets_gmv.index.to_timestamp(), ls, 'b-')\n",
    "ax1.plot(rets_gmv.index.to_timestamp(), drawdown, 'r-')\n",
    "\n",
    "ax1.set_xlabel('Date')\n",
    "ax2.set_ylabel('Accumulation (log scale)', color='b')\n",
    "ax1.set_ylabel(' % Drawdown', color='r')"
   ]
  }
 ],
 "metadata": {
  "kernelspec": {
   "display_name": "Python 3",
   "language": "python",
   "name": "python3"
  },
  "language_info": {
   "codemirror_mode": {
    "name": "ipython",
    "version": 3
   },
   "file_extension": ".py",
   "mimetype": "text/x-python",
   "name": "python",
   "nbconvert_exporter": "python",
   "pygments_lexer": "ipython3",
   "version": "3.10.6"
  },
  "orig_nbformat": 4
 },
 "nbformat": 4,
 "nbformat_minor": 2
}
