{
 "cells": [
  {
   "cell_type": "markdown",
   "metadata": {
    "slideshow": {
     "slide_type": "slide"
    }
   },
   "source": [
    "# Rank and Trade\n",
    "\n",
    "### MGMT 767, Quantitative Investments Lab\n",
    "### Kerry Back & Kevin Crotty, Rice University"
   ]
  },
  {
   "cell_type": "markdown",
   "metadata": {
    "slideshow": {
     "slide_type": "slide"
    }
   },
   "source": [
    "### Outline\n",
    "\n",
    "1. Build feature dataset with today's features\n",
    "2. Load and apply model to predict\n",
    "3. Trade to 140/40 portfolio with 100% in SPY\n",
    "   (a) Close unwanted positions\n",
    "   (b) Rebalance SPY\n",
    "   (c) Open/rebalance long positions\n",
    "   (d) Open/rebalance short positions\n",
    "4. Save account equity and positions"
   ]
  },
  {
   "cell_type": "code",
   "execution_count": 1,
   "metadata": {
    "slideshow": {
     "slide_type": "slide"
    }
   },
   "outputs": [],
   "source": [
    "import numpy as np\n",
    "import pandas as pd\n",
    "from sqlalchemy import create_engine\n",
    "from joblib import load \n",
    "import yfinance as yf \n",
    "from datetime import datetime\n",
    "import os.path\n",
    "\n",
    "from alpaca.trading.client import TradingClient\n",
    "from alpaca.trading.requests import MarketOrderRequest, GetAssetsRequest, AssetClass\n",
    "from alpaca.trading.enums import OrderSide, TimeInForce"
   ]
  },
  {
   "cell_type": "markdown",
   "metadata": {
    "slideshow": {
     "slide_type": "slide"
    }
   },
   "source": [
    "### Build Feature Dataset\n",
    "\n",
    "- Don't need much history.  Start here in 2022.\n",
    "- And don't need weekly returns (after computing momentum)."
   ]
  },
  {
   "cell_type": "code",
   "execution_count": 2,
   "metadata": {
    "slideshow": {
     "slide_type": "slide"
    }
   },
   "outputs": [],
   "source": [
    "server = 'fs.rice.edu'\n",
    "database = 'stocks'\n",
    "username = 'stocks'\n",
    "password = '6LAZH1'\n",
    "driver = 'SQL+Server'\n",
    "string = f\"mssql+pyodbc://{username}:{password}@{server}/{database}\" \n",
    "try: \n",
    "    conn = create_engine(string + \"?driver='SQL+Server'\").connect()\n",
    "except:\n",
    "    try:\n",
    "        conn = create_engine(string + \"?driver='ODBC+Driver+18+for+SQL+Server'\").connect()\n",
    "    except:\n",
    "        import pymssql\n",
    "        string = f\"mssql+pymssql://{username}:{password}@{server}/{database}\"   \n",
    "        conn = create_engine(string).connect() "
   ]
  },
  {
   "cell_type": "code",
   "execution_count": 3,
   "metadata": {
    "slideshow": {
     "slide_type": "slide"
    }
   },
   "outputs": [],
   "source": [
    "sep_weekly = pd.read_sql(\n",
    "    \"\"\" \n",
    "    select date, ticker, closeadj, closeunadj, volume, lastupdated from sep_weekly \n",
    "    where date >= '2022-01-01'\n",
    "    order by ticker, date, lastupdated    \n",
    "    \"\"\",\n",
    "    conn,\n",
    ")\n",
    "sep_weekly = sep_weekly.groupby([\"ticker\", \"date\"]).last()\n",
    "sep_weekly = sep_weekly.drop(columns=[\"lastupdated\"])\n",
    "\n",
    "ret = sep_weekly.groupby(\"ticker\", group_keys=False).closeadj.pct_change()\n",
    "ret.name = \"ret\"\n",
    "\n",
    "price = sep_weekly.closeunadj\n",
    "price.name = \"price\"\n",
    "\n",
    "volume = sep_weekly.volume \n",
    "volume.name = \"volume\""
   ]
  },
  {
   "cell_type": "code",
   "execution_count": 4,
   "metadata": {
    "slideshow": {
     "slide_type": "slide"
    }
   },
   "outputs": [],
   "source": [
    "ret_annual = sep_weekly.groupby(\"ticker\", group_keys=False).closeadj.pct_change(52)\n",
    "ret_monthly = sep_weekly.groupby(\"ticker\", group_keys=False).closeadj.pct_change(4)\n",
    "mom = (1 + ret_annual) / (1 + ret_monthly) - 1\n",
    "mom.name = \"mom\""
   ]
  },
  {
   "cell_type": "code",
   "execution_count": 5,
   "metadata": {
    "slideshow": {
     "slide_type": "slide"
    }
   },
   "outputs": [],
   "source": [
    "weekly = pd.read_sql(\n",
    "    \"\"\" \n",
    "    select date, ticker, pb, marketcap, lastupdated from weekly \n",
    "    where date>='2022-01-01'\n",
    "    order by ticker, date, lastupdated    \n",
    "    \"\"\",\n",
    "    conn,\n",
    ")\n",
    "weekly = weekly.groupby([\"ticker\", \"date\"]).last()\n",
    "weekly = weekly.drop(columns=[\"lastupdated\"])\n",
    "\n",
    "pb = weekly.pb\n",
    "pb.name = \"pb\" \n",
    "marketcap = weekly.marketcap \n",
    "marketcap.name = \"marketcap\""
   ]
  },
  {
   "cell_type": "code",
   "execution_count": 6,
   "metadata": {
    "slideshow": {
     "slide_type": "slide"
    }
   },
   "outputs": [],
   "source": [
    "sf1 = pd.read_sql(\n",
    "    \"\"\" \n",
    "    select datekey as date, ticker, assets, netinc, equity, lastupdated from sf1\n",
    "    where datekey>='2022-01-01' and dimension='ARY' and assets>0 and equity>0\n",
    "    order by ticker, datekey, lastupdated    \n",
    "    \"\"\",\n",
    "    conn,\n",
    ")\n",
    "sf1 = sf1.groupby([\"ticker\", \"date\"]).last()\n",
    "sf1 = sf1.drop(columns=[\"lastupdated\"])\n",
    "\n",
    "# change dates to Fridays\n",
    "from datetime import timedelta \n",
    "sf1 = sf1.reset_index()\n",
    "sf1.date =sf1.date.map(\n",
    "    lambda x: x + timedelta(4 - x.weekday())\n",
    ")\n",
    "sf1 = sf1.set_index([\"ticker\", \"date\"])\n",
    "sf1 = sf1[~sf1.index.duplicated()]\n",
    "\n",
    "assets = sf1.assets\n",
    "assets.name = \"assets\" \n",
    "netinc = sf1.netinc \n",
    "netinc.name = \"netinc\" \n",
    "equity = sf1.equity\n",
    "equity.name = \"equity\"\n",
    "\n",
    "equity = equity.groupby(\"ticker\", group_keys=False).shift() \n",
    "roe = netinc / equity \n",
    "roe.name = \"roe\"\n",
    "\n",
    "assetgr = assets.groupby(\"ticker\", group_keys=False).pct_change()\n",
    "assetgr.name = \"assetgr\""
   ]
  },
  {
   "cell_type": "code",
   "execution_count": 7,
   "metadata": {
    "slideshow": {
     "slide_type": "slide"
    }
   },
   "outputs": [],
   "source": [
    "df = pd.concat(\n",
    "    (\n",
    "        mom, \n",
    "        volume,\n",
    "        price, \n",
    "        pb, \n",
    "        marketcap, \n",
    "        roe, \n",
    "        assetgr\n",
    "        ), \n",
    "        axis=1\n",
    "    )\n",
    "df[\"roe\"] = df.groupby(\"ticker\", group_keys=False).roe.ffill()\n",
    "df[\"assetgr\"] = df.groupby(\"ticker\", group_keys=False).assetgr.ffill()\n",
    "\n",
    "df = df.reset_index()\n",
    "df.date = df.date.astype(str)\n",
    "df = df[df.date==df.date.max()]\n",
    "df = df[df.price >= 5]\n",
    "df = df.dropna()\n",
    "\n",
    "features = [\n",
    "    \"mom\",\n",
    "    \"volume\",\n",
    "    \"pb\",\n",
    "    \"marketcap\",\n",
    "    \"roe\",\n",
    "    \"assetgr\" \n",
    "]"
   ]
  },
  {
   "cell_type": "code",
   "execution_count": 8,
   "metadata": {
    "slideshow": {
     "slide_type": "slide"
    }
   },
   "outputs": [],
   "source": [
    "industries = pd.read_sql(\n",
    "    \"\"\" \n",
    "    select ticker, famaindustry as industry from tickers   \n",
    "    \"\"\",\n",
    "    conn,\n",
    ")\n",
    "industries[\"industry\"] = industries.industry.fillna(\"Almost Nothing\")\n",
    "df = df.merge(industries, on=\"ticker\", how=\"left\")\n",
    "df = df.dropna()"
   ]
  },
  {
   "cell_type": "code",
   "execution_count": 9,
   "metadata": {
    "slideshow": {
     "slide_type": "slide"
    }
   },
   "outputs": [],
   "source": [
    "for x in features:\n",
    "    df[f\"{x}_industry\"] = df.groupby(\n",
    "        [\"industry\"], \n",
    "        group_keys=False\n",
    "    )[x].apply(\n",
    "        lambda x: x - x.median()\n",
    "    )\n",
    "\n",
    "features += [f\"{x}_industry\" for x in features]"
   ]
  },
  {
   "cell_type": "code",
   "execution_count": 10,
   "metadata": {
    "slideshow": {
     "slide_type": "slide"
    }
   },
   "outputs": [],
   "source": [
    "for f in features:\n",
    "    df[f] = df[f].rank(pct=True)"
   ]
  },
  {
   "cell_type": "markdown",
   "metadata": {
    "slideshow": {
     "slide_type": "slide"
    }
   },
   "source": [
    "### Load Model and Predict"
   ]
  },
  {
   "cell_type": "code",
   "execution_count": 11,
   "metadata": {
    "slideshow": {
     "slide_type": "slide"
    }
   },
   "outputs": [],
   "source": [
    "model = load(\"mymodel.joblib\")\n",
    "df[\"predict\"] = model.predict(df[features])"
   ]
  },
  {
   "cell_type": "markdown",
   "metadata": {
    "slideshow": {
     "slide_type": "slide"
    }
   },
   "source": [
    "### Best and worst stocks\n",
    "\n",
    "- Best stocks must be tradable \n",
    "- Worst stocks must be tradable and shortable"
   ]
  },
  {
   "cell_type": "code",
   "execution_count": 13,
   "metadata": {
    "slideshow": {
     "slide_type": "slide"
    }
   },
   "outputs": [],
   "source": [
    "with open(\"keys.txt\", \"r\") as f:\n",
    "    keys = f.readlines()\n",
    "\n",
    "key, secret_key = [x.strip() for x in keys]\n",
    "trading_client = TradingClient(key, secret_key, paper=True)\n",
    "\n",
    "search_params = GetAssetsRequest(asset_class=AssetClass.US_EQUITY)\n",
    "assets = trading_client.get_all_assets(search_params)\n",
    "tradable = [x.symbol for x in assets if x.tradable]\n",
    "shortable = [x.symbol for x in assets if x.shortable]"
   ]
  },
  {
   "cell_type": "code",
   "execution_count": 14,
   "metadata": {
    "slideshow": {
     "slide_type": "slide"
    }
   },
   "outputs": [],
   "source": [
    "numstocks = 50\n",
    "\n",
    "df = df.sort_values(by=\"predict\", ascending=False)\n",
    "best = df[[\"ticker\", \"predict\"]].copy().reset_index(drop=True)\n",
    "best = best[best.ticker.isin(tradable)].iloc[:numstocks]\n",
    "\n",
    "df = df.sort_values(by=\"predict\", ascending=True)\n",
    "worst = df[[\"ticker\", \"predict\"]].copy().reset_index(drop=True)\n",
    "worst = worst[worst.ticker.isin(shortable)].iloc[:numstocks]"
   ]
  },
  {
   "cell_type": "code",
   "execution_count": 15,
   "metadata": {
    "slideshow": {
     "slide_type": "slide"
    }
   },
   "outputs": [
    {
     "data": {
      "text/html": [
       "<div>\n",
       "<style scoped>\n",
       "    .dataframe tbody tr th:only-of-type {\n",
       "        vertical-align: middle;\n",
       "    }\n",
       "\n",
       "    .dataframe tbody tr th {\n",
       "        vertical-align: top;\n",
       "    }\n",
       "\n",
       "    .dataframe thead th {\n",
       "        text-align: right;\n",
       "    }\n",
       "</style>\n",
       "<table border=\"1\" class=\"dataframe\">\n",
       "  <thead>\n",
       "    <tr style=\"text-align: right;\">\n",
       "      <th></th>\n",
       "      <th>ticker</th>\n",
       "      <th>predict</th>\n",
       "    </tr>\n",
       "  </thead>\n",
       "  <tbody>\n",
       "    <tr>\n",
       "      <th>0</th>\n",
       "      <td>SMCI</td>\n",
       "      <td>52.174968</td>\n",
       "    </tr>\n",
       "    <tr>\n",
       "      <th>1</th>\n",
       "      <td>CLX</td>\n",
       "      <td>51.393896</td>\n",
       "    </tr>\n",
       "    <tr>\n",
       "      <th>2</th>\n",
       "      <td>ODFL</td>\n",
       "      <td>51.375721</td>\n",
       "    </tr>\n",
       "    <tr>\n",
       "      <th>3</th>\n",
       "      <td>CTAS</td>\n",
       "      <td>51.375721</td>\n",
       "    </tr>\n",
       "    <tr>\n",
       "      <th>4</th>\n",
       "      <td>AVGO</td>\n",
       "      <td>51.373454</td>\n",
       "    </tr>\n",
       "    <tr>\n",
       "      <th>5</th>\n",
       "      <td>TSCO</td>\n",
       "      <td>51.370101</td>\n",
       "    </tr>\n",
       "    <tr>\n",
       "      <th>6</th>\n",
       "      <td>VRSK</td>\n",
       "      <td>51.367331</td>\n",
       "    </tr>\n",
       "    <tr>\n",
       "      <th>7</th>\n",
       "      <td>AMT</td>\n",
       "      <td>51.350813</td>\n",
       "    </tr>\n",
       "    <tr>\n",
       "      <th>8</th>\n",
       "      <td>CMG</td>\n",
       "      <td>51.348386</td>\n",
       "    </tr>\n",
       "    <tr>\n",
       "      <th>9</th>\n",
       "      <td>BAH</td>\n",
       "      <td>51.347133</td>\n",
       "    </tr>\n",
       "    <tr>\n",
       "      <th>10</th>\n",
       "      <td>SNPS</td>\n",
       "      <td>51.347008</td>\n",
       "    </tr>\n",
       "    <tr>\n",
       "      <th>11</th>\n",
       "      <td>BURL</td>\n",
       "      <td>51.345578</td>\n",
       "    </tr>\n",
       "    <tr>\n",
       "      <th>12</th>\n",
       "      <td>COST</td>\n",
       "      <td>51.344000</td>\n",
       "    </tr>\n",
       "    <tr>\n",
       "      <th>13</th>\n",
       "      <td>TREX</td>\n",
       "      <td>51.342670</td>\n",
       "    </tr>\n",
       "    <tr>\n",
       "      <th>14</th>\n",
       "      <td>BR</td>\n",
       "      <td>51.338517</td>\n",
       "    </tr>\n",
       "    <tr>\n",
       "      <th>15</th>\n",
       "      <td>LULU</td>\n",
       "      <td>51.335873</td>\n",
       "    </tr>\n",
       "    <tr>\n",
       "      <th>16</th>\n",
       "      <td>AMP</td>\n",
       "      <td>51.333637</td>\n",
       "    </tr>\n",
       "    <tr>\n",
       "      <th>17</th>\n",
       "      <td>WMS</td>\n",
       "      <td>51.332320</td>\n",
       "    </tr>\n",
       "    <tr>\n",
       "      <th>18</th>\n",
       "      <td>LMT</td>\n",
       "      <td>51.328056</td>\n",
       "    </tr>\n",
       "    <tr>\n",
       "      <th>19</th>\n",
       "      <td>CSX</td>\n",
       "      <td>51.327916</td>\n",
       "    </tr>\n",
       "    <tr>\n",
       "      <th>20</th>\n",
       "      <td>QCOM</td>\n",
       "      <td>51.327916</td>\n",
       "    </tr>\n",
       "    <tr>\n",
       "      <th>21</th>\n",
       "      <td>TJX</td>\n",
       "      <td>51.326989</td>\n",
       "    </tr>\n",
       "    <tr>\n",
       "      <th>22</th>\n",
       "      <td>ABNB</td>\n",
       "      <td>51.325720</td>\n",
       "    </tr>\n",
       "    <tr>\n",
       "      <th>23</th>\n",
       "      <td>ACN</td>\n",
       "      <td>51.325646</td>\n",
       "    </tr>\n",
       "    <tr>\n",
       "      <th>24</th>\n",
       "      <td>FERG</td>\n",
       "      <td>51.325646</td>\n",
       "    </tr>\n",
       "    <tr>\n",
       "      <th>25</th>\n",
       "      <td>ROST</td>\n",
       "      <td>51.325646</td>\n",
       "    </tr>\n",
       "    <tr>\n",
       "      <th>26</th>\n",
       "      <td>PSA</td>\n",
       "      <td>51.325646</td>\n",
       "    </tr>\n",
       "    <tr>\n",
       "      <th>27</th>\n",
       "      <td>APH</td>\n",
       "      <td>51.325646</td>\n",
       "    </tr>\n",
       "    <tr>\n",
       "      <th>28</th>\n",
       "      <td>NXPI</td>\n",
       "      <td>51.325646</td>\n",
       "    </tr>\n",
       "    <tr>\n",
       "      <th>29</th>\n",
       "      <td>MPWR</td>\n",
       "      <td>51.324699</td>\n",
       "    </tr>\n",
       "    <tr>\n",
       "      <th>30</th>\n",
       "      <td>META</td>\n",
       "      <td>51.321168</td>\n",
       "    </tr>\n",
       "    <tr>\n",
       "      <th>31</th>\n",
       "      <td>ROL</td>\n",
       "      <td>51.320348</td>\n",
       "    </tr>\n",
       "    <tr>\n",
       "      <th>32</th>\n",
       "      <td>MOH</td>\n",
       "      <td>51.320026</td>\n",
       "    </tr>\n",
       "    <tr>\n",
       "      <th>33</th>\n",
       "      <td>FAST</td>\n",
       "      <td>51.319775</td>\n",
       "    </tr>\n",
       "    <tr>\n",
       "      <th>34</th>\n",
       "      <td>NFLX</td>\n",
       "      <td>51.319775</td>\n",
       "    </tr>\n",
       "    <tr>\n",
       "      <th>35</th>\n",
       "      <td>A</td>\n",
       "      <td>51.319615</td>\n",
       "    </tr>\n",
       "    <tr>\n",
       "      <th>36</th>\n",
       "      <td>CDNS</td>\n",
       "      <td>51.318760</td>\n",
       "    </tr>\n",
       "    <tr>\n",
       "      <th>37</th>\n",
       "      <td>WM</td>\n",
       "      <td>51.318596</td>\n",
       "    </tr>\n",
       "    <tr>\n",
       "      <th>38</th>\n",
       "      <td>MMC</td>\n",
       "      <td>51.317256</td>\n",
       "    </tr>\n",
       "    <tr>\n",
       "      <th>39</th>\n",
       "      <td>SCCO</td>\n",
       "      <td>51.317256</td>\n",
       "    </tr>\n",
       "    <tr>\n",
       "      <th>40</th>\n",
       "      <td>KO</td>\n",
       "      <td>51.316009</td>\n",
       "    </tr>\n",
       "    <tr>\n",
       "      <th>41</th>\n",
       "      <td>UNP</td>\n",
       "      <td>51.315315</td>\n",
       "    </tr>\n",
       "    <tr>\n",
       "      <th>42</th>\n",
       "      <td>WST</td>\n",
       "      <td>51.313995</td>\n",
       "    </tr>\n",
       "    <tr>\n",
       "      <th>43</th>\n",
       "      <td>BSY</td>\n",
       "      <td>51.311922</td>\n",
       "    </tr>\n",
       "    <tr>\n",
       "      <th>44</th>\n",
       "      <td>JBHT</td>\n",
       "      <td>51.311898</td>\n",
       "    </tr>\n",
       "    <tr>\n",
       "      <th>45</th>\n",
       "      <td>PH</td>\n",
       "      <td>51.311487</td>\n",
       "    </tr>\n",
       "    <tr>\n",
       "      <th>46</th>\n",
       "      <td>LECO</td>\n",
       "      <td>51.311256</td>\n",
       "    </tr>\n",
       "    <tr>\n",
       "      <th>47</th>\n",
       "      <td>AVY</td>\n",
       "      <td>51.311016</td>\n",
       "    </tr>\n",
       "    <tr>\n",
       "      <th>48</th>\n",
       "      <td>DRI</td>\n",
       "      <td>51.311016</td>\n",
       "    </tr>\n",
       "    <tr>\n",
       "      <th>49</th>\n",
       "      <td>FDS</td>\n",
       "      <td>51.311016</td>\n",
       "    </tr>\n",
       "  </tbody>\n",
       "</table>\n",
       "</div>"
      ],
      "text/plain": [
       "   ticker    predict\n",
       "0    SMCI  52.174968\n",
       "1     CLX  51.393896\n",
       "2    ODFL  51.375721\n",
       "3    CTAS  51.375721\n",
       "4    AVGO  51.373454\n",
       "5    TSCO  51.370101\n",
       "6    VRSK  51.367331\n",
       "7     AMT  51.350813\n",
       "8     CMG  51.348386\n",
       "9     BAH  51.347133\n",
       "10   SNPS  51.347008\n",
       "11   BURL  51.345578\n",
       "12   COST  51.344000\n",
       "13   TREX  51.342670\n",
       "14     BR  51.338517\n",
       "15   LULU  51.335873\n",
       "16    AMP  51.333637\n",
       "17    WMS  51.332320\n",
       "18    LMT  51.328056\n",
       "19    CSX  51.327916\n",
       "20   QCOM  51.327916\n",
       "21    TJX  51.326989\n",
       "22   ABNB  51.325720\n",
       "23    ACN  51.325646\n",
       "24   FERG  51.325646\n",
       "25   ROST  51.325646\n",
       "26    PSA  51.325646\n",
       "27    APH  51.325646\n",
       "28   NXPI  51.325646\n",
       "29   MPWR  51.324699\n",
       "30   META  51.321168\n",
       "31    ROL  51.320348\n",
       "32    MOH  51.320026\n",
       "33   FAST  51.319775\n",
       "34   NFLX  51.319775\n",
       "35      A  51.319615\n",
       "36   CDNS  51.318760\n",
       "37     WM  51.318596\n",
       "38    MMC  51.317256\n",
       "39   SCCO  51.317256\n",
       "40     KO  51.316009\n",
       "41    UNP  51.315315\n",
       "42    WST  51.313995\n",
       "43    BSY  51.311922\n",
       "44   JBHT  51.311898\n",
       "45     PH  51.311487\n",
       "46   LECO  51.311256\n",
       "47    AVY  51.311016\n",
       "48    DRI  51.311016\n",
       "49    FDS  51.311016"
      ]
     },
     "execution_count": 15,
     "metadata": {},
     "output_type": "execute_result"
    }
   ],
   "source": [
    "best"
   ]
  },
  {
   "cell_type": "code",
   "execution_count": 16,
   "metadata": {
    "slideshow": {
     "slide_type": "slide"
    }
   },
   "outputs": [
    {
     "data": {
      "text/html": [
       "<div>\n",
       "<style scoped>\n",
       "    .dataframe tbody tr th:only-of-type {\n",
       "        vertical-align: middle;\n",
       "    }\n",
       "\n",
       "    .dataframe tbody tr th {\n",
       "        vertical-align: top;\n",
       "    }\n",
       "\n",
       "    .dataframe thead th {\n",
       "        text-align: right;\n",
       "    }\n",
       "</style>\n",
       "<table border=\"1\" class=\"dataframe\">\n",
       "  <thead>\n",
       "    <tr style=\"text-align: right;\">\n",
       "      <th></th>\n",
       "      <th>ticker</th>\n",
       "      <th>predict</th>\n",
       "    </tr>\n",
       "  </thead>\n",
       "  <tbody>\n",
       "    <tr>\n",
       "      <th>0</th>\n",
       "      <td>EIGR</td>\n",
       "      <td>44.645864</td>\n",
       "    </tr>\n",
       "    <tr>\n",
       "      <th>3</th>\n",
       "      <td>PRPO</td>\n",
       "      <td>45.391237</td>\n",
       "    </tr>\n",
       "    <tr>\n",
       "      <th>4</th>\n",
       "      <td>KPLT</td>\n",
       "      <td>45.495299</td>\n",
       "    </tr>\n",
       "    <tr>\n",
       "      <th>5</th>\n",
       "      <td>XOS</td>\n",
       "      <td>45.506624</td>\n",
       "    </tr>\n",
       "    <tr>\n",
       "      <th>7</th>\n",
       "      <td>AIRT</td>\n",
       "      <td>45.588820</td>\n",
       "    </tr>\n",
       "    <tr>\n",
       "      <th>8</th>\n",
       "      <td>BODY</td>\n",
       "      <td>45.617127</td>\n",
       "    </tr>\n",
       "    <tr>\n",
       "      <th>12</th>\n",
       "      <td>ONCT</td>\n",
       "      <td>45.771995</td>\n",
       "    </tr>\n",
       "    <tr>\n",
       "      <th>21</th>\n",
       "      <td>TIL</td>\n",
       "      <td>46.289537</td>\n",
       "    </tr>\n",
       "    <tr>\n",
       "      <th>23</th>\n",
       "      <td>AEYE</td>\n",
       "      <td>46.347871</td>\n",
       "    </tr>\n",
       "    <tr>\n",
       "      <th>24</th>\n",
       "      <td>OPAD</td>\n",
       "      <td>46.414548</td>\n",
       "    </tr>\n",
       "    <tr>\n",
       "      <th>25</th>\n",
       "      <td>IPWR</td>\n",
       "      <td>46.422945</td>\n",
       "    </tr>\n",
       "    <tr>\n",
       "      <th>27</th>\n",
       "      <td>SKLZ</td>\n",
       "      <td>46.503096</td>\n",
       "    </tr>\n",
       "    <tr>\n",
       "      <th>33</th>\n",
       "      <td>TELA</td>\n",
       "      <td>46.539226</td>\n",
       "    </tr>\n",
       "    <tr>\n",
       "      <th>35</th>\n",
       "      <td>CRIS</td>\n",
       "      <td>46.610874</td>\n",
       "    </tr>\n",
       "    <tr>\n",
       "      <th>36</th>\n",
       "      <td>ECOR</td>\n",
       "      <td>46.695044</td>\n",
       "    </tr>\n",
       "    <tr>\n",
       "      <th>37</th>\n",
       "      <td>GOCO</td>\n",
       "      <td>46.734882</td>\n",
       "    </tr>\n",
       "    <tr>\n",
       "      <th>39</th>\n",
       "      <td>LEE</td>\n",
       "      <td>46.745497</td>\n",
       "    </tr>\n",
       "    <tr>\n",
       "      <th>42</th>\n",
       "      <td>WISH</td>\n",
       "      <td>46.778085</td>\n",
       "    </tr>\n",
       "    <tr>\n",
       "      <th>43</th>\n",
       "      <td>VHC</td>\n",
       "      <td>46.792769</td>\n",
       "    </tr>\n",
       "    <tr>\n",
       "      <th>45</th>\n",
       "      <td>CSBR</td>\n",
       "      <td>46.804698</td>\n",
       "    </tr>\n",
       "    <tr>\n",
       "      <th>46</th>\n",
       "      <td>WGS</td>\n",
       "      <td>46.840183</td>\n",
       "    </tr>\n",
       "    <tr>\n",
       "      <th>48</th>\n",
       "      <td>PRAX</td>\n",
       "      <td>46.889632</td>\n",
       "    </tr>\n",
       "    <tr>\n",
       "      <th>49</th>\n",
       "      <td>ASTC</td>\n",
       "      <td>46.910768</td>\n",
       "    </tr>\n",
       "    <tr>\n",
       "      <th>51</th>\n",
       "      <td>ARQT</td>\n",
       "      <td>46.960544</td>\n",
       "    </tr>\n",
       "    <tr>\n",
       "      <th>52</th>\n",
       "      <td>EVEX</td>\n",
       "      <td>46.967284</td>\n",
       "    </tr>\n",
       "    <tr>\n",
       "      <th>57</th>\n",
       "      <td>SILK</td>\n",
       "      <td>47.150363</td>\n",
       "    </tr>\n",
       "    <tr>\n",
       "      <th>58</th>\n",
       "      <td>ATNM</td>\n",
       "      <td>47.194700</td>\n",
       "    </tr>\n",
       "    <tr>\n",
       "      <th>59</th>\n",
       "      <td>RVNC</td>\n",
       "      <td>47.197835</td>\n",
       "    </tr>\n",
       "    <tr>\n",
       "      <th>62</th>\n",
       "      <td>AVTE</td>\n",
       "      <td>47.216780</td>\n",
       "    </tr>\n",
       "    <tr>\n",
       "      <th>66</th>\n",
       "      <td>FLUX</td>\n",
       "      <td>47.258021</td>\n",
       "    </tr>\n",
       "    <tr>\n",
       "      <th>67</th>\n",
       "      <td>NVNO</td>\n",
       "      <td>47.288883</td>\n",
       "    </tr>\n",
       "    <tr>\n",
       "      <th>69</th>\n",
       "      <td>NGNE</td>\n",
       "      <td>47.321117</td>\n",
       "    </tr>\n",
       "    <tr>\n",
       "      <th>71</th>\n",
       "      <td>SYRS</td>\n",
       "      <td>47.338558</td>\n",
       "    </tr>\n",
       "    <tr>\n",
       "      <th>72</th>\n",
       "      <td>TCX</td>\n",
       "      <td>47.345261</td>\n",
       "    </tr>\n",
       "    <tr>\n",
       "      <th>73</th>\n",
       "      <td>SCPH</td>\n",
       "      <td>47.347124</td>\n",
       "    </tr>\n",
       "    <tr>\n",
       "      <th>74</th>\n",
       "      <td>TSVT</td>\n",
       "      <td>47.350808</td>\n",
       "    </tr>\n",
       "    <tr>\n",
       "      <th>75</th>\n",
       "      <td>AKYA</td>\n",
       "      <td>47.381962</td>\n",
       "    </tr>\n",
       "    <tr>\n",
       "      <th>76</th>\n",
       "      <td>AURA</td>\n",
       "      <td>47.412397</td>\n",
       "    </tr>\n",
       "    <tr>\n",
       "      <th>77</th>\n",
       "      <td>IE</td>\n",
       "      <td>47.447569</td>\n",
       "    </tr>\n",
       "    <tr>\n",
       "      <th>79</th>\n",
       "      <td>OUST</td>\n",
       "      <td>47.517952</td>\n",
       "    </tr>\n",
       "    <tr>\n",
       "      <th>80</th>\n",
       "      <td>HROW</td>\n",
       "      <td>47.556767</td>\n",
       "    </tr>\n",
       "    <tr>\n",
       "      <th>81</th>\n",
       "      <td>COGT</td>\n",
       "      <td>47.566309</td>\n",
       "    </tr>\n",
       "    <tr>\n",
       "      <th>82</th>\n",
       "      <td>SCOR</td>\n",
       "      <td>47.568210</td>\n",
       "    </tr>\n",
       "    <tr>\n",
       "      <th>86</th>\n",
       "      <td>NPCE</td>\n",
       "      <td>47.612849</td>\n",
       "    </tr>\n",
       "    <tr>\n",
       "      <th>87</th>\n",
       "      <td>HIPO</td>\n",
       "      <td>47.629984</td>\n",
       "    </tr>\n",
       "    <tr>\n",
       "      <th>88</th>\n",
       "      <td>NEXT</td>\n",
       "      <td>47.632269</td>\n",
       "    </tr>\n",
       "    <tr>\n",
       "      <th>89</th>\n",
       "      <td>IGMS</td>\n",
       "      <td>47.655028</td>\n",
       "    </tr>\n",
       "    <tr>\n",
       "      <th>90</th>\n",
       "      <td>MGTX</td>\n",
       "      <td>47.660436</td>\n",
       "    </tr>\n",
       "    <tr>\n",
       "      <th>91</th>\n",
       "      <td>REPL</td>\n",
       "      <td>47.663232</td>\n",
       "    </tr>\n",
       "    <tr>\n",
       "      <th>92</th>\n",
       "      <td>ENTA</td>\n",
       "      <td>47.668864</td>\n",
       "    </tr>\n",
       "  </tbody>\n",
       "</table>\n",
       "</div>"
      ],
      "text/plain": [
       "   ticker    predict\n",
       "0    EIGR  44.645864\n",
       "3    PRPO  45.391237\n",
       "4    KPLT  45.495299\n",
       "5     XOS  45.506624\n",
       "7    AIRT  45.588820\n",
       "8    BODY  45.617127\n",
       "12   ONCT  45.771995\n",
       "21    TIL  46.289537\n",
       "23   AEYE  46.347871\n",
       "24   OPAD  46.414548\n",
       "25   IPWR  46.422945\n",
       "27   SKLZ  46.503096\n",
       "33   TELA  46.539226\n",
       "35   CRIS  46.610874\n",
       "36   ECOR  46.695044\n",
       "37   GOCO  46.734882\n",
       "39    LEE  46.745497\n",
       "42   WISH  46.778085\n",
       "43    VHC  46.792769\n",
       "45   CSBR  46.804698\n",
       "46    WGS  46.840183\n",
       "48   PRAX  46.889632\n",
       "49   ASTC  46.910768\n",
       "51   ARQT  46.960544\n",
       "52   EVEX  46.967284\n",
       "57   SILK  47.150363\n",
       "58   ATNM  47.194700\n",
       "59   RVNC  47.197835\n",
       "62   AVTE  47.216780\n",
       "66   FLUX  47.258021\n",
       "67   NVNO  47.288883\n",
       "69   NGNE  47.321117\n",
       "71   SYRS  47.338558\n",
       "72    TCX  47.345261\n",
       "73   SCPH  47.347124\n",
       "74   TSVT  47.350808\n",
       "75   AKYA  47.381962\n",
       "76   AURA  47.412397\n",
       "77     IE  47.447569\n",
       "79   OUST  47.517952\n",
       "80   HROW  47.556767\n",
       "81   COGT  47.566309\n",
       "82   SCOR  47.568210\n",
       "86   NPCE  47.612849\n",
       "87   HIPO  47.629984\n",
       "88   NEXT  47.632269\n",
       "89   IGMS  47.655028\n",
       "90   MGTX  47.660436\n",
       "91   REPL  47.663232\n",
       "92   ENTA  47.668864"
      ]
     },
     "execution_count": 16,
     "metadata": {},
     "output_type": "execute_result"
    }
   ],
   "source": [
    "worst"
   ]
  },
  {
   "cell_type": "markdown",
   "metadata": {
    "slideshow": {
     "slide_type": "slide"
    }
   },
   "source": [
    "### Close unwanted positions"
   ]
  },
  {
   "cell_type": "code",
   "execution_count": 17,
   "metadata": {
    "slideshow": {
     "slide_type": "slide"
    }
   },
   "outputs": [],
   "source": [
    "positions = trading_client.get_all_positions()\n",
    "positions = {x.symbol: float(x.qty) for x in positions}\n",
    "positions_to_close = [\n",
    "    symbol for symbol in positions \n",
    "    if (symbol not in best.ticker.to_list())\n",
    "    and (symbol not in worst.ticker.to_list())\n",
    "    and (symbol != \"SPY\")\n",
    "]\n",
    "\n",
    "for symbol in positions_to_close:\n",
    "    qty = positions[symbol]\n",
    "    order=MarketOrderRequest(\n",
    "        symbol=symbol,\n",
    "        qty=abs(qty),\n",
    "        side=OrderSide.BUY if qty<0 else OrderSide.SELL,\n",
    "        time_in_force=TimeInForce.DAY\n",
    "    )\n",
    "    _ = trading_client.submit_order(order)"
   ]
  },
  {
   "attachments": {},
   "cell_type": "markdown",
   "metadata": {
    "slideshow": {
     "slide_type": "slide"
    }
   },
   "source": [
    "### Rebalance SPY"
   ]
  },
  {
   "cell_type": "code",
   "execution_count": 18,
   "metadata": {
    "slideshow": {
     "slide_type": "slide"
    }
   },
   "outputs": [],
   "source": [
    "price = yf.download(\"SPY\", start=2024, progress=False)[\"Close\"].iloc[-1].item()\n",
    "\n",
    "account = trading_client.get_account()\n",
    "equity = float(account.equity)\n",
    "qty = int(equity / price)\n",
    "qty -= positions[\"SPY\"] if \"SPY\" in positions else 0\n",
    "\n",
    "if qty != 0:\n",
    "    order = MarketOrderRequest(\n",
    "        symbol=\"SPY\",\n",
    "        qty=abs(qty),\n",
    "        side=OrderSide.BUY if qty>0 else OrderSide.SELL,\n",
    "        time_in_force=TimeInForce.DAY\n",
    "    )\n",
    "    _ = trading_client.submit_order(order)"
   ]
  },
  {
   "cell_type": "markdown",
   "metadata": {
    "slideshow": {
     "slide_type": "slide"
    }
   },
   "source": [
    "### Trade best stocks"
   ]
  },
  {
   "cell_type": "code",
   "execution_count": 19,
   "metadata": {
    "slideshow": {
     "slide_type": "slide"
    }
   },
   "outputs": [
    {
     "name": "stdout",
     "output_type": "stream",
     "text": [
      "[*********************100%%**********************]  50 of 50 completed\n"
     ]
    }
   ],
   "source": [
    "symbols = best.ticker.to_list()\n",
    "prices = yf.download(symbols, start=2024)[\"Close\"].iloc[-1]\n",
    "symbols = [s for s in symbols if not np.isnan(prices[s])]\n",
    "dollars = 0.4 * equity / numstocks\n",
    "for symbol in symbols:\n",
    "    price = prices[symbol]\n",
    "    qty = int(dollars / price)\n",
    "    qty -= positions[symbol] if symbol in positions else 0\n",
    "    if qty != 0:\n",
    "        try:\n",
    "            order = MarketOrderRequest(\n",
    "                symbol=symbol,\n",
    "                qty=abs(qty),\n",
    "                side=OrderSide.BUY if qty>0 else OrderSide.SELL,\n",
    "                time_in_force=TimeInForce.DAY\n",
    "            )\n",
    "            _ = trading_client.submit_order(order)\n",
    "        except Exception as error:\n",
    "            print(\"An error occurred:\", error)"
   ]
  },
  {
   "attachments": {},
   "cell_type": "markdown",
   "metadata": {
    "slideshow": {
     "slide_type": "slide"
    }
   },
   "source": [
    "### Trade worst stocks"
   ]
  },
  {
   "cell_type": "code",
   "execution_count": 20,
   "metadata": {
    "slideshow": {
     "slide_type": "slide"
    }
   },
   "outputs": [
    {
     "name": "stdout",
     "output_type": "stream",
     "text": [
      "[*********************100%%**********************]  50 of 50 completed\n"
     ]
    }
   ],
   "source": [
    "symbols = worst.ticker.to_list()\n",
    "prices = yf.download(symbols, start=2024)[\"Close\"].iloc[-1]\n",
    "symbols = [s for s in symbols if not np.isnan(prices[s])]\n",
    "for symbol in symbols:\n",
    "    price = prices[symbol]\n",
    "    qty = - int(dollars / price)\n",
    "    qty -= positions[symbol] if symbol in positions else 0\n",
    "    if qty != 0:\n",
    "        try:\n",
    "            order = MarketOrderRequest(\n",
    "                symbol=symbol,\n",
    "                qty=abs(qty),\n",
    "                side=OrderSide.BUY if qty>0 else OrderSide.SELL,\n",
    "                time_in_force=TimeInForce.DAY\n",
    "            )\n",
    "            _ = trading_client.submit_order(order)\n",
    "        except Exception as error:\n",
    "            print(\"An error occurred:\", error)"
   ]
  },
  {
   "attachments": {},
   "cell_type": "markdown",
   "metadata": {
    "slideshow": {
     "slide_type": "slide"
    }
   },
   "source": [
    "### Save data"
   ]
  },
  {
   "cell_type": "code",
   "execution_count": null,
   "metadata": {
    "slideshow": {
     "slide_type": "slide"
    }
   },
   "outputs": [],
   "source": [
    "today = datetime.strftime(datetime.today(), \"%Y-%m-%d\")\n",
    "account = trading_client.get_account()\n",
    "equity = float(account.equity)\n",
    "if os.path.isfile(\"equity.csv\"):\n",
    "    d = pd.read_csv(\"equity.csv\", index_col=\"date\")\n",
    "    d.loc[today] = equity \n",
    "else: \n",
    "    d = pd.Series({today: equity})\n",
    "    d.name = \"equity\" \n",
    "    d.index.name = \"date\"\n",
    "d.to_csv(\"equity.csv\")"
   ]
  },
  {
   "cell_type": "code",
   "execution_count": null,
   "metadata": {
    "slideshow": {
     "slide_type": "slide"
    }
   },
   "outputs": [],
   "source": [
    "positions = trading_client.get_all_positions()\n",
    "d = pd.DataFrame([x.qty for x in positions], index=[x.symbol for x in positions], columns=[\"shares\"])\n",
    "d[\"date\"] = today\n",
    "d.index.name = \"symbol\"\n",
    "d = d.reset_index()\n",
    "if os.path.isfile(\"positions.csv\"):\n",
    "    d0 = pd.read_csv(\"positions.csv\")\n",
    "    d = pd.concat((d0, d))\n",
    "d.to_csv(\"positions.csv\", index=False)"
   ]
  }
 ],
 "metadata": {
  "kernelspec": {
   "display_name": "venv",
   "language": "python",
   "name": "python3"
  },
  "language_info": {
   "codemirror_mode": {
    "name": "ipython",
    "version": 3
   },
   "file_extension": ".py",
   "mimetype": "text/x-python",
   "name": "python",
   "nbconvert_exporter": "python",
   "pygments_lexer": "ipython3",
   "version": "3.10.11"
  },
  "orig_nbformat": 4,
  "vscode": {
   "interpreter": {
    "hash": "24514d992635106b0c080fe619fc409ba929c1b95321a4abd0f8c840fea2ec36"
   }
  }
 },
 "nbformat": 4,
 "nbformat_minor": 2
}
