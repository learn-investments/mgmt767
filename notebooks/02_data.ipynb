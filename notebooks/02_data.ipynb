{
 "cells": [
  {
   "cell_type": "markdown",
   "metadata": {
    "slideshow": {
     "slide_type": "slide"
    }
   },
   "source": [
    "# Data: Small-Cap Value and Momentum\n",
    "\n",
    "### MGMT 767: Data-Driven Investments Lab\n",
    "### Kerry Back and Kevin Crotty, Rice University"
   ]
  },
  {
   "cell_type": "code",
   "execution_count": 4,
   "metadata": {
    "slideshow": {
     "slide_type": "slide"
    }
   },
   "outputs": [],
   "source": [
    "from sqlalchemy import create_engine\n",
    "\n",
    "server = 'fs.rice.edu'\n",
    "database = 'stocks'\n",
    "username = 'stocks'\n",
    "password = '6LAZH1'\n",
    "driver1 = 'SQL+Server'\n",
    "driver2 = 'ODBC+Driver+17+for+SQL+Server'\n",
    "string1 = f\"mssql+pyodbc://{username}:{password}@{server}/{database}?driver={driver1}\" \n",
    "string2 = f\"mssql+pyodbc://{username}:{password}@{server}/{database}?driver={driver2}\" \n",
    "try: \n",
    "    conn = create_engine(string1).connect()\n",
    "except:\n",
    "    conn = create_engine(string2).connect() "
   ]
  },
  {
   "cell_type": "code",
   "execution_count": 6,
   "metadata": {
    "slideshow": {
     "slide_type": "slide"
    }
   },
   "outputs": [],
   "source": [
    "import pandas as pd \n",
    "prices = pd.read_sql(\n",
    "    \"\"\" \n",
    "    select date, ticker, closeadj, closeunadj, lastupdated from sep_weekly \n",
    "    where date>='2010-01-01'\n",
    "    order by ticker, date, lastupdated    \n",
    "    \"\"\",\n",
    "    conn,\n",
    ")\n",
    "prices = prices.groupby([\"ticker\", \"date\"]).last()"
   ]
  },
  {
   "cell_type": "code",
   "execution_count": 7,
   "metadata": {
    "slideshow": {
     "slide_type": "slide"
    }
   },
   "outputs": [],
   "source": [
    "rets = prices.groupby(\n",
    "    \"ticker\", \n",
    "    group_keys=False\n",
    ").closeadj.pct_change()\n",
    "\n",
    "rets_annual = prices.groupby(\n",
    "    \"ticker\", \n",
    "    group_keys=False\n",
    ").closeadj.pct_change(52)\n",
    "\n",
    "rets_monthly = prices.groupby(\n",
    "    \"ticker\", \n",
    "    group_keys=False\n",
    ").closeadj.pct_change(4)\n",
    "\n",
    "mom = (1 + rets_annual) / (1 + rets_monthly) - 1"
   ]
  },
  {
   "cell_type": "code",
   "execution_count": 9,
   "metadata": {
    "slideshow": {
     "slide_type": "slide"
    }
   },
   "outputs": [],
   "source": [
    "df = pd.read_sql(\n",
    "    \"\"\" \n",
    "    select date, ticker, pb, marketcap, lastupdated from weekly \n",
    "    where date>='2010-01-01'\n",
    "    order by ticker, date, lastupdated    \n",
    "    \"\"\",\n",
    "    conn,\n",
    ")\n",
    "df = df.groupby([\"ticker\", \"date\"]).last()"
   ]
  },
  {
   "cell_type": "code",
   "execution_count": null,
   "metadata": {
    "slideshow": {
     "slide_type": "slide"
    }
   },
   "outputs": [],
   "source": [
    "df[\"close\"] = prices.closeunadj\n",
    "df[\"ret\"] = rets\n",
    "df[\"mom\"] = mom\n",
    "for col in [\"marketcap\", \"close\", \"mom\", \"pb\"]:\n",
    "    df[col] = df.groupby(\"ticker\", group_keys=False)[col].shift()\n",
    "df = df.dropna()"
   ]
  },
  {
   "cell_type": "code",
   "execution_count": null,
   "metadata": {
    "slideshow": {
     "slide_type": "slide"
    }
   },
   "outputs": [],
   "source": [
    "size_rank = df.groupby(\n",
    "    \"date\", \n",
    "    group_keys=False\n",
    ").marketcap.rank(ascending=False)\n",
    "\n",
    "df = df[size_rank>1000]\n",
    "df = df[df.close > 5]"
   ]
  },
  {
   "cell_type": "code",
   "execution_count": null,
   "metadata": {"slideshow": {"slide_type": "slide"}},
   "outputs": [],
   "source": [
    "df.to_csv(\"02_data.csv\")"
   ]
  }
 ],
 "metadata": {
  "kernelspec": {
   "display_name": "Python 3",
   "language": "python",
   "name": "python3"
  },
  "language_info": {
   "codemirror_mode": {
    "name": "ipython",
    "version": 3
   },
   "file_extension": ".py",
   "mimetype": "text/x-python",
   "name": "python",
   "nbconvert_exporter": "python",
   "pygments_lexer": "ipython3",
   "version": "3.10.11"
  }
 },
 "nbformat": 4,
 "nbformat_minor": 2
}
